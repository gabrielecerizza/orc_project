{
 "cells": [
  {
   "cell_type": "code",
   "execution_count": 1,
   "metadata": {},
   "outputs": [],
   "source": [
    "import gurobipy as gp\n",
    "import numpy as np\n",
    "from gurobipy import GRB\n",
    "\n",
    "from orc.primal import *\n",
    "from orc.utils import generate_problem"
   ]
  },
  {
   "cell_type": "code",
   "execution_count": 5,
   "metadata": {},
   "outputs": [
    {
     "name": "stdout",
     "output_type": "stream",
     "text": [
      "0\n",
      "1\n",
      "2\n",
      "3\n",
      "4\n",
      "5\n",
      "6\n",
      "7\n",
      "8\n",
      "9\n"
     ]
    }
   ],
   "source": [
    "res = []\n",
    "for i in range(10):\n",
    "    A, b = generate_problem(40, 200)\n",
    "    res.append(\n",
    "        (sum(chvatal(A, b)), \n",
    "         sum(dobson(A, b)), \n",
    "         sum(hall_hochbaum(A, b)))\n",
    "    )\n",
    "    print(i)"
   ]
  },
  {
   "cell_type": "code",
   "execution_count": 6,
   "metadata": {},
   "outputs": [
    {
     "data": {
      "text/plain": [
       "[(98.0, 76.0, 72.0),\n",
       " (99.0, 81.0, 73.0),\n",
       " (86.0, 70.0, 65.0),\n",
       " (94.0, 74.0, 69.0),\n",
       " (98.0, 78.0, 71.0),\n",
       " (92.0, 71.0, 67.0),\n",
       " (93.0, 81.0, 72.0),\n",
       " (99.0, 84.0, 74.0),\n",
       " (98.0, 79.0, 70.0),\n",
       " (101.0, 78.0, 73.0)]"
      ]
     },
     "execution_count": 6,
     "metadata": {},
     "output_type": "execute_result"
    }
   ],
   "source": [
    "res"
   ]
  },
  {
   "cell_type": "code",
   "execution_count": null,
   "metadata": {},
   "outputs": [],
   "source": [
    "A, b = generate_problem(10, 20)\n",
    "A, b"
   ]
  },
  {
   "cell_type": "code",
   "execution_count": null,
   "metadata": {},
   "outputs": [],
   "source": [
    "chvatal(A, b)"
   ]
  },
  {
   "cell_type": "code",
   "execution_count": null,
   "metadata": {},
   "outputs": [],
   "source": [
    "dobson(A, b)"
   ]
  },
  {
   "cell_type": "code",
   "execution_count": null,
   "metadata": {},
   "outputs": [],
   "source": [
    "hall_hochbaum(A, b)"
   ]
  }
 ],
 "metadata": {
  "kernelspec": {
   "display_name": "p3.11",
   "language": "python",
   "name": "python3"
  },
  "language_info": {
   "codemirror_mode": {
    "name": "ipython",
    "version": 3
   },
   "file_extension": ".py",
   "mimetype": "text/x-python",
   "name": "python",
   "nbconvert_exporter": "python",
   "pygments_lexer": "ipython3",
   "version": "3.11.2"
  },
  "orig_nbformat": 4
 },
 "nbformat": 4,
 "nbformat_minor": 2
}
