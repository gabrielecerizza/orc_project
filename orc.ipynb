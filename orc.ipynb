{
 "cells": [
  {
   "cell_type": "code",
   "execution_count": 1,
   "metadata": {},
   "outputs": [],
   "source": [
    "import json\n",
    "import time\n",
    "\n",
    "import gurobipy as gp\n",
    "import matplotlib as mpl\n",
    "import matplotlib.pyplot as plt\n",
    "import matplotlib_inline\n",
    "import numpy as np\n",
    "import pandas as pd\n",
    "from gurobipy import GRB\n",
    "from tqdm.auto import tqdm\n",
    "\n",
    "from orc.branch import (\n",
    "    branch_beasley, branch_reduced_costs, \n",
    "    branch_cost\n",
    ")\n",
    "from orc.callbacks import (\n",
    "    ColumnInclusionCallback,\n",
    "    LagrPenaltiesReductionCallback,\n",
    "    PrimalHeurCallback\n",
    ")\n",
    "from orc.data_structures import (\n",
    "    BranchAndBound, TimeLimitException\n",
    ")\n",
    "from orc.primal import dobson, greedy, hall_hochbaum\n",
    "from orc.relaxation import subgrad_opt, lp_rel\n",
    "from orc.utils import generate_problem\n",
    "\n",
    "mpl.rcParams[\"font.family\"] = [\"serif\"]\n",
    "mpl.rcParams[\"font.serif\"] = [\"cmr10\"]\n",
    "matplotlib_inline.backend_inline.set_matplotlib_formats(\"retina\")"
   ]
  },
  {
   "attachments": {},
   "cell_type": "markdown",
   "metadata": {},
   "source": [
    "# Primal heuristics comparisons"
   ]
  },
  {
   "attachments": {},
   "cell_type": "markdown",
   "metadata": {},
   "source": [
    "## Without fixed variables"
   ]
  },
  {
   "cell_type": "code",
   "execution_count": null,
   "metadata": {},
   "outputs": [],
   "source": [
    "table = []\n",
    "funcs = [(greedy, \"Greedy\"), (dobson, \"Dobson\"),\n",
    "         (hall_hochbaum, \"Hall-Hochbaum\")]\n",
    "for rows, cols in tqdm(\n",
    "    [(5, 10), (10, 20), (20, 50), (50, 100)], leave=False):\n",
    "    res = {\"Rows\": rows, \"Columns\": cols, \"Greedy\": 0, \n",
    "           \"Dobson\": 0, \"Hall-Hochbaum\": 0}\n",
    "    for i in tqdm(range(10)):\n",
    "        A, b = generate_problem(rows, cols)\n",
    "        v = []\n",
    "        for f, name in funcs:\n",
    "            ub = np.sum(A, axis=0) @ f(A, b, [], [])\n",
    "            v.append(ub)\n",
    "        j = np.argmin(v)\n",
    "        best = funcs[j][1]\n",
    "        res[best] += 1\n",
    "    table.append(res)"
   ]
  },
  {
   "cell_type": "code",
   "execution_count": null,
   "metadata": {},
   "outputs": [],
   "source": [
    "with open(\"results/primal.json\", \"w\") as f:\n",
    "    out = {\"output\": table}\n",
    "    json.dump(out, f)"
   ]
  },
  {
   "cell_type": "code",
   "execution_count": null,
   "metadata": {},
   "outputs": [],
   "source": [
    "with open(\"results/primal.json\", \"r\") as f:\n",
    "    table = json.load(f)[\"output\"]"
   ]
  },
  {
   "cell_type": "code",
   "execution_count": null,
   "metadata": {},
   "outputs": [],
   "source": [
    "df = pd.DataFrame(table)\n",
    "df = df.set_index([\"Rows\", \"Columns\"])\n",
    "df"
   ]
  },
  {
   "cell_type": "code",
   "execution_count": null,
   "metadata": {},
   "outputs": [],
   "source": [
    "s = df.style.highlight_max(axis=1, props=\"bfseries: ;\")\n",
    "print(s.to_latex(column_format=\"llccc\", \n",
    "                 hrules=True, \n",
    "                 position_float=\"centering\"))"
   ]
  },
  {
   "attachments": {},
   "cell_type": "markdown",
   "metadata": {},
   "source": [
    "## With fixed variables"
   ]
  },
  {
   "cell_type": "code",
   "execution_count": null,
   "metadata": {},
   "outputs": [],
   "source": [
    "np.random.seed(42)\n",
    "\n",
    "table = []\n",
    "funcs = [(greedy, \"Greedy\"), (dobson, \"Dobson\"),\n",
    "         (hall_hochbaum, \"Hall-Hochbaum\")]\n",
    "for rows, cols in tqdm(\n",
    "    [(5, 10), (10, 20), (20, 50), (50, 100)], leave=False):\n",
    "    res = {\"Rows\": rows, \"Cols\": cols, \"Greedy\": 0, \n",
    "           \"Dobson\": 0, \"Hall-Hochbaum\": 0}\n",
    "    for i in tqdm(range(10)):\n",
    "        A, b = generate_problem(rows, cols)\n",
    "        fixed_n = int(cols * 0.3) \n",
    "        fixed = np.random.choice(\n",
    "            A.shape[-1], fixed_n, replace=False)\n",
    "        x0 = fixed[:int(fixed_n / 2)]\n",
    "        x1 = fixed[int(fixed_n / 2) + 1:]\n",
    "        x = np.ones(A.shape[-1])\n",
    "        x[x0] = 0\n",
    "        if np.any(A @ x < b):\n",
    "            continue\n",
    "        v = []\n",
    "        for f, name in funcs:\n",
    "            ub = np.sum(A, axis=0) @ f(A, b, [], [])\n",
    "            v.append(ub)\n",
    "        j = np.argmin(v)\n",
    "        best = funcs[j][1]\n",
    "        res[best] += 1\n",
    "    table.append(res)"
   ]
  },
  {
   "cell_type": "code",
   "execution_count": null,
   "metadata": {},
   "outputs": [],
   "source": [
    "table"
   ]
  },
  {
   "attachments": {},
   "cell_type": "markdown",
   "metadata": {},
   "source": [
    "# Subgradient optimization lower bounds"
   ]
  },
  {
   "cell_type": "code",
   "execution_count": null,
   "metadata": {},
   "outputs": [],
   "source": [
    "data = {}\n",
    "omegas = [10, 20, 40, 50, 70, 100, 150, 200, 300]\n",
    "for rows, cols in tqdm(\n",
    "    [(10, 20), (20, 30), (40, 50), (50, 60)], leave=False):\n",
    "    res = []\n",
    "    for _ in range(10):\n",
    "        A, b = generate_problem(rows, cols)\n",
    "        x = hall_hochbaum(A, b, [], [])\n",
    "        ub = np.sum(A, axis=0) @ x\n",
    "\n",
    "        prob_res = []\n",
    "        for omega in omegas:\n",
    "            lb = subgrad_opt(A, b, ub, [], [], omega=omega)\n",
    "            prob_res.append(lb)\n",
    "\n",
    "        prob_res = np.array(prob_res)\n",
    "        if prob_res.max() == prob_res.min():\n",
    "            prob_res = np.ones_like(prob_res)\n",
    "        else:\n",
    "            prob_res = (prob_res - prob_res.min()) / \\\n",
    "                (prob_res.max() - prob_res.min())\n",
    "        res.append(prob_res)\n",
    "    \n",
    "    data[(rows, cols)] = list(zip(omegas,np.array(res).mean(axis=0)))"
   ]
  },
  {
   "cell_type": "code",
   "execution_count": null,
   "metadata": {},
   "outputs": [],
   "source": [
    "fig, ax = plt.subplots()\n",
    "for k, v in data.items():\n",
    "    x = np.array(v)[:,0]\n",
    "    y = np.array(v)[:,1]\n",
    "    ax.plot(x, y, label=f\"{k[0]} rows, {k[1]} columns\")\n",
    "ax.legend()\n",
    "ax.set_xlabel(\"Iterations\")\n",
    "ax.set_ylabel(\"Scaled lower bound\")\n",
    "ax.set_title(\"Subgradient optimization lower bounds\")\n",
    "plt.savefig(\"report/img/subgrad_lb.png\", \n",
    "            dpi=300, bbox_inches=\"tight\")"
   ]
  },
  {
   "cell_type": "code",
   "execution_count": null,
   "metadata": {},
   "outputs": [],
   "source": [
    "gap_ls = []\n",
    "for _, v in data.items():\n",
    "    gap_prob = []\n",
    "    for omega, val in v:\n",
    "        gap_prob.append(val)\n",
    "    gap_ls.append(gap_prob)\n",
    "\n",
    "# omega = 150 at index 6\n",
    "np.max(1 - np.array(gap_ls)[:,6]).round(3)"
   ]
  },
  {
   "attachments": {},
   "cell_type": "markdown",
   "metadata": {},
   "source": [
    "# Branch and Bound models"
   ]
  },
  {
   "cell_type": "code",
   "execution_count": 2,
   "metadata": {},
   "outputs": [],
   "source": [
    "lagr_callback = LagrPenaltiesReductionCallback()\n",
    "col_callback = ColumnInclusionCallback()\n",
    "primal_heur = PrimalHeurCallback()\n",
    "primal_heur_root = PrimalHeurCallback(only_root=True)\n",
    "\n",
    "models = {\n",
    "    \"Subgrad\": {\n",
    "        \"branch_strategy\": branch_reduced_costs, \n",
    "        \"lb_strategy\": subgrad_opt\n",
    "        },\n",
    "    \"SubgradPrimal\": {\n",
    "        \"branch_strategy\": branch_reduced_costs, \n",
    "        \"lb_strategy\": subgrad_opt,\n",
    "        \"callbacks\": [primal_heur]\n",
    "        },\n",
    "    \"SubgradPrimalRed\": {\n",
    "        \"branch_strategy\": branch_reduced_costs, \n",
    "        \"lb_strategy\": subgrad_opt,\n",
    "        \"callbacks\": [primal_heur, lagr_callback, col_callback]\n",
    "        },\n",
    "    \"SubgradPrimalRootRed\": {\n",
    "        \"branch_strategy\": branch_reduced_costs, \n",
    "        \"lb_strategy\": subgrad_opt,\n",
    "        \"callbacks\": [primal_heur_root, lagr_callback, col_callback]\n",
    "        },\n",
    "    \"SubgradPrimalRedBeasleyBranch\": {\n",
    "        \"branch_strategy\": branch_beasley, \n",
    "        \"lb_strategy\": subgrad_opt,\n",
    "        \"callbacks\": [primal_heur, lagr_callback, col_callback]\n",
    "        },\n",
    "    \"LPPrimalCost\": {\n",
    "        \"branch_strategy\": branch_cost, \n",
    "        \"lb_strategy\": lp_rel,\n",
    "        \"callbacks\": [primal_heur, lagr_callback, col_callback]},\n",
    "    \"LPPrimalRed\": {\n",
    "        \"branch_strategy\": branch_reduced_costs, \n",
    "        \"lb_strategy\": lp_rel,\n",
    "        \"callbacks\": [primal_heur, lagr_callback, col_callback]}\n",
    "}\n",
    "short_names = {\n",
    "    \"Gurobi\": \"Gurobi\",\n",
    "    \"Subgrad\": \"S\",\n",
    "    \"SubgradPrimal\": \"SP\",\n",
    "    \"SubgradPrimalRed\": \"SPR\",\n",
    "    \"SubgradPrimalRootRed\": \"SPRR\",\n",
    "    \"SubgradPrimalRedBeasleyBranch\": \"SPRB\",\n",
    "    \"LPPrimalCost\": \"LPC\",\n",
    "    \"LPPrimalRed\" : \"LPR\"\n",
    "}\n",
    "col_names = [\"S\", \"SP\", \"SPR\", \"SPRR\", \"SPRB\", \"LP\"]"
   ]
  },
  {
   "cell_type": "code",
   "execution_count": 3,
   "metadata": {},
   "outputs": [
    {
     "data": {
      "application/vnd.jupyter.widget-view+json": {
       "model_id": "66a270dc981c4538adecd00619b859a2",
       "version_major": 2,
       "version_minor": 0
      },
      "text/plain": [
       "Problem::   0%|          | 0/12 [00:00<?, ?it/s]"
      ]
     },
     "metadata": {},
     "output_type": "display_data"
    },
    {
     "name": "stdout",
     "output_type": "stream",
     "text": [
      "Set parameter Username\n",
      "Academic license - for non-commercial use only - expires 2024-06-16\n"
     ]
    },
    {
     "data": {
      "application/vnd.jupyter.widget-view+json": {
       "model_id": "bba380382a284484a734d2e07f80b6f6",
       "version_major": 2,
       "version_minor": 0
      },
      "text/plain": [
       "Model::   0%|          | 0/7 [00:00<?, ?it/s]"
      ]
     },
     "metadata": {},
     "output_type": "display_data"
    },
    {
     "data": {
      "application/vnd.jupyter.widget-view+json": {
       "model_id": "fbcd7320a7314c7dae8b62e2ee57805c",
       "version_major": 2,
       "version_minor": 0
      },
      "text/plain": [
       "Model::   0%|          | 0/7 [00:00<?, ?it/s]"
      ]
     },
     "metadata": {},
     "output_type": "display_data"
    },
    {
     "data": {
      "application/vnd.jupyter.widget-view+json": {
       "model_id": "fd4a12318045415eb4208d715e4a066d",
       "version_major": 2,
       "version_minor": 0
      },
      "text/plain": [
       "Model::   0%|          | 0/7 [00:00<?, ?it/s]"
      ]
     },
     "metadata": {},
     "output_type": "display_data"
    },
    {
     "data": {
      "application/vnd.jupyter.widget-view+json": {
       "model_id": "cf49bdf0aa2b43c58c6d2641e2e8013b",
       "version_major": 2,
       "version_minor": 0
      },
      "text/plain": [
       "Model::   0%|          | 0/7 [00:00<?, ?it/s]"
      ]
     },
     "metadata": {},
     "output_type": "display_data"
    },
    {
     "data": {
      "application/vnd.jupyter.widget-view+json": {
       "model_id": "7b612ec32a044147895b929737850a84",
       "version_major": 2,
       "version_minor": 0
      },
      "text/plain": [
       "Model::   0%|          | 0/7 [00:00<?, ?it/s]"
      ]
     },
     "metadata": {},
     "output_type": "display_data"
    },
    {
     "data": {
      "application/vnd.jupyter.widget-view+json": {
       "model_id": "330176524714441ea3df373e24f055eb",
       "version_major": 2,
       "version_minor": 0
      },
      "text/plain": [
       "Model::   0%|          | 0/7 [00:00<?, ?it/s]"
      ]
     },
     "metadata": {},
     "output_type": "display_data"
    },
    {
     "data": {
      "application/vnd.jupyter.widget-view+json": {
       "model_id": "09dc82a75b0a4041b3ed0a116ce1140d",
       "version_major": 2,
       "version_minor": 0
      },
      "text/plain": [
       "Model::   0%|          | 0/7 [00:00<?, ?it/s]"
      ]
     },
     "metadata": {},
     "output_type": "display_data"
    },
    {
     "data": {
      "application/vnd.jupyter.widget-view+json": {
       "model_id": "0f70edc4f2a54b288c68f54ec3f86980",
       "version_major": 2,
       "version_minor": 0
      },
      "text/plain": [
       "Model::   0%|          | 0/7 [00:00<?, ?it/s]"
      ]
     },
     "metadata": {},
     "output_type": "display_data"
    },
    {
     "data": {
      "application/vnd.jupyter.widget-view+json": {
       "model_id": "fad87c1354e8434987cb4e2e43471bc0",
       "version_major": 2,
       "version_minor": 0
      },
      "text/plain": [
       "Model::   0%|          | 0/7 [00:00<?, ?it/s]"
      ]
     },
     "metadata": {},
     "output_type": "display_data"
    },
    {
     "data": {
      "application/vnd.jupyter.widget-view+json": {
       "model_id": "bb9c6eb1b2da4f7c8a423613f8becf26",
       "version_major": 2,
       "version_minor": 0
      },
      "text/plain": [
       "Model::   0%|          | 0/7 [00:00<?, ?it/s]"
      ]
     },
     "metadata": {},
     "output_type": "display_data"
    },
    {
     "data": {
      "application/vnd.jupyter.widget-view+json": {
       "model_id": "cf16cbf8ba934050bc26c46b17c82704",
       "version_major": 2,
       "version_minor": 0
      },
      "text/plain": [
       "Model::   0%|          | 0/7 [00:00<?, ?it/s]"
      ]
     },
     "metadata": {},
     "output_type": "display_data"
    },
    {
     "data": {
      "application/vnd.jupyter.widget-view+json": {
       "model_id": "03819f0da99b47c08eba318bb159602e",
       "version_major": 2,
       "version_minor": 0
      },
      "text/plain": [
       "Model::   0%|          | 0/7 [00:00<?, ?it/s]"
      ]
     },
     "metadata": {},
     "output_type": "display_data"
    }
   ],
   "source": [
    "data = {}\n",
    "time_limit = 60 * 5\n",
    "for rows, cols, density in tqdm(\n",
    "    [(5, 10, 0.3), (5, 10, 0.5), (5, 10, 0.7), \n",
    "     (10, 20, 0.3), (10, 20, 0.5), (10, 20, 0.7),\n",
    "     (13, 22, 0.3), (13, 22, 0.5), (13, 22, 0.7),\n",
    "     (15, 25, 0.3), (15, 25, 0.5), (15, 25, 0.7)],\n",
    "     desc=\"Problem:\", leave=False):\n",
    "    res = {}\n",
    "    A, b = generate_problem(rows, cols, density)\n",
    "    \n",
    "    start = time.process_time()\n",
    "    m = gp.Model()\n",
    "    m.Params.LogToConsole = 0\n",
    "    x = m.addMVar(A.shape[-1], vtype=GRB.BINARY, name=\"x\")\n",
    "    m.setObjective(np.sum(A, axis=0) @ x)\n",
    "    m.addConstr(A @ x >= b)\n",
    "    m.optimize()\n",
    "    elapsed = time.process_time() - start\n",
    "    opt_gurobi = m.getObjective().getValue()\n",
    "    \n",
    "    x = []\n",
    "    for v in m.getVars():\n",
    "        x.append(v.x)\n",
    "    x = np.array(x)\n",
    "    \n",
    "    # Make sure that the solution is feasible\n",
    "    assert np.all(A @ x >= b)\n",
    "\n",
    "    res[\"Gurobi\"] = (elapsed, m.NodeCount)\n",
    "\n",
    "    for model, config in tqdm(\n",
    "        models.items(), desc=\"Model:\", leave=False):\n",
    "        start = time.process_time()\n",
    "        bb = BranchAndBound(**config, time_start=start, \n",
    "                            time_limit=time_limit)\n",
    "        try:\n",
    "            bb.search(A, b)\n",
    "            elapsed = time.process_time() - start\n",
    "            x = np.zeros(A.shape[-1])\n",
    "            x[bb.best.x1] = 1\n",
    "            \n",
    "            # Make sure that the solution is feasible\n",
    "            assert np.all(A @ x >= b)\n",
    "            opt = np.sum(A, axis=0) @ x\n",
    "\n",
    "            # Check that the solution is optimal\n",
    "            assert opt == opt_gurobi\n",
    "            res[model] = (elapsed, bb.node_count)\n",
    "        except TimeLimitException:\n",
    "            res[model] = (np.nan, np.nan)\n",
    "        \n",
    "    data[(rows, cols, density)] = res"
   ]
  },
  {
   "cell_type": "code",
   "execution_count": null,
   "metadata": {},
   "outputs": [],
   "source": [
    "[(5, 10, 0.3), (5, 10, 0.5), (5, 10, 0.7), \n",
    "     (10, 20, 0.3), (10, 20, 0.5), (10, 20, 0.7),\n",
    "     (13, 22, 0.3), (13, 22, 0.5), (13, 22, 0.7),\n",
    "     (15, 25, 0.3), (15, 25, 0.5), (15, 25, 0.7),\n",
    "     (20, 40, 0.3), (20, 40, 0.5), (20, 40, 0.7)]"
   ]
  },
  {
   "cell_type": "code",
   "execution_count": 4,
   "metadata": {},
   "outputs": [],
   "source": [
    "with open(\"results/models.json\", \"w\") as f:\n",
    "    nd = {str(k): v for k, v in data.items()}\n",
    "    json.dump(nd, f)"
   ]
  },
  {
   "cell_type": "code",
   "execution_count": 5,
   "metadata": {},
   "outputs": [],
   "source": [
    "with open(\"results/models.json\", \"r\") as f:\n",
    "    results = json.load(f)"
   ]
  },
  {
   "cell_type": "code",
   "execution_count": 6,
   "metadata": {},
   "outputs": [
    {
     "data": {
      "text/html": [
       "<div>\n",
       "<style scoped>\n",
       "    .dataframe tbody tr th:only-of-type {\n",
       "        vertical-align: middle;\n",
       "    }\n",
       "\n",
       "    .dataframe tbody tr th {\n",
       "        vertical-align: top;\n",
       "    }\n",
       "\n",
       "    .dataframe thead th {\n",
       "        text-align: right;\n",
       "    }\n",
       "</style>\n",
       "<table border=\"1\" class=\"dataframe\">\n",
       "  <thead>\n",
       "    <tr style=\"text-align: right;\">\n",
       "      <th></th>\n",
       "      <th></th>\n",
       "      <th></th>\n",
       "      <th>Gurobi</th>\n",
       "      <th>S</th>\n",
       "      <th>SP</th>\n",
       "      <th>SPR</th>\n",
       "      <th>SPRR</th>\n",
       "      <th>SPRB</th>\n",
       "      <th>LPC</th>\n",
       "      <th>LPR</th>\n",
       "    </tr>\n",
       "    <tr>\n",
       "      <th>Rows</th>\n",
       "      <th>Columns</th>\n",
       "      <th>Density</th>\n",
       "      <th></th>\n",
       "      <th></th>\n",
       "      <th></th>\n",
       "      <th></th>\n",
       "      <th></th>\n",
       "      <th></th>\n",
       "      <th></th>\n",
       "      <th></th>\n",
       "    </tr>\n",
       "  </thead>\n",
       "  <tbody>\n",
       "    <tr>\n",
       "      <th rowspan=\"3\" valign=\"top\">5</th>\n",
       "      <th rowspan=\"3\" valign=\"top\">10</th>\n",
       "      <th>0.3</th>\n",
       "      <td>0.00</td>\n",
       "      <td>0.00</td>\n",
       "      <td>0.03</td>\n",
       "      <td>0.00</td>\n",
       "      <td>0.00</td>\n",
       "      <td>0.02</td>\n",
       "      <td>0.02</td>\n",
       "      <td>0.00</td>\n",
       "    </tr>\n",
       "    <tr>\n",
       "      <th>0.5</th>\n",
       "      <td>0.00</td>\n",
       "      <td>0.06</td>\n",
       "      <td>0.05</td>\n",
       "      <td>0.08</td>\n",
       "      <td>0.00</td>\n",
       "      <td>0.05</td>\n",
       "      <td>0.09</td>\n",
       "      <td>0.05</td>\n",
       "    </tr>\n",
       "    <tr>\n",
       "      <th>0.7</th>\n",
       "      <td>0.00</td>\n",
       "      <td>0.02</td>\n",
       "      <td>0.03</td>\n",
       "      <td>0.02</td>\n",
       "      <td>0.00</td>\n",
       "      <td>0.02</td>\n",
       "      <td>0.16</td>\n",
       "      <td>0.05</td>\n",
       "    </tr>\n",
       "    <tr>\n",
       "      <th rowspan=\"3\" valign=\"top\">10</th>\n",
       "      <th rowspan=\"3\" valign=\"top\">20</th>\n",
       "      <th>0.3</th>\n",
       "      <td>0.02</td>\n",
       "      <td>3.58</td>\n",
       "      <td>4.06</td>\n",
       "      <td>0.98</td>\n",
       "      <td>0.91</td>\n",
       "      <td>0.78</td>\n",
       "      <td>20.77</td>\n",
       "      <td>2.23</td>\n",
       "    </tr>\n",
       "    <tr>\n",
       "      <th>0.5</th>\n",
       "      <td>0.00</td>\n",
       "      <td>7.02</td>\n",
       "      <td>6.64</td>\n",
       "      <td>1.55</td>\n",
       "      <td>1.83</td>\n",
       "      <td>1.84</td>\n",
       "      <td>41.14</td>\n",
       "      <td>22.56</td>\n",
       "    </tr>\n",
       "    <tr>\n",
       "      <th>0.7</th>\n",
       "      <td>0.03</td>\n",
       "      <td>6.03</td>\n",
       "      <td>4.62</td>\n",
       "      <td>0.41</td>\n",
       "      <td>0.34</td>\n",
       "      <td>0.52</td>\n",
       "      <td>23.56</td>\n",
       "      <td>7.78</td>\n",
       "    </tr>\n",
       "    <tr>\n",
       "      <th rowspan=\"3\" valign=\"top\">13</th>\n",
       "      <th rowspan=\"3\" valign=\"top\">22</th>\n",
       "      <th>0.3</th>\n",
       "      <td>0.00</td>\n",
       "      <td>11.53</td>\n",
       "      <td>13.83</td>\n",
       "      <td>2.19</td>\n",
       "      <td>2.11</td>\n",
       "      <td>0.61</td>\n",
       "      <td>43.98</td>\n",
       "      <td>10.77</td>\n",
       "    </tr>\n",
       "    <tr>\n",
       "      <th>0.5</th>\n",
       "      <td>0.03</td>\n",
       "      <td>4.34</td>\n",
       "      <td>5.05</td>\n",
       "      <td>0.62</td>\n",
       "      <td>0.58</td>\n",
       "      <td>0.53</td>\n",
       "      <td>172.36</td>\n",
       "      <td>33.48</td>\n",
       "    </tr>\n",
       "    <tr>\n",
       "      <th>0.7</th>\n",
       "      <td>0.00</td>\n",
       "      <td>9.78</td>\n",
       "      <td>8.47</td>\n",
       "      <td>0.33</td>\n",
       "      <td>0.34</td>\n",
       "      <td>0.58</td>\n",
       "      <td>157.39</td>\n",
       "      <td>51.47</td>\n",
       "    </tr>\n",
       "    <tr>\n",
       "      <th rowspan=\"3\" valign=\"top\">15</th>\n",
       "      <th rowspan=\"3\" valign=\"top\">25</th>\n",
       "      <th>0.3</th>\n",
       "      <td>0.02</td>\n",
       "      <td>7.14</td>\n",
       "      <td>10.41</td>\n",
       "      <td>1.44</td>\n",
       "      <td>1.92</td>\n",
       "      <td>0.89</td>\n",
       "      <td>177.73</td>\n",
       "      <td>70.83</td>\n",
       "    </tr>\n",
       "    <tr>\n",
       "      <th>0.5</th>\n",
       "      <td>0.06</td>\n",
       "      <td>8.12</td>\n",
       "      <td>7.95</td>\n",
       "      <td>1.11</td>\n",
       "      <td>1.03</td>\n",
       "      <td>1.20</td>\n",
       "      <td>NaN</td>\n",
       "      <td>171.17</td>\n",
       "    </tr>\n",
       "    <tr>\n",
       "      <th>0.7</th>\n",
       "      <td>0.06</td>\n",
       "      <td>30.38</td>\n",
       "      <td>27.19</td>\n",
       "      <td>3.61</td>\n",
       "      <td>3.83</td>\n",
       "      <td>3.84</td>\n",
       "      <td>NaN</td>\n",
       "      <td>NaN</td>\n",
       "    </tr>\n",
       "  </tbody>\n",
       "</table>\n",
       "</div>"
      ],
      "text/plain": [
       "                      Gurobi      S     SP   SPR  SPRR  SPRB     LPC     LPR\n",
       "Rows Columns Density                                                        \n",
       "5    10      0.3        0.00   0.00   0.03  0.00  0.00  0.02    0.02    0.00\n",
       "             0.5        0.00   0.06   0.05  0.08  0.00  0.05    0.09    0.05\n",
       "             0.7        0.00   0.02   0.03  0.02  0.00  0.02    0.16    0.05\n",
       "10   20      0.3        0.02   3.58   4.06  0.98  0.91  0.78   20.77    2.23\n",
       "             0.5        0.00   7.02   6.64  1.55  1.83  1.84   41.14   22.56\n",
       "             0.7        0.03   6.03   4.62  0.41  0.34  0.52   23.56    7.78\n",
       "13   22      0.3        0.00  11.53  13.83  2.19  2.11  0.61   43.98   10.77\n",
       "             0.5        0.03   4.34   5.05  0.62  0.58  0.53  172.36   33.48\n",
       "             0.7        0.00   9.78   8.47  0.33  0.34  0.58  157.39   51.47\n",
       "15   25      0.3        0.02   7.14  10.41  1.44  1.92  0.89  177.73   70.83\n",
       "             0.5        0.06   8.12   7.95  1.11  1.03  1.20     NaN  171.17\n",
       "             0.7        0.06  30.38  27.19  3.61  3.83  3.84     NaN     NaN"
      ]
     },
     "execution_count": 6,
     "metadata": {},
     "output_type": "execute_result"
    }
   ],
   "source": [
    "time_dict = {\n",
    "    tuple(k[1:-1].split(\", \")): {\n",
    "        short_names[model]: values[0] for model, values in v.items()}  \n",
    "    for k, v in results.items()}\n",
    "df = pd.DataFrame(time_dict)\n",
    "df = df.T.round(2)\n",
    "df = df.rename_axis([\"Rows\", \"Columns\", \"Density\"])\n",
    "df"
   ]
  },
  {
   "cell_type": "code",
   "execution_count": null,
   "metadata": {},
   "outputs": [],
   "source": [
    "s = df.style.format(\"{:.2f}\") \\\n",
    "            .highlight_min(subset=col_names, \n",
    "                           axis=1, props=\"bfseries: ;\")\n",
    "print(s.to_latex(column_format=\"lllccccccc\", \n",
    "                 hrules=True, \n",
    "                 clines=\"skip-last;data\",\n",
    "                 caption=\"Runtime of different configurations of the branch-and-bound algorithm over randomly generated TRAP instances with different numbers of rows and columns and different densities. Configurations whose runtime exceeded 5 minutes were assigned nan values. The best result obtained by algorithms other than Gurobi is highlighted in bold for each problem instance. The runtime was measured in seconds.\",\n",
    "                 label=\"tab:results:runtime\", \n",
    "                 position_float=\"centering\"))"
   ]
  },
  {
   "cell_type": "code",
   "execution_count": 7,
   "metadata": {},
   "outputs": [
    {
     "data": {
      "text/html": [
       "<div>\n",
       "<style scoped>\n",
       "    .dataframe tbody tr th:only-of-type {\n",
       "        vertical-align: middle;\n",
       "    }\n",
       "\n",
       "    .dataframe tbody tr th {\n",
       "        vertical-align: top;\n",
       "    }\n",
       "\n",
       "    .dataframe thead th {\n",
       "        text-align: right;\n",
       "    }\n",
       "</style>\n",
       "<table border=\"1\" class=\"dataframe\">\n",
       "  <thead>\n",
       "    <tr style=\"text-align: right;\">\n",
       "      <th></th>\n",
       "      <th></th>\n",
       "      <th></th>\n",
       "      <th>Gurobi</th>\n",
       "      <th>S</th>\n",
       "      <th>SP</th>\n",
       "      <th>SPR</th>\n",
       "      <th>SPRR</th>\n",
       "      <th>SPRB</th>\n",
       "      <th>LPC</th>\n",
       "      <th>LPR</th>\n",
       "    </tr>\n",
       "    <tr>\n",
       "      <th>Rows</th>\n",
       "      <th>Columns</th>\n",
       "      <th>Density</th>\n",
       "      <th></th>\n",
       "      <th></th>\n",
       "      <th></th>\n",
       "      <th></th>\n",
       "      <th></th>\n",
       "      <th></th>\n",
       "      <th></th>\n",
       "      <th></th>\n",
       "    </tr>\n",
       "  </thead>\n",
       "  <tbody>\n",
       "    <tr>\n",
       "      <th rowspan=\"3\" valign=\"top\">5</th>\n",
       "      <th rowspan=\"3\" valign=\"top\">10</th>\n",
       "      <th>0.3</th>\n",
       "      <td>0.0</td>\n",
       "      <td>17.0</td>\n",
       "      <td>15.0</td>\n",
       "      <td>5.0</td>\n",
       "      <td>5.0</td>\n",
       "      <td>7.0</td>\n",
       "      <td>23.0</td>\n",
       "      <td>17.0</td>\n",
       "    </tr>\n",
       "    <tr>\n",
       "      <th>0.5</th>\n",
       "      <td>1.0</td>\n",
       "      <td>179.0</td>\n",
       "      <td>185.0</td>\n",
       "      <td>63.0</td>\n",
       "      <td>63.0</td>\n",
       "      <td>63.0</td>\n",
       "      <td>183.0</td>\n",
       "      <td>143.0</td>\n",
       "    </tr>\n",
       "    <tr>\n",
       "      <th>0.7</th>\n",
       "      <td>1.0</td>\n",
       "      <td>75.0</td>\n",
       "      <td>85.0</td>\n",
       "      <td>23.0</td>\n",
       "      <td>23.0</td>\n",
       "      <td>23.0</td>\n",
       "      <td>323.0</td>\n",
       "      <td>203.0</td>\n",
       "    </tr>\n",
       "    <tr>\n",
       "      <th rowspan=\"3\" valign=\"top\">10</th>\n",
       "      <th rowspan=\"3\" valign=\"top\">20</th>\n",
       "      <th>0.3</th>\n",
       "      <td>1.0</td>\n",
       "      <td>9131.0</td>\n",
       "      <td>8659.0</td>\n",
       "      <td>1607.0</td>\n",
       "      <td>1761.0</td>\n",
       "      <td>1205.0</td>\n",
       "      <td>55541.0</td>\n",
       "      <td>6929.0</td>\n",
       "    </tr>\n",
       "    <tr>\n",
       "      <th>0.5</th>\n",
       "      <td>50.0</td>\n",
       "      <td>15421.0</td>\n",
       "      <td>14115.0</td>\n",
       "      <td>2469.0</td>\n",
       "      <td>2781.0</td>\n",
       "      <td>2337.0</td>\n",
       "      <td>124795.0</td>\n",
       "      <td>63663.0</td>\n",
       "    </tr>\n",
       "    <tr>\n",
       "      <th>0.7</th>\n",
       "      <td>25.0</td>\n",
       "      <td>14057.0</td>\n",
       "      <td>8705.0</td>\n",
       "      <td>609.0</td>\n",
       "      <td>607.0</td>\n",
       "      <td>559.0</td>\n",
       "      <td>59405.0</td>\n",
       "      <td>22905.0</td>\n",
       "    </tr>\n",
       "    <tr>\n",
       "      <th rowspan=\"3\" valign=\"top\">13</th>\n",
       "      <th rowspan=\"3\" valign=\"top\">22</th>\n",
       "      <th>0.3</th>\n",
       "      <td>1.0</td>\n",
       "      <td>25257.0</td>\n",
       "      <td>26033.0</td>\n",
       "      <td>2427.0</td>\n",
       "      <td>2849.0</td>\n",
       "      <td>907.0</td>\n",
       "      <td>117271.0</td>\n",
       "      <td>31313.0</td>\n",
       "    </tr>\n",
       "    <tr>\n",
       "      <th>0.5</th>\n",
       "      <td>1.0</td>\n",
       "      <td>9147.0</td>\n",
       "      <td>8837.0</td>\n",
       "      <td>949.0</td>\n",
       "      <td>951.0</td>\n",
       "      <td>795.0</td>\n",
       "      <td>416059.0</td>\n",
       "      <td>89971.0</td>\n",
       "    </tr>\n",
       "    <tr>\n",
       "      <th>0.7</th>\n",
       "      <td>1.0</td>\n",
       "      <td>18929.0</td>\n",
       "      <td>14419.0</td>\n",
       "      <td>371.0</td>\n",
       "      <td>501.0</td>\n",
       "      <td>453.0</td>\n",
       "      <td>462461.0</td>\n",
       "      <td>128685.0</td>\n",
       "    </tr>\n",
       "    <tr>\n",
       "      <th rowspan=\"3\" valign=\"top\">15</th>\n",
       "      <th rowspan=\"3\" valign=\"top\">25</th>\n",
       "      <th>0.3</th>\n",
       "      <td>1.0</td>\n",
       "      <td>13387.0</td>\n",
       "      <td>13475.0</td>\n",
       "      <td>1631.0</td>\n",
       "      <td>2077.0</td>\n",
       "      <td>833.0</td>\n",
       "      <td>439177.0</td>\n",
       "      <td>115843.0</td>\n",
       "    </tr>\n",
       "    <tr>\n",
       "      <th>0.5</th>\n",
       "      <td>59.0</td>\n",
       "      <td>15903.0</td>\n",
       "      <td>14897.0</td>\n",
       "      <td>1731.0</td>\n",
       "      <td>1657.0</td>\n",
       "      <td>1541.0</td>\n",
       "      <td>NaN</td>\n",
       "      <td>402161.0</td>\n",
       "    </tr>\n",
       "    <tr>\n",
       "      <th>0.7</th>\n",
       "      <td>384.0</td>\n",
       "      <td>53149.0</td>\n",
       "      <td>50545.0</td>\n",
       "      <td>4549.0</td>\n",
       "      <td>5315.0</td>\n",
       "      <td>4841.0</td>\n",
       "      <td>NaN</td>\n",
       "      <td>NaN</td>\n",
       "    </tr>\n",
       "  </tbody>\n",
       "</table>\n",
       "</div>"
      ],
      "text/plain": [
       "                      Gurobi        S       SP     SPR    SPRR    SPRB  \\\n",
       "Rows Columns Density                                                     \n",
       "5    10      0.3         0.0     17.0     15.0     5.0     5.0     7.0   \n",
       "             0.5         1.0    179.0    185.0    63.0    63.0    63.0   \n",
       "             0.7         1.0     75.0     85.0    23.0    23.0    23.0   \n",
       "10   20      0.3         1.0   9131.0   8659.0  1607.0  1761.0  1205.0   \n",
       "             0.5        50.0  15421.0  14115.0  2469.0  2781.0  2337.0   \n",
       "             0.7        25.0  14057.0   8705.0   609.0   607.0   559.0   \n",
       "13   22      0.3         1.0  25257.0  26033.0  2427.0  2849.0   907.0   \n",
       "             0.5         1.0   9147.0   8837.0   949.0   951.0   795.0   \n",
       "             0.7         1.0  18929.0  14419.0   371.0   501.0   453.0   \n",
       "15   25      0.3         1.0  13387.0  13475.0  1631.0  2077.0   833.0   \n",
       "             0.5        59.0  15903.0  14897.0  1731.0  1657.0  1541.0   \n",
       "             0.7       384.0  53149.0  50545.0  4549.0  5315.0  4841.0   \n",
       "\n",
       "                           LPC       LPR  \n",
       "Rows Columns Density                      \n",
       "5    10      0.3          23.0      17.0  \n",
       "             0.5         183.0     143.0  \n",
       "             0.7         323.0     203.0  \n",
       "10   20      0.3       55541.0    6929.0  \n",
       "             0.5      124795.0   63663.0  \n",
       "             0.7       59405.0   22905.0  \n",
       "13   22      0.3      117271.0   31313.0  \n",
       "             0.5      416059.0   89971.0  \n",
       "             0.7      462461.0  128685.0  \n",
       "15   25      0.3      439177.0  115843.0  \n",
       "             0.5           NaN  402161.0  \n",
       "             0.7           NaN       NaN  "
      ]
     },
     "execution_count": 7,
     "metadata": {},
     "output_type": "execute_result"
    }
   ],
   "source": [
    "nodes_dict = {\n",
    "    tuple(k[1:-1].split(\", \")): {\n",
    "        short_names[model]: values[1] for model, values in v.items()}  \n",
    "    for k, v in results.items()}\n",
    "df = pd.DataFrame(nodes_dict)\n",
    "df = df.T\n",
    "df = df.rename_axis([\"Rows\", \"Columns\", \"Density\"])\n",
    "df"
   ]
  },
  {
   "cell_type": "code",
   "execution_count": null,
   "metadata": {},
   "outputs": [],
   "source": [
    "s = df.style.format(\"{:.0f}\") \\\n",
    "            .highlight_min(subset=col_names, \n",
    "                           axis=1, props=\"bfseries: ;\")\n",
    "print(s.to_latex(column_format=\"lllccccccc\", \n",
    "                 hrules=True, \n",
    "                 clines=\"skip-last;data\",\n",
    "                 caption=\"Number of nodes generated by different configurations of the branch-and-bound algorithm over randomly generated TRAP instances with different numbers of rows and columns and different densities. Configurations whose runtime exceeded 5 minutes were assigned nan values. The best result obtained by algorithms other than Gurobi is highlighted in bold for each problem instance.\",\n",
    "                 label=\"tab:results:nodes\", \n",
    "                 position_float=\"centering\"))"
   ]
  }
 ],
 "metadata": {
  "kernelspec": {
   "display_name": "p3.11",
   "language": "python",
   "name": "python3"
  },
  "language_info": {
   "codemirror_mode": {
    "name": "ipython",
    "version": 3
   },
   "file_extension": ".py",
   "mimetype": "text/x-python",
   "name": "python",
   "nbconvert_exporter": "python",
   "pygments_lexer": "ipython3",
   "version": "3.11.2"
  },
  "orig_nbformat": 4
 },
 "nbformat": 4,
 "nbformat_minor": 2
}
