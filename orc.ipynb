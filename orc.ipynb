{
 "cells": [
  {
   "cell_type": "code",
   "execution_count": 1,
   "metadata": {},
   "outputs": [],
   "source": [
    "import json\n",
    "import time\n",
    "\n",
    "import gurobipy as gp\n",
    "import matplotlib as mpl\n",
    "import matplotlib.pyplot as plt\n",
    "import matplotlib_inline\n",
    "import numpy as np\n",
    "import pandas as pd\n",
    "from gurobipy import GRB\n",
    "from tqdm.auto import tqdm\n",
    "\n",
    "from orc.branch import (\n",
    "    branch_beasley, branch_reduced_costs, \n",
    "    branch_lp\n",
    ")\n",
    "from orc.callbacks import (\n",
    "    ColumnInclusionCallback,\n",
    "    LagrPenaltiesReductionCallback,\n",
    "    PrimalHeurCallback\n",
    ")\n",
    "from orc.data_structures import (\n",
    "    BranchAndBound, TimeLimitException\n",
    ")\n",
    "from orc.primal import dobson, greedy, hall_hochbaum\n",
    "from orc.relaxation import subgrad_opt, lp_rel\n",
    "from orc.utils import generate_problem\n",
    "\n",
    "mpl.rcParams[\"font.family\"] = [\"serif\"]\n",
    "mpl.rcParams[\"font.serif\"] = [\"cmr10\"]\n",
    "matplotlib_inline.backend_inline.set_matplotlib_formats(\"retina\")"
   ]
  },
  {
   "attachments": {},
   "cell_type": "markdown",
   "metadata": {},
   "source": [
    "# Primal heuristics comparisons"
   ]
  },
  {
   "attachments": {},
   "cell_type": "markdown",
   "metadata": {},
   "source": [
    "## Without fixed variables"
   ]
  },
  {
   "cell_type": "code",
   "execution_count": null,
   "metadata": {},
   "outputs": [],
   "source": [
    "table = []\n",
    "funcs = [(greedy, \"Greedy\"), (dobson, \"Dobson\"),\n",
    "         (hall_hochbaum, \"Hall-Hochbaum\")]\n",
    "for rows, cols in tqdm(\n",
    "    [(5, 10), (10, 20), (20, 50), (50, 100)], leave=False):\n",
    "    res = {\"Rows\": rows, \"Cols\": cols, \"Greedy\": 0, \n",
    "           \"Dobson\": 0, \"Hall-Hochbaum\": 0}\n",
    "    for i in tqdm(range(10)):\n",
    "        A, b = generate_problem(rows, cols)\n",
    "        v = []\n",
    "        for f, name in funcs:\n",
    "            ub = np.sum(A, axis=0) @ f(A, b, [], [])\n",
    "            v.append(ub)\n",
    "        j = np.argmin(v)\n",
    "        best = funcs[j][1]\n",
    "        res[best] += 1\n",
    "    table.append(res)"
   ]
  },
  {
   "cell_type": "code",
   "execution_count": null,
   "metadata": {},
   "outputs": [],
   "source": [
    "with open(\"results/primal.json\", \"w\") as f:\n",
    "    out = {\"output\": table}\n",
    "    json.dump(out, f)"
   ]
  },
  {
   "cell_type": "code",
   "execution_count": null,
   "metadata": {},
   "outputs": [],
   "source": [
    "with open(\"results/primal.json\", \"r\") as f:\n",
    "    table = json.load(f)[\"output\"]"
   ]
  },
  {
   "cell_type": "code",
   "execution_count": null,
   "metadata": {},
   "outputs": [],
   "source": [
    "df = pd.DataFrame(table)\n",
    "df = df.set_index([\"Rows\", \"Cols\"])\n",
    "df"
   ]
  },
  {
   "cell_type": "code",
   "execution_count": null,
   "metadata": {},
   "outputs": [],
   "source": [
    "df.style.to_latex(column_format=\"llccc\")"
   ]
  },
  {
   "attachments": {},
   "cell_type": "markdown",
   "metadata": {},
   "source": [
    "## With fixed variables"
   ]
  },
  {
   "cell_type": "code",
   "execution_count": null,
   "metadata": {},
   "outputs": [],
   "source": [
    "np.random.seed(42)\n",
    "\n",
    "table = []\n",
    "funcs = [(greedy, \"Greedy\"), (dobson, \"Dobson\"),\n",
    "         (hall_hochbaum, \"Hall-Hochbaum\")]\n",
    "for rows, cols in tqdm(\n",
    "    [(5, 10), (10, 20), (20, 50), (50, 100)], leave=False):\n",
    "    res = {\"Rows\": rows, \"Cols\": cols, \"Greedy\": 0, \n",
    "           \"Dobson\": 0, \"Hall-Hochbaum\": 0}\n",
    "    for i in tqdm(range(10)):\n",
    "        A, b = generate_problem(rows, cols)\n",
    "        fixed_n = int(cols * 0.3) \n",
    "        fixed = np.random.choice(\n",
    "            A.shape[-1], fixed_n, replace=False)\n",
    "        x0 = fixed[:int(fixed_n / 2)]\n",
    "        x1 = fixed[int(fixed_n / 2) + 1:]\n",
    "        x = np.ones(A.shape[-1])\n",
    "        x[x0] = 0\n",
    "        if np.any(A @ x < b):\n",
    "            continue\n",
    "        v = []\n",
    "        for f, name in funcs:\n",
    "            ub = np.sum(A, axis=0) @ f(A, b, [], [])\n",
    "            v.append(ub)\n",
    "        j = np.argmin(v)\n",
    "        best = funcs[j][1]\n",
    "        res[best] += 1\n",
    "    table.append(res)"
   ]
  },
  {
   "cell_type": "code",
   "execution_count": null,
   "metadata": {},
   "outputs": [],
   "source": [
    "table"
   ]
  },
  {
   "attachments": {},
   "cell_type": "markdown",
   "metadata": {},
   "source": [
    "# Subgradient optimization lower bounds"
   ]
  },
  {
   "cell_type": "code",
   "execution_count": null,
   "metadata": {},
   "outputs": [],
   "source": [
    "data = {}\n",
    "for rows, cols in tqdm(\n",
    "    [(10, 20), (20, 50), (40, 80), (80, 150)], leave=False):\n",
    "    A, b = generate_problem(rows, cols)\n",
    "    x = hall_hochbaum(A, b, [], [])\n",
    "    ub = np.sum(A, axis=0) @ x\n",
    "\n",
    "    res = []\n",
    "    for omega in [10, 20, 40, 50, 70, 100, 200, 500]:\n",
    "        lb = subgrad_opt(A, b, ub, [], [], omega=omega)\n",
    "        res.append([omega, lb])\n",
    "    data[(rows, cols)] = res"
   ]
  },
  {
   "cell_type": "code",
   "execution_count": null,
   "metadata": {},
   "outputs": [],
   "source": [
    "fig, ax = plt.subplots()\n",
    "for k, v in data.items():\n",
    "    x = np.array(v)[:,0]\n",
    "    y = np.array(v)[:,1]\n",
    "    y = (y - y.min()) / (y.max() - y.min())\n",
    "    ax.plot(x, y, label=f\"{k[0]} rows, {k[1]} cols\")\n",
    "ax.legend()\n",
    "ax.set_xlabel(\"Iterations\")\n",
    "ax.set_ylabel(\"Scaled lower bound\")\n",
    "ax.set_title(\"Subgradient optimization lower bounds\")\n",
    "plt.savefig(\"report/img/subgrad_lb.png\", \n",
    "            dpi=300, bbox_inches=\"tight\")"
   ]
  },
  {
   "attachments": {},
   "cell_type": "markdown",
   "metadata": {},
   "source": [
    "# Branch and Bound models"
   ]
  },
  {
   "cell_type": "code",
   "execution_count": 2,
   "metadata": {},
   "outputs": [],
   "source": [
    "lagr_callback = LagrPenaltiesReductionCallback()\n",
    "col_callback = ColumnInclusionCallback()\n",
    "primal_heur = PrimalHeurCallback()\n",
    "primal_heur_root = PrimalHeurCallback(only_root=True)\n",
    "\n",
    "models = {\n",
    "    \"Subgrad\": {\n",
    "        \"branch_strategy\": branch_reduced_costs, \n",
    "        \"lb_strategy\": subgrad_opt\n",
    "        },\n",
    "    \"SubgradPrimal\": {\n",
    "        \"branch_strategy\": branch_reduced_costs, \n",
    "        \"lb_strategy\": subgrad_opt,\n",
    "        \"callbacks\": [primal_heur]\n",
    "        },\n",
    "    \"SubgradPrimalRed\": {\n",
    "        \"branch_strategy\": branch_reduced_costs, \n",
    "        \"lb_strategy\": subgrad_opt,\n",
    "        \"callbacks\": [primal_heur, lagr_callback, col_callback]\n",
    "        },\n",
    "    \"SubgradPrimalRootRed\": {\n",
    "        \"branch_strategy\": branch_reduced_costs, \n",
    "        \"lb_strategy\": subgrad_opt,\n",
    "        \"callbacks\": [primal_heur_root, lagr_callback, col_callback]\n",
    "        },\n",
    "    \"SubgradPrimalRedBeasleyBranch\": {\n",
    "        \"branch_strategy\": branch_beasley, \n",
    "        \"lb_strategy\": subgrad_opt,\n",
    "        \"callbacks\": [primal_heur, lagr_callback, col_callback]\n",
    "        },\n",
    "    \"LPPrimalRed\": {\n",
    "        \"branch_strategy\": branch_lp, \n",
    "        \"lb_strategy\": lp_rel,\n",
    "        \"callbacks\": [primal_heur, col_callback]}\n",
    "}"
   ]
  },
  {
   "cell_type": "code",
   "execution_count": 3,
   "metadata": {},
   "outputs": [
    {
     "data": {
      "application/vnd.jupyter.widget-view+json": {
       "model_id": "b773a9e0c8564205aa3dbf7cd90c630a",
       "version_major": 2,
       "version_minor": 0
      },
      "text/plain": [
       "Problem::   0%|          | 0/12 [00:00<?, ?it/s]"
      ]
     },
     "metadata": {},
     "output_type": "display_data"
    },
    {
     "name": "stdout",
     "output_type": "stream",
     "text": [
      "Set parameter Username\n",
      "Academic license - for non-commercial use only - expires 2024-06-16\n"
     ]
    },
    {
     "data": {
      "application/vnd.jupyter.widget-view+json": {
       "model_id": "ab78e634b87c4b438eac3a0f67feff28",
       "version_major": 2,
       "version_minor": 0
      },
      "text/plain": [
       "Model::   0%|          | 0/6 [00:00<?, ?it/s]"
      ]
     },
     "metadata": {},
     "output_type": "display_data"
    },
    {
     "data": {
      "application/vnd.jupyter.widget-view+json": {
       "model_id": "8e44474d7f0c408b950fd7a55aa61771",
       "version_major": 2,
       "version_minor": 0
      },
      "text/plain": [
       "Model::   0%|          | 0/6 [00:00<?, ?it/s]"
      ]
     },
     "metadata": {},
     "output_type": "display_data"
    },
    {
     "data": {
      "application/vnd.jupyter.widget-view+json": {
       "model_id": "edebd0f20110408c94764ff5e383d436",
       "version_major": 2,
       "version_minor": 0
      },
      "text/plain": [
       "Model::   0%|          | 0/6 [00:00<?, ?it/s]"
      ]
     },
     "metadata": {},
     "output_type": "display_data"
    },
    {
     "data": {
      "application/vnd.jupyter.widget-view+json": {
       "model_id": "e2284ae8380a4583be02c4a2dbb27faf",
       "version_major": 2,
       "version_minor": 0
      },
      "text/plain": [
       "Model::   0%|          | 0/6 [00:00<?, ?it/s]"
      ]
     },
     "metadata": {},
     "output_type": "display_data"
    },
    {
     "data": {
      "application/vnd.jupyter.widget-view+json": {
       "model_id": "b81f37c708d04b55a07945621ab75c65",
       "version_major": 2,
       "version_minor": 0
      },
      "text/plain": [
       "Model::   0%|          | 0/6 [00:00<?, ?it/s]"
      ]
     },
     "metadata": {},
     "output_type": "display_data"
    },
    {
     "data": {
      "application/vnd.jupyter.widget-view+json": {
       "model_id": "d484722ae58740aba8cdea11a2531d27",
       "version_major": 2,
       "version_minor": 0
      },
      "text/plain": [
       "Model::   0%|          | 0/6 [00:00<?, ?it/s]"
      ]
     },
     "metadata": {},
     "output_type": "display_data"
    },
    {
     "data": {
      "application/vnd.jupyter.widget-view+json": {
       "model_id": "84fc74fc49c042dca5c9b7ae6ab69b58",
       "version_major": 2,
       "version_minor": 0
      },
      "text/plain": [
       "Model::   0%|          | 0/6 [00:00<?, ?it/s]"
      ]
     },
     "metadata": {},
     "output_type": "display_data"
    },
    {
     "data": {
      "application/vnd.jupyter.widget-view+json": {
       "model_id": "3a83dee9f81e408b961dffab5b9a5e4d",
       "version_major": 2,
       "version_minor": 0
      },
      "text/plain": [
       "Model::   0%|          | 0/6 [00:00<?, ?it/s]"
      ]
     },
     "metadata": {},
     "output_type": "display_data"
    }
   ],
   "source": [
    "data = {}\n",
    "time_limit = 60 * 5\n",
    "for rows, cols, density in tqdm(\n",
    "    [(5, 10, 0.3), (5, 10, 0.5), (5, 10, 0.7), \n",
    "     (10, 20, 0.3), (10, 20, 0.5), (10, 20, 0.7),\n",
    "     (13, 25, 0.3), (13, 25, 0.5), (13, 25, 0.7),\n",
    "     (15, 30, 0.3), (15, 30, 0.5), (15, 30, 0.7)],\n",
    "     desc=\"Problem:\", leave=False):\n",
    "    res = {}\n",
    "    A, b = generate_problem(rows, cols, density)\n",
    "    \n",
    "    start = time.process_time()\n",
    "    m = gp.Model()\n",
    "    m.Params.LogToConsole = 0\n",
    "    x = m.addMVar(A.shape[-1], vtype=GRB.BINARY, name=\"x\")\n",
    "    m.setObjective(np.sum(A, axis=0) @ x)\n",
    "    m.addConstr(A @ x >= b)\n",
    "    m.optimize()\n",
    "    elapsed = time.process_time() - start\n",
    "    opt_gurobi = m.getObjective().getValue()\n",
    "    \n",
    "    x = []\n",
    "    for v in m.getVars():\n",
    "        x.append(v.x)\n",
    "    x = np.array(x)\n",
    "    \n",
    "    # Make sure that the solution is feasible\n",
    "    assert np.all(A @ x >= b)\n",
    "\n",
    "    res[\"Gurobi\"] = (elapsed, m.NodeCount)\n",
    "\n",
    "    for model, config in tqdm(\n",
    "        models.items(), desc=\"Model:\", leave=False):\n",
    "        start = time.process_time()\n",
    "        bb = BranchAndBound(**config, time_start=start, \n",
    "                            time_limit=time_limit)\n",
    "        try:\n",
    "            bb.search(A, b)\n",
    "            elapsed = time.process_time() - start\n",
    "            x = np.zeros(A.shape[-1])\n",
    "            x[bb.best.x1] = 1\n",
    "            \n",
    "            # Make sure that the solution is feasible\n",
    "            assert np.all(A @ x >= b)\n",
    "            opt = np.sum(A, axis=0) @ x\n",
    "\n",
    "            # Check that the solution is optimal\n",
    "            assert opt == opt_gurobi\n",
    "            res[model] = (elapsed, bb.node_count)\n",
    "        except TimeLimitException:\n",
    "            res[model] = (np.nan, bb.node_count)\n",
    "        \n",
    "    data[(rows, cols, density)] = res"
   ]
  },
  {
   "cell_type": "code",
   "execution_count": null,
   "metadata": {},
   "outputs": [],
   "source": [
    "[(5, 10, 0.3), (5, 10, 0.5), (5, 10, 0.7), \n",
    "     (10, 20, 0.3), (10, 20, 0.5), (10, 20, 0.7),\n",
    "     (13, 25, 0.3), (13, 25, 0.5), (13, 25, 0.7),\n",
    "     (15, 30, 0.3), (15, 30, 0.5), (15, 30, 0.7)],"
   ]
  },
  {
   "cell_type": "code",
   "execution_count": null,
   "metadata": {},
   "outputs": [],
   "source": [
    "with open(\"results/models.json\", \"w\") as f:\n",
    "    nd = {str(k): v for k, v in data.items()}\n",
    "    json.dump(nd, f)"
   ]
  },
  {
   "cell_type": "code",
   "execution_count": null,
   "metadata": {},
   "outputs": [],
   "source": [
    "with open(\"results/models.json\", \"r\") as f:\n",
    "    results = json.load(f)"
   ]
  },
  {
   "cell_type": "code",
   "execution_count": null,
   "metadata": {},
   "outputs": [],
   "source": [
    "time_dict = {\n",
    "    tuple(k[1:-1].split(\", \")): {\n",
    "        model: values[0] for model, values in v.items()}  \n",
    "    for k, v in results.items()}\n",
    "df = pd.DataFrame(time_dict)\n",
    "df = df.T\n",
    "df = df.rename_axis([\"Rows\", \"Cols\", \"Density\"])\n",
    "df"
   ]
  },
  {
   "cell_type": "code",
   "execution_count": null,
   "metadata": {},
   "outputs": [],
   "source": [
    "df.style.highlight_min(axis=0, props=\"font-weight:bold;\").to_latex(convert_css=True)"
   ]
  },
  {
   "cell_type": "code",
   "execution_count": null,
   "metadata": {},
   "outputs": [],
   "source": [
    "nodes_dict = {\n",
    "    tuple(k[1:-1].split(\", \")): {\n",
    "        model: int(values[1]) for model, values in v.items()}  \n",
    "    for k, v in results.items()}\n",
    "df = pd.DataFrame(nodes_dict)\n",
    "df = df.T\n",
    "df = df.rename_axis([\"Rows\", \"Cols\", \"Density\"])\n",
    "df"
   ]
  }
 ],
 "metadata": {
  "kernelspec": {
   "display_name": "p3.11",
   "language": "python",
   "name": "python3"
  },
  "language_info": {
   "codemirror_mode": {
    "name": "ipython",
    "version": 3
   },
   "file_extension": ".py",
   "mimetype": "text/x-python",
   "name": "python",
   "nbconvert_exporter": "python",
   "pygments_lexer": "ipython3",
   "version": "3.11.2"
  },
  "orig_nbformat": 4
 },
 "nbformat": 4,
 "nbformat_minor": 2
}
