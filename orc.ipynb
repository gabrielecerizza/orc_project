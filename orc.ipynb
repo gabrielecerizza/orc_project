{
 "cells": [
  {
   "cell_type": "code",
   "execution_count": 1,
   "metadata": {},
   "outputs": [],
   "source": [
    "import time\n",
    "\n",
    "import gurobipy as gp\n",
    "import matplotlib as mpl\n",
    "import matplotlib.pyplot as plt\n",
    "import matplotlib_inline\n",
    "import numpy as np\n",
    "import pandas as pd\n",
    "from gurobipy import GRB\n",
    "from tqdm import tqdm\n",
    "\n",
    "from orc.primal import dobson, greedy, hall_hochbaum\n",
    "from orc.relaxation import subgrad_opt, lp_rel\n",
    "from orc.utils import generate_problem\n",
    "\n",
    "mpl.rcParams[\"font.family\"] = [\"serif\"]\n",
    "mpl.rcParams[\"font.serif\"] = [\"cmr10\"]\n",
    "matplotlib_inline.backend_inline.set_matplotlib_formats(\"retina\")"
   ]
  },
  {
   "attachments": {},
   "cell_type": "markdown",
   "metadata": {},
   "source": [
    "# Primal heuristics comparisons"
   ]
  },
  {
   "attachments": {},
   "cell_type": "markdown",
   "metadata": {},
   "source": [
    "## Without fixed variables"
   ]
  },
  {
   "cell_type": "code",
   "execution_count": null,
   "metadata": {},
   "outputs": [],
   "source": [
    "table = []\n",
    "funcs = [(greedy, \"Greedy\"), (dobson, \"Dobson\"),\n",
    "         (hall_hochbaum, \"Hall-Hochbaum\")]\n",
    "for rows, cols in tqdm([(5, 10), (10, 20), (20, 50), (50, 100)]):\n",
    "    res = {\"Rows\": rows, \"Cols\": cols, \"Greedy\": 0, \n",
    "           \"Dobson\": 0, \"Hall-Hochbaum\": 0}\n",
    "    for i in tqdm(range(10)):\n",
    "        A, b = generate_problem(rows, cols)\n",
    "        v = []\n",
    "        for f, name in funcs:\n",
    "            ub = np.sum(A, axis=0) @ f(A, b, [], [])\n",
    "            v.append(ub)\n",
    "        j = np.argmin(v)\n",
    "        best = funcs[j][1]\n",
    "        res[best] += 1\n",
    "    table.append(res)"
   ]
  },
  {
   "cell_type": "code",
   "execution_count": null,
   "metadata": {},
   "outputs": [],
   "source": [
    "table"
   ]
  },
  {
   "cell_type": "code",
   "execution_count": null,
   "metadata": {},
   "outputs": [],
   "source": [
    "df = pd.DataFrame(table)\n",
    "df = df.set_index([\"Rows\", \"Cols\"])\n",
    "df.style.to_latex(column_format=\"llccc\")"
   ]
  },
  {
   "attachments": {},
   "cell_type": "markdown",
   "metadata": {},
   "source": [
    "## With fixed variables"
   ]
  },
  {
   "cell_type": "code",
   "execution_count": null,
   "metadata": {},
   "outputs": [],
   "source": [
    "np.random.seed(42)\n",
    "\n",
    "table = []\n",
    "funcs = [(greedy, \"Greedy\"), (dobson, \"Dobson\"),\n",
    "         (hall_hochbaum, \"Hall-Hochbaum\")]\n",
    "for rows, cols in tqdm([(5, 10), (10, 20), (20, 50), (50, 100)]):\n",
    "    res = {\"Rows\": rows, \"Cols\": cols, \"Greedy\": 0, \n",
    "           \"Dobson\": 0, \"Hall-Hochbaum\": 0}\n",
    "    for i in tqdm(range(10)):\n",
    "        A, b = generate_problem(rows, cols)\n",
    "        fixed_n = int(cols * 0.3) \n",
    "        fixed = np.random.choice(\n",
    "            A.shape[-1], fixed_n, replace=False)\n",
    "        x0 = fixed[:int(fixed_n / 2)]\n",
    "        x1 = fixed[int(fixed_n / 2) + 1:]\n",
    "        x = np.ones(A.shape[-1])\n",
    "        x[x0] = 0\n",
    "        if np.any(A @ x < b):\n",
    "            continue\n",
    "        v = []\n",
    "        for f, name in funcs:\n",
    "            ub = np.sum(A, axis=0) @ f(A, b, [], [])\n",
    "            v.append(ub)\n",
    "        j = np.argmin(v)\n",
    "        best = funcs[j][1]\n",
    "        res[best] += 1\n",
    "    table.append(res)"
   ]
  },
  {
   "cell_type": "code",
   "execution_count": null,
   "metadata": {},
   "outputs": [],
   "source": [
    "table"
   ]
  },
  {
   "cell_type": "code",
   "execution_count": null,
   "metadata": {},
   "outputs": [],
   "source": [
    "df = pd.DataFrame(table)\n",
    "df = df.set_index([\"Rows\", \"Cols\"])\n",
    "df.style.to_latex(column_format=\"llccc\")"
   ]
  },
  {
   "attachments": {},
   "cell_type": "markdown",
   "metadata": {},
   "source": [
    "# Subgradient optimization lower bounds"
   ]
  },
  {
   "cell_type": "code",
   "execution_count": null,
   "metadata": {},
   "outputs": [],
   "source": [
    "data = {}\n",
    "for rows, cols in tqdm([(10, 20), (20, 50), (40, 80), (80, 150)]):\n",
    "    A, b = generate_problem(rows, cols)\n",
    "    x = hall_hochbaum(A, b, [], [])\n",
    "    ub = np.sum(A, axis=0) @ x\n",
    "\n",
    "    res = []\n",
    "    for omega in [10, 20, 40, 50, 70, 100, 200, 500]:\n",
    "        lb = subgrad_opt(A, b, ub, [], [], omega=omega)\n",
    "        res.append([omega, lb])\n",
    "    data[(rows, cols)] = res"
   ]
  },
  {
   "cell_type": "code",
   "execution_count": null,
   "metadata": {},
   "outputs": [],
   "source": [
    "fig, ax = plt.subplots()\n",
    "for k, v in data.items():\n",
    "    x = np.array(v)[:,0]\n",
    "    y = np.array(v)[:,1]\n",
    "    y = (y - y.min()) / (y.max() - y.min())\n",
    "    ax.plot(x, y, label=f\"{k[0]} rows, {k[1]} cols\")\n",
    "ax.legend()\n",
    "ax.set_xlabel(\"Iterations\")\n",
    "ax.set_ylabel(\"Scaled lower bound\")\n",
    "ax.set_title(\"Subgradient optimization lower bounds\")"
   ]
  },
  {
   "attachments": {},
   "cell_type": "markdown",
   "metadata": {},
   "source": [
    "# Branch and Bound models"
   ]
  },
  {
   "cell_type": "code",
   "execution_count": 2,
   "metadata": {},
   "outputs": [],
   "source": [
    "from orc.branch_bound import (\n",
    "    BranchAndBound,\n",
    "    branch_strategy, branch_strategy2, branch_strategy3\n",
    ")\n",
    "from orc.callbacks import (\n",
    "    ColumnInclusionCallback,\n",
    "    LagrPenaltiesReductionCallback,\n",
    "    PrimalHeurCallback\n",
    ")"
   ]
  },
  {
   "cell_type": "code",
   "execution_count": 3,
   "metadata": {},
   "outputs": [],
   "source": [
    "lagr_callback = LagrPenaltiesReductionCallback()\n",
    "col_callback = ColumnInclusionCallback()\n",
    "primal_heur = PrimalHeurCallback()\n",
    "primal_heur_root = PrimalHeurCallback(only_root=True)\n",
    "\n",
    "models = {\n",
    "    \"Subgrad\": {\n",
    "        \"branch_strategy\": branch_strategy, \n",
    "        \"lb_strategy\": subgrad_opt\n",
    "        },\n",
    "    \"SubgradPrimal\": {\n",
    "        \"branch_strategy\": branch_strategy, \n",
    "        \"lb_strategy\": subgrad_opt,\n",
    "        \"callbacks\": [primal_heur]\n",
    "        },\n",
    "    \"SubgradPrimalRed\": {\n",
    "        \"branch_strategy\": branch_strategy, \n",
    "        \"lb_strategy\": subgrad_opt,\n",
    "        \"callbacks\": [primal_heur, lagr_callback, col_callback]\n",
    "        },\n",
    "    \"SubgradPrimalRootRed\": {\n",
    "        \"branch_strategy\": branch_strategy, \n",
    "        \"lb_strategy\": subgrad_opt,\n",
    "        \"callbacks\": [primal_heur, lagr_callback, col_callback]\n",
    "        },\n",
    "    \"SubgradPrimalRedBeasleyBranch\": {\n",
    "        \"branch_strategy\": branch_strategy3, \n",
    "        \"lb_strategy\": subgrad_opt,\n",
    "        \"callbacks\": [primal_heur, lagr_callback, col_callback]\n",
    "        },\n",
    "    \"LPPrimalRed\": {\n",
    "        \"branch_strategy\": branch_strategy2, \n",
    "        \"lb_strategy\": lp_rel,\n",
    "        \"callbacks\": [primal_heur, col_callback]}\n",
    "}"
   ]
  },
  {
   "cell_type": "code",
   "execution_count": 7,
   "metadata": {},
   "outputs": [
    {
     "name": "stderr",
     "output_type": "stream",
     "text": [
      "  0%|          | 0/6 [00:00<?, ?it/s]"
     ]
    },
    {
     "name": "stdout",
     "output_type": "stream",
     "text": [
      "Gurobi Optimizer version 10.0.2 build v10.0.2rc0 (win64)\n",
      "\n",
      "CPU model: Intel(R) Core(TM) i7-9700K CPU @ 3.60GHz, instruction set [SSE2|AVX|AVX2]\n",
      "Thread count: 8 physical cores, 8 logical processors, using up to 8 threads\n",
      "\n",
      "Optimize a model with 5 rows, 10 columns and 15 nonzeros\n",
      "Model fingerprint: 0xe44abcae\n",
      "Variable types: 0 continuous, 10 integer (10 binary)\n",
      "Coefficient statistics:\n",
      "  Matrix range     [4e+01, 1e+02]\n",
      "  Objective range  [7e+01, 4e+02]\n",
      "  Bounds range     [1e+00, 1e+00]\n",
      "  RHS range        [4e+01, 9e+01]\n",
      "Found heuristic solution: objective 684.0000000\n",
      "Presolve removed 5 rows and 10 columns\n",
      "Presolve time: 0.00s\n",
      "Presolve: All rows and columns removed\n",
      "\n",
      "Explored 0 nodes (0 simplex iterations) in 0.00 seconds (0.00 work units)\n",
      "Thread count was 1 (of 8 available processors)\n",
      "\n",
      "Solution count 2: 450 684 \n",
      "\n",
      "Optimal solution found (tolerance 1.00e-04)\n",
      "Best objective 4.500000000000e+02, best bound 4.500000000000e+02, gap 0.0000%\n"
     ]
    },
    {
     "name": "stderr",
     "output_type": "stream",
     "text": []
    },
    {
     "name": "stderr",
     "output_type": "stream",
     "text": [
      "e:\\projects\\orc\\orc\\relaxation.py:18: RuntimeWarning: invalid value encountered in matmul\n",
      "  rc = (1 - lambd) @ A\n",
      "e:\\projects\\orc\\orc\\relaxation.py:36: RuntimeWarning: invalid value encountered in add\n",
      "  np.zeros_like(lambd), lambd + sigma * g)\n",
      "e:\\projects\\orc\\orc\\relaxation.py:22: RuntimeWarning: invalid value encountered in matmul\n",
      "  L = rc @ x + lambd @ b\n",
      "100%|██████████| 6/6 [00:00<00:00, 10.25it/s]\n",
      " 17%|█▋        | 1/6 [00:00<00:03,  1.65it/s]"
     ]
    },
    {
     "name": "stdout",
     "output_type": "stream",
     "text": [
      "Gurobi Optimizer version 10.0.2 build v10.0.2rc0 (win64)\n",
      "\n",
      "CPU model: Intel(R) Core(TM) i7-9700K CPU @ 3.60GHz, instruction set [SSE2|AVX|AVX2]\n",
      "Thread count: 8 physical cores, 8 logical processors, using up to 8 threads\n",
      "\n",
      "Optimize a model with 5 rows, 10 columns and 25 nonzeros\n",
      "Model fingerprint: 0xa276b143\n",
      "Variable types: 0 continuous, 10 integer (10 binary)\n",
      "Coefficient statistics:\n",
      "  Matrix range     [1e+01, 5e+01]\n",
      "  Objective range  [3e+01, 1e+02]\n",
      "  Bounds range     [1e+00, 1e+00]\n",
      "  RHS range        [2e+01, 7e+01]\n",
      "Found heuristic solution: objective 399.0000000\n",
      "Presolve time: 0.00s\n",
      "Presolved: 5 rows, 10 columns, 25 nonzeros\n",
      "Variable types: 0 continuous, 10 integer (10 binary)\n",
      "Found heuristic solution: objective 351.0000000\n",
      "\n",
      "Root relaxation: objective 2.873991e+02, 9 iterations, 0.02 seconds (0.00 work units)\n",
      "\n",
      "    Nodes    |    Current Node    |     Objective Bounds      |     Work\n",
      " Expl Unexpl |  Obj  Depth IntInf | Incumbent    BestBd   Gap | It/Node Time\n",
      "\n",
      "     0     0  287.39906    0    5  351.00000  287.39906  18.1%     -    0s\n",
      "H    0     0                     327.0000000  287.39906  12.1%     -    0s\n",
      "     0     0  306.01449    0    6  327.00000  306.01449  6.42%     -    0s\n",
      "\n",
      "Cutting planes:\n",
      "  Gomory: 3\n",
      "  Cover: 1\n",
      "  MIR: 1\n",
      "\n",
      "Explored 1 nodes (14 simplex iterations) in 0.10 seconds (0.00 work units)\n",
      "Thread count was 8 (of 8 available processors)\n",
      "\n",
      "Solution count 3: 327 351 399 \n",
      "\n",
      "Optimal solution found (tolerance 1.00e-04)\n",
      "Best objective 3.270000000000e+02, best bound 3.270000000000e+02, gap 0.0000%\n"
     ]
    },
    {
     "name": "stderr",
     "output_type": "stream",
     "text": [
      "e:\\projects\\orc\\orc\\relaxation.py:36: RuntimeWarning: invalid value encountered in multiply\n",
      "  np.zeros_like(lambd), lambd + sigma * g)\n",
      "100%|██████████| 6/6 [00:02<00:00,  2.11it/s]\n",
      " 33%|███▎      | 2/6 [00:03<00:07,  1.99s/it]"
     ]
    },
    {
     "name": "stdout",
     "output_type": "stream",
     "text": [
      "Gurobi Optimizer version 10.0.2 build v10.0.2rc0 (win64)\n",
      "\n",
      "CPU model: Intel(R) Core(TM) i7-9700K CPU @ 3.60GHz, instruction set [SSE2|AVX|AVX2]\n",
      "Thread count: 8 physical cores, 8 logical processors, using up to 8 threads\n",
      "\n",
      "Optimize a model with 5 rows, 10 columns and 35 nonzeros\n",
      "Model fingerprint: 0x0e7d3150\n",
      "Variable types: 0 continuous, 10 integer (10 binary)\n",
      "Coefficient statistics:\n",
      "  Matrix range     [7e+00, 7e+01]\n",
      "  Objective range  [9e+01, 2e+02]\n",
      "  Bounds range     [1e+00, 1e+00]\n",
      "  RHS range        [2e+01, 1e+02]\n",
      "Found heuristic solution: objective 518.0000000\n",
      "Presolve time: 0.00s\n",
      "Presolved: 5 rows, 10 columns, 35 nonzeros\n",
      "Variable types: 0 continuous, 10 integer (10 binary)\n",
      "Found heuristic solution: objective 504.0000000\n",
      "\n",
      "Root relaxation: objective 3.963160e+02, 7 iterations, 0.00 seconds (0.00 work units)\n",
      "\n",
      "    Nodes    |    Current Node    |     Objective Bounds      |     Work\n",
      " Expl Unexpl |  Obj  Depth IntInf | Incumbent    BestBd   Gap | It/Node Time\n",
      "\n",
      "     0     0  396.31603    0    5  504.00000  396.31603  21.4%     -    0s\n",
      "H    0     0                     463.0000000  396.31603  14.4%     -    0s\n",
      "H    0     0                     449.0000000  396.31603  11.7%     -    0s\n",
      "H    0     0                     410.0000000  396.31603  3.34%     -    0s\n",
      "\n",
      "Cutting planes:\n",
      "  Cover: 1\n",
      "  MIR: 2\n",
      "\n",
      "Explored 1 nodes (7 simplex iterations) in 0.02 seconds (0.00 work units)\n",
      "Thread count was 8 (of 8 available processors)\n",
      "\n",
      "Solution count 5: 410 449 463 ... 518\n",
      "\n",
      "Optimal solution found (tolerance 1.00e-04)\n",
      "Best objective 4.100000000000e+02, best bound 4.100000000000e+02, gap 0.0000%\n"
     ]
    },
    {
     "name": "stderr",
     "output_type": "stream",
     "text": [
      "100%|██████████| 6/6 [00:00<00:00,  6.34it/s]\n",
      " 50%|█████     | 3/6 [00:04<00:04,  1.53s/it]"
     ]
    },
    {
     "name": "stdout",
     "output_type": "stream",
     "text": [
      "Gurobi Optimizer version 10.0.2 build v10.0.2rc0 (win64)\n",
      "\n",
      "CPU model: Intel(R) Core(TM) i7-9700K CPU @ 3.60GHz, instruction set [SSE2|AVX|AVX2]\n",
      "Thread count: 8 physical cores, 8 logical processors, using up to 8 threads\n",
      "\n",
      "Optimize a model with 10 rows, 20 columns and 60 nonzeros\n",
      "Model fingerprint: 0x35d80ee1\n",
      "Variable types: 0 continuous, 20 integer (20 binary)\n",
      "Coefficient statistics:\n",
      "  Matrix range     [8e+00, 3e+02]\n",
      "  Objective range  [1e+01, 1e+03]\n",
      "  Bounds range     [1e+00, 1e+00]\n",
      "  RHS range        [2e+01, 4e+02]\n",
      "Found heuristic solution: objective 3742.0000000\n",
      "Presolve removed 0 rows and 2 columns\n",
      "Presolve time: 0.00s\n",
      "Presolved: 10 rows, 18 columns, 60 nonzeros\n",
      "Variable types: 0 continuous, 18 integer (18 binary)\n",
      "Found heuristic solution: objective 3394.0000000\n",
      "\n",
      "Root relaxation: objective 2.997626e+03, 21 iterations, 0.00 seconds (0.00 work units)\n",
      "\n",
      "    Nodes    |    Current Node    |     Objective Bounds      |     Work\n",
      " Expl Unexpl |  Obj  Depth IntInf | Incumbent    BestBd   Gap | It/Node Time\n",
      "\n",
      "     0     0 2997.62567    0   10 3394.00000 2997.62567  11.7%     -    0s\n",
      "H    0     0                    3071.0000000 2997.62567  2.39%     -    0s\n",
      "H    0     0                    3007.0000000 2997.62567  0.31%     -    0s\n",
      "\n",
      "Cutting planes:\n",
      "  Cover: 3\n",
      "\n",
      "Explored 1 nodes (21 simplex iterations) in 0.04 seconds (0.00 work units)\n",
      "Thread count was 8 (of 8 available processors)\n",
      "\n",
      "Solution count 4: 3007 3071 3394 3742 \n",
      "\n",
      "Optimal solution found (tolerance 1.00e-04)\n",
      "Best objective 3.007000000000e+03, best bound 3.007000000000e+03, gap 0.0000%\n"
     ]
    },
    {
     "name": "stderr",
     "output_type": "stream",
     "text": [
      "100%|██████████| 6/6 [00:49<00:00,  8.22s/it]\n",
      " 67%|██████▋   | 4/6 [00:53<00:40, 20.43s/it]"
     ]
    },
    {
     "name": "stdout",
     "output_type": "stream",
     "text": [
      "Gurobi Optimizer version 10.0.2 build v10.0.2rc0 (win64)\n",
      "\n",
      "CPU model: Intel(R) Core(TM) i7-9700K CPU @ 3.60GHz, instruction set [SSE2|AVX|AVX2]\n",
      "Thread count: 8 physical cores, 8 logical processors, using up to 8 threads\n",
      "\n",
      "Optimize a model with 10 rows, 20 columns and 100 nonzeros\n",
      "Model fingerprint: 0x27f765ec\n",
      "Variable types: 0 continuous, 20 integer (20 binary)\n",
      "Coefficient statistics:\n",
      "  Matrix range     [5e+00, 2e+02]\n",
      "  Objective range  [1e+02, 6e+02]\n",
      "  Bounds range     [1e+00, 1e+00]\n",
      "  RHS range        [3e+01, 3e+02]\n",
      "Found heuristic solution: objective 2857.0000000\n",
      "Presolve time: 0.00s\n",
      "Presolved: 10 rows, 20 columns, 100 nonzeros\n",
      "Variable types: 0 continuous, 20 integer (20 binary)\n",
      "Found heuristic solution: objective 2698.0000000\n",
      "\n",
      "Root relaxation: objective 2.012073e+03, 15 iterations, 0.00 seconds (0.00 work units)\n",
      "\n",
      "    Nodes    |    Current Node    |     Objective Bounds      |     Work\n",
      " Expl Unexpl |  Obj  Depth IntInf | Incumbent    BestBd   Gap | It/Node Time\n",
      "\n",
      "     0     0 2012.07303    0    7 2698.00000 2012.07303  25.4%     -    0s\n",
      "H    0     0                    2383.0000000 2012.07303  15.6%     -    0s\n",
      "H    0     0                    2267.0000000 2012.07303  11.2%     -    0s\n",
      "H    0     0                    2225.0000000 2111.74427  5.09%     -    0s\n",
      "     0     0 2111.74427    0   10 2225.00000 2111.74427  5.09%     -    0s\n",
      "     0     0 2118.31853    0   10 2225.00000 2118.31853  4.79%     -    0s\n",
      "     0     0 2124.45180    0   11 2225.00000 2124.45180  4.52%     -    0s\n",
      "     0     0 2157.63452    0   11 2225.00000 2157.63452  3.03%     -    0s\n",
      "     0     0 2170.39321    0   12 2225.00000 2170.39321  2.45%     -    0s\n",
      "     0     0 2185.63103    0   12 2225.00000 2185.63103  1.77%     -    0s\n",
      "     0     0 2202.86027    0   12 2225.00000 2202.86027  1.00%     -    0s\n",
      "     0     0 2202.86027    0   10 2225.00000 2202.86027  1.00%     -    0s\n",
      "     0     0 2216.98739    0   11 2225.00000 2216.98739  0.36%     -    0s\n",
      "\n",
      "Cutting planes:\n",
      "  Gomory: 1\n",
      "  Cover: 7\n",
      "  MIR: 5\n",
      "  StrongCG: 1\n",
      "\n",
      "Explored 1 nodes (57 simplex iterations) in 0.03 seconds (0.00 work units)\n",
      "Thread count was 8 (of 8 available processors)\n",
      "\n",
      "Solution count 5: 2225 2267 2383 ... 2857\n",
      "\n",
      "Optimal solution found (tolerance 1.00e-04)\n",
      "Best objective 2.225000000000e+03, best bound 2.225000000000e+03, gap 0.0000%\n"
     ]
    },
    {
     "name": "stderr",
     "output_type": "stream",
     "text": [
      "100%|██████████| 6/6 [04:34<00:00, 45.81s/it]\n",
      " 83%|████████▎ | 5/6 [05:28<01:52, 112.20s/it]"
     ]
    },
    {
     "name": "stdout",
     "output_type": "stream",
     "text": [
      "Gurobi Optimizer version 10.0.2 build v10.0.2rc0 (win64)\n",
      "\n",
      "CPU model: Intel(R) Core(TM) i7-9700K CPU @ 3.60GHz, instruction set [SSE2|AVX|AVX2]\n",
      "Thread count: 8 physical cores, 8 logical processors, using up to 8 threads\n",
      "\n",
      "Optimize a model with 10 rows, 20 columns and 140 nonzeros\n",
      "Model fingerprint: 0xc03cd04b\n",
      "Variable types: 0 continuous, 20 integer (20 binary)\n",
      "Coefficient statistics:\n",
      "  Matrix range     [3e+00, 1e+02]\n",
      "  Objective range  [2e+02, 5e+02]\n",
      "  Bounds range     [1e+00, 1e+00]\n",
      "  RHS range        [3e+01, 4e+02]\n",
      "Found heuristic solution: objective 3294.0000000\n",
      "Presolve time: 0.00s\n",
      "Presolved: 10 rows, 20 columns, 140 nonzeros\n",
      "Variable types: 0 continuous, 20 integer (20 binary)\n",
      "Found heuristic solution: objective 2444.0000000\n",
      "\n",
      "Root relaxation: objective 2.168855e+03, 13 iterations, 0.00 seconds (0.00 work units)\n",
      "\n",
      "    Nodes    |    Current Node    |     Objective Bounds      |     Work\n",
      " Expl Unexpl |  Obj  Depth IntInf | Incumbent    BestBd   Gap | It/Node Time\n",
      "\n",
      "     0     0 2168.85465    0    6 2444.00000 2168.85465  11.3%     -    0s\n",
      "H    0     0                    2315.0000000 2168.85465  6.31%     -    0s\n",
      "H    0     0                    2275.0000000 2168.85465  4.67%     -    0s\n",
      "     0     0 2197.87595    0    8 2275.00000 2197.87595  3.39%     -    0s\n",
      "H    0     0                    2238.0000000 2197.87595  1.79%     -    0s\n",
      "     0     0 2216.18650    0    6 2238.00000 2216.18650  0.97%     -    0s\n",
      "     0     0     cutoff    0      2238.00000 2238.00000  0.00%     -    0s\n",
      "\n",
      "Cutting planes:\n",
      "  Cover: 7\n",
      "  MIR: 1\n",
      "  Zero half: 1\n",
      "  RLT: 1\n",
      "\n",
      "Explored 1 nodes (32 simplex iterations) in 0.02 seconds (0.00 work units)\n",
      "Thread count was 8 (of 8 available processors)\n",
      "\n",
      "Solution count 5: 2238 2275 2315 ... 3294\n",
      "\n",
      "Optimal solution found (tolerance 1.00e-04)\n",
      "Best objective 2.238000000000e+03, best bound 2.238000000000e+03, gap 0.0000%\n"
     ]
    },
    {
     "name": "stderr",
     "output_type": "stream",
     "text": [
      "100%|██████████| 6/6 [08:05<00:00, 80.99s/it] \n",
      "100%|██████████| 6/6 [13:34<00:00, 135.81s/it]\n"
     ]
    }
   ],
   "source": [
    "data = {}\n",
    "for rows, cols, density in tqdm([(5, 10, 0.3), (5, 10, 0.5), (5, 10, 0.7), \n",
    "                        (10, 20, 0.3), (10, 20, 0.5), (10, 20, 0.7)\n",
    "                        ]):\n",
    "    res = {}\n",
    "    A, b = generate_problem(rows, cols, density)\n",
    "    \n",
    "    start = time.process_time()\n",
    "    m = gp.Model()\n",
    "    x = m.addMVar(A.shape[-1], vtype=GRB.BINARY, name=\"x\")\n",
    "    m.setObjective(np.sum(A, axis=0) @ x)\n",
    "    m.addConstr(A @ x >= b)\n",
    "    m.optimize()\n",
    "    elapsed = time.process_time() - start\n",
    "    opt_gurobi = m.getObjective().getValue()\n",
    "    \n",
    "    x = []\n",
    "    for v in m.getVars():\n",
    "        x.append(v.x)\n",
    "    x = np.array(x)\n",
    "    \n",
    "    # Make sure that the solution is feasible\n",
    "    assert np.all(A @ x >= b)\n",
    "\n",
    "    res[\"Gurobi\"] = (elapsed, np.nan)\n",
    "\n",
    "    for model, config in tqdm(models.items()):\n",
    "        start = time.process_time()\n",
    "        bb = BranchAndBound(**config)\n",
    "        bb.search(A, b)\n",
    "        elapsed = time.process_time() - start\n",
    "        x = np.zeros(A.shape[-1])\n",
    "        x[bb.best.x1] = 1\n",
    "        \n",
    "        # Make sure that the solution is feasible\n",
    "        assert np.all(A @ x >= b)\n",
    "        opt = np.sum(A, axis=0) @ x\n",
    "\n",
    "        # Check that the solution is optimal\n",
    "        assert opt == opt_gurobi\n",
    "\n",
    "        res[model] = (elapsed, bb.node_count)\n",
    "\n",
    "    data[(rows, cols, density)] = res"
   ]
  },
  {
   "cell_type": "code",
   "execution_count": 8,
   "metadata": {},
   "outputs": [
    {
     "data": {
      "text/plain": [
       "{(5, 10, 0.3): {'Gurobi': (0.0, nan),\n",
       "  'Subgrad': (0.03125, 81),\n",
       "  'SubgradPrimal': (0.03125, 45),\n",
       "  'SubgradPrimalRed': (0.046875, 37),\n",
       "  'SubgradPrimalRootRed': (0.03125, 37),\n",
       "  'SubgradPrimalRedBeasleyBranch': (0.046875, 39),\n",
       "  'LPPrimalRed': (0.046875, 171)},\n",
       " (5, 10, 0.5): {'Gurobi': (0.015625, nan),\n",
       "  'Subgrad': (0.203125, 443),\n",
       "  'SubgradPrimal': (0.265625, 317),\n",
       "  'SubgradPrimalRed': (0.171875, 207),\n",
       "  'SubgradPrimalRootRed': (0.140625, 207),\n",
       "  'SubgradPrimalRedBeasleyBranch': (0.234375, 207),\n",
       "  'LPPrimalRed': (0.234375, 585)},\n",
       " (5, 10, 0.7): {'Gurobi': (0.015625, nan),\n",
       "  'Subgrad': (0.0625, 129),\n",
       "  'SubgradPrimal': (0.0625, 45),\n",
       "  'SubgradPrimalRed': (0.03125, 35),\n",
       "  'SubgradPrimalRootRed': (0.046875, 35),\n",
       "  'SubgradPrimalRedBeasleyBranch': (0.0625, 35),\n",
       "  'LPPrimalRed': (0.21875, 667)},\n",
       " (10, 20, 0.3): {'Gurobi': (0.046875, nan),\n",
       "  'Subgrad': (3.984375, 5683),\n",
       "  'SubgradPrimal': (1.296875, 1951),\n",
       "  'SubgradPrimalRed': (1.15625, 697),\n",
       "  'SubgradPrimalRootRed': (1.296875, 697),\n",
       "  'SubgradPrimalRedBeasleyBranch': (1.53125, 697),\n",
       "  'LPPrimalRed': (21.296875, 32527)},\n",
       " (10, 20, 0.5): {'Gurobi': (0.0, nan),\n",
       "  'Subgrad': (42.359375, 40593),\n",
       "  'SubgradPrimal': (16.34375, 9617),\n",
       "  'SubgradPrimalRed': (3.375, 1267),\n",
       "  'SubgradPrimalRootRed': (3.734375, 1267),\n",
       "  'SubgradPrimalRedBeasleyBranch': (3.453125, 1267),\n",
       "  'LPPrimalRed': (133.9375, 211129)},\n",
       " (10, 20, 0.7): {'Gurobi': (0.0, nan),\n",
       "  'Subgrad': (71.828125, 69559),\n",
       "  'SubgradPrimal': (20.90625, 13171),\n",
       "  'SubgradPrimalRed': (4.15625, 1455),\n",
       "  'SubgradPrimalRootRed': (4.015625, 1455),\n",
       "  'SubgradPrimalRedBeasleyBranch': (3.953125, 1473),\n",
       "  'LPPrimalRed': (195.390625, 394049)}}"
      ]
     },
     "execution_count": 8,
     "metadata": {},
     "output_type": "execute_result"
    }
   ],
   "source": [
    "data"
   ]
  },
  {
   "cell_type": "code",
   "execution_count": 12,
   "metadata": {},
   "outputs": [],
   "source": [
    "import json\n",
    "with open('data.json', 'w') as f:\n",
    "    nd = {str(k): v for k, v in data.items()}\n",
    "    json.dump(nd, f)"
   ]
  },
  {
   "cell_type": "code",
   "execution_count": null,
   "metadata": {},
   "outputs": [],
   "source": [
    "[(5, 10, 0.3), (5, 10, 0.5), (5, 10, 0.7), \n",
    "                        (10, 20, 0.3), (10, 20, 0.5), (10, 20, 0.7), \n",
    "                        (20, 50, 0.3), (20, 50, 0.5), (20, 50, 0.7),\n",
    "                        (50, 100, 0.3), (50, 100, 0.5), (50, 100, 0.7)]"
   ]
  }
 ],
 "metadata": {
  "kernelspec": {
   "display_name": "p3.11",
   "language": "python",
   "name": "python3"
  },
  "language_info": {
   "codemirror_mode": {
    "name": "ipython",
    "version": 3
   },
   "file_extension": ".py",
   "mimetype": "text/x-python",
   "name": "python",
   "nbconvert_exporter": "python",
   "pygments_lexer": "ipython3",
   "version": "3.11.2"
  },
  "orig_nbformat": 4
 },
 "nbformat": 4,
 "nbformat_minor": 2
}
