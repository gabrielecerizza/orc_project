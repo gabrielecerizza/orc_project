{
 "cells": [
  {
   "cell_type": "code",
   "execution_count": 1,
   "metadata": {},
   "outputs": [],
   "source": [
    "import gurobipy as gp\n",
    "import numpy as np\n",
    "from gurobipy import GRB\n",
    "\n",
    "from orc.primal import *\n",
    "from orc.utils import generate_problem"
   ]
  },
  {
   "cell_type": "code",
   "execution_count": 4,
   "metadata": {},
   "outputs": [
    {
     "name": "stdout",
     "output_type": "stream",
     "text": [
      "0\n",
      "1\n",
      "2\n",
      "3\n",
      "4\n",
      "5\n",
      "6\n",
      "7\n",
      "8\n",
      "9\n"
     ]
    }
   ],
   "source": [
    "res = []\n",
    "for i in range(10):\n",
    "    A, b = generate_problem(20, 40)\n",
    "    v = []\n",
    "    for f in (greedy, dobson, hall_hochbaum):\n",
    "        ub = np.sum(A, axis=0) @ f(A, b)\n",
    "        v.append(ub)\n",
    "    res.append(v)\n",
    "    print(i)"
   ]
  },
  {
   "cell_type": "code",
   "execution_count": 5,
   "metadata": {},
   "outputs": [
    {
     "data": {
      "text/plain": [
       "[[29446.0, 20231.0, 18123.0],\n",
       " [34708.0, 26261.0, 22130.0],\n",
       " [31322.0, 25507.0, 23307.0],\n",
       " [24874.0, 22920.0, 20669.0],\n",
       " [24412.0, 16692.0, 15686.0],\n",
       " [31814.0, 25282.0, 23277.0],\n",
       " [29564.0, 22454.0, 20298.0],\n",
       " [26040.0, 22065.0, 20526.0],\n",
       " [25888.0, 21444.0, 20306.0],\n",
       " [21149.0, 15431.0, 16550.0]]"
      ]
     },
     "execution_count": 5,
     "metadata": {},
     "output_type": "execute_result"
    }
   ],
   "source": [
    "res"
   ]
  },
  {
   "cell_type": "code",
   "execution_count": null,
   "metadata": {},
   "outputs": [],
   "source": [
    "A, b = generate_problem(10, 20)\n",
    "A, b"
   ]
  },
  {
   "cell_type": "code",
   "execution_count": null,
   "metadata": {},
   "outputs": [],
   "source": [
    "chvatal(A, b)"
   ]
  },
  {
   "cell_type": "code",
   "execution_count": null,
   "metadata": {},
   "outputs": [],
   "source": [
    "dobson(A, b)"
   ]
  },
  {
   "cell_type": "code",
   "execution_count": null,
   "metadata": {},
   "outputs": [],
   "source": [
    "hall_hochbaum(A, b)"
   ]
  }
 ],
 "metadata": {
  "kernelspec": {
   "display_name": "p3.11",
   "language": "python",
   "name": "python3"
  },
  "language_info": {
   "codemirror_mode": {
    "name": "ipython",
    "version": 3
   },
   "file_extension": ".py",
   "mimetype": "text/x-python",
   "name": "python",
   "nbconvert_exporter": "python",
   "pygments_lexer": "ipython3",
   "version": "3.11.2"
  },
  "orig_nbformat": 4
 },
 "nbformat": 4,
 "nbformat_minor": 2
}
