{
 "cells": [
  {
   "cell_type": "code",
   "execution_count": 1,
   "metadata": {},
   "outputs": [],
   "source": [
    "import json\n",
    "import time\n",
    "\n",
    "import gurobipy as gp\n",
    "import matplotlib as mpl\n",
    "import matplotlib.pyplot as plt\n",
    "import matplotlib_inline\n",
    "import numpy as np\n",
    "import pandas as pd\n",
    "from gurobipy import GRB\n",
    "from tqdm.auto import tqdm\n",
    "\n",
    "from orc.branch import (\n",
    "    branch_beasley, branch_reduced_costs, \n",
    "    branch_lp\n",
    ")\n",
    "from orc.callbacks import (\n",
    "    ColumnInclusionCallback,\n",
    "    LagrPenaltiesReductionCallback,\n",
    "    PrimalHeurCallback\n",
    ")\n",
    "from orc.data_structures import (\n",
    "    BranchAndBound, TimeLimitException\n",
    ")\n",
    "from orc.primal import dobson, greedy, hall_hochbaum\n",
    "from orc.relaxation import subgrad_opt, lp_rel\n",
    "from orc.utils import generate_problem\n",
    "\n",
    "mpl.rcParams[\"font.family\"] = [\"serif\"]\n",
    "mpl.rcParams[\"font.serif\"] = [\"cmr10\"]\n",
    "matplotlib_inline.backend_inline.set_matplotlib_formats(\"retina\")"
   ]
  },
  {
   "attachments": {},
   "cell_type": "markdown",
   "metadata": {},
   "source": [
    "# Primal heuristics comparisons"
   ]
  },
  {
   "attachments": {},
   "cell_type": "markdown",
   "metadata": {},
   "source": [
    "## Without fixed variables"
   ]
  },
  {
   "cell_type": "code",
   "execution_count": null,
   "metadata": {},
   "outputs": [],
   "source": [
    "table = []\n",
    "funcs = [(greedy, \"Greedy\"), (dobson, \"Dobson\"),\n",
    "         (hall_hochbaum, \"Hall-Hochbaum\")]\n",
    "for rows, cols in tqdm(\n",
    "    [(5, 10), (10, 20), (20, 50), (50, 100)], leave=False):\n",
    "    res = {\"Rows\": rows, \"Cols\": cols, \"Greedy\": 0, \n",
    "           \"Dobson\": 0, \"Hall-Hochbaum\": 0}\n",
    "    for i in tqdm(range(10)):\n",
    "        A, b = generate_problem(rows, cols)\n",
    "        v = []\n",
    "        for f, name in funcs:\n",
    "            ub = np.sum(A, axis=0) @ f(A, b, [], [])\n",
    "            v.append(ub)\n",
    "        j = np.argmin(v)\n",
    "        best = funcs[j][1]\n",
    "        res[best] += 1\n",
    "    table.append(res)"
   ]
  },
  {
   "cell_type": "code",
   "execution_count": null,
   "metadata": {},
   "outputs": [],
   "source": [
    "with open(\"results/primal.json\", \"w\") as f:\n",
    "    out = {\"output\": table}\n",
    "    json.dump(out, f)"
   ]
  },
  {
   "cell_type": "code",
   "execution_count": null,
   "metadata": {},
   "outputs": [],
   "source": [
    "with open(\"results/primal.json\", \"r\") as f:\n",
    "    table = json.load(f)[\"output\"]"
   ]
  },
  {
   "cell_type": "code",
   "execution_count": null,
   "metadata": {},
   "outputs": [],
   "source": [
    "df = pd.DataFrame(table)\n",
    "df = df.set_index([\"Rows\", \"Cols\"])\n",
    "df"
   ]
  },
  {
   "cell_type": "code",
   "execution_count": null,
   "metadata": {},
   "outputs": [],
   "source": [
    "s = df.style.highlight_max(axis=1, props=\"bfseries: ;\")\n",
    "print(s.to_latex(column_format=\"llccc\", \n",
    "                 hrules=True, \n",
    "                 position_float=\"centering\"))"
   ]
  },
  {
   "attachments": {},
   "cell_type": "markdown",
   "metadata": {},
   "source": [
    "## With fixed variables"
   ]
  },
  {
   "cell_type": "code",
   "execution_count": null,
   "metadata": {},
   "outputs": [],
   "source": [
    "np.random.seed(42)\n",
    "\n",
    "table = []\n",
    "funcs = [(greedy, \"Greedy\"), (dobson, \"Dobson\"),\n",
    "         (hall_hochbaum, \"Hall-Hochbaum\")]\n",
    "for rows, cols in tqdm(\n",
    "    [(5, 10), (10, 20), (20, 50), (50, 100)], leave=False):\n",
    "    res = {\"Rows\": rows, \"Cols\": cols, \"Greedy\": 0, \n",
    "           \"Dobson\": 0, \"Hall-Hochbaum\": 0}\n",
    "    for i in tqdm(range(10)):\n",
    "        A, b = generate_problem(rows, cols)\n",
    "        fixed_n = int(cols * 0.3) \n",
    "        fixed = np.random.choice(\n",
    "            A.shape[-1], fixed_n, replace=False)\n",
    "        x0 = fixed[:int(fixed_n / 2)]\n",
    "        x1 = fixed[int(fixed_n / 2) + 1:]\n",
    "        x = np.ones(A.shape[-1])\n",
    "        x[x0] = 0\n",
    "        if np.any(A @ x < b):\n",
    "            continue\n",
    "        v = []\n",
    "        for f, name in funcs:\n",
    "            ub = np.sum(A, axis=0) @ f(A, b, [], [])\n",
    "            v.append(ub)\n",
    "        j = np.argmin(v)\n",
    "        best = funcs[j][1]\n",
    "        res[best] += 1\n",
    "    table.append(res)"
   ]
  },
  {
   "cell_type": "code",
   "execution_count": null,
   "metadata": {},
   "outputs": [],
   "source": [
    "table"
   ]
  },
  {
   "attachments": {},
   "cell_type": "markdown",
   "metadata": {},
   "source": [
    "# Subgradient optimization lower bounds"
   ]
  },
  {
   "cell_type": "code",
   "execution_count": null,
   "metadata": {},
   "outputs": [],
   "source": [
    "data = {}\n",
    "for rows, cols in tqdm(\n",
    "    [(10, 20), (20, 50), (40, 80), (80, 150)], leave=False):\n",
    "    A, b = generate_problem(rows, cols)\n",
    "    x = hall_hochbaum(A, b, [], [])\n",
    "    ub = np.sum(A, axis=0) @ x\n",
    "\n",
    "    res = []\n",
    "    for omega in [10, 20, 40, 50, 70, 100, 200, 300]:\n",
    "        lb = subgrad_opt(A, b, ub, [], [], omega=omega)\n",
    "        res.append([omega, lb])\n",
    "    data[(rows, cols)] = res"
   ]
  },
  {
   "cell_type": "code",
   "execution_count": null,
   "metadata": {},
   "outputs": [],
   "source": [
    "fig, ax = plt.subplots()\n",
    "for k, v in data.items():\n",
    "    x = np.array(v)[:,0]\n",
    "    y = np.array(v)[:,1]\n",
    "    y = (y - y.min()) / (y.max() - y.min())\n",
    "    ax.plot(x, y, label=f\"{k[0]} rows, {k[1]} cols\")\n",
    "ax.legend()\n",
    "ax.set_xlabel(\"Iterations\")\n",
    "ax.set_ylabel(\"Scaled lower bound\")\n",
    "ax.set_title(\"Subgradient optimization lower bounds\")\n",
    "plt.savefig(\"report/img/subgrad_lb.png\", \n",
    "            dpi=300, bbox_inches=\"tight\")"
   ]
  },
  {
   "attachments": {},
   "cell_type": "markdown",
   "metadata": {},
   "source": [
    "# Branch and Bound models"
   ]
  },
  {
   "cell_type": "code",
   "execution_count": 2,
   "metadata": {},
   "outputs": [],
   "source": [
    "lagr_callback = LagrPenaltiesReductionCallback()\n",
    "col_callback = ColumnInclusionCallback()\n",
    "primal_heur = PrimalHeurCallback()\n",
    "primal_heur_root = PrimalHeurCallback(only_root=True)\n",
    "\n",
    "models = {\n",
    "    \"Subgrad\": {\n",
    "        \"branch_strategy\": branch_reduced_costs, \n",
    "        \"lb_strategy\": subgrad_opt\n",
    "        },\n",
    "    \"SubgradPrimal\": {\n",
    "        \"branch_strategy\": branch_reduced_costs, \n",
    "        \"lb_strategy\": subgrad_opt,\n",
    "        \"callbacks\": [primal_heur]\n",
    "        },\n",
    "    \"SubgradPrimalRed\": {\n",
    "        \"branch_strategy\": branch_reduced_costs, \n",
    "        \"lb_strategy\": subgrad_opt,\n",
    "        \"callbacks\": [primal_heur, lagr_callback, col_callback]\n",
    "        },\n",
    "    \"SubgradPrimalRootRed\": {\n",
    "        \"branch_strategy\": branch_reduced_costs, \n",
    "        \"lb_strategy\": subgrad_opt,\n",
    "        \"callbacks\": [primal_heur_root, lagr_callback, col_callback]\n",
    "        },\n",
    "    \"SubgradPrimalRedBeasleyBranch\": {\n",
    "        \"branch_strategy\": branch_beasley, \n",
    "        \"lb_strategy\": subgrad_opt,\n",
    "        \"callbacks\": [primal_heur, lagr_callback, col_callback]\n",
    "        },\n",
    "    \"LPPrimalRed\": {\n",
    "        \"branch_strategy\": branch_lp, \n",
    "        \"lb_strategy\": lp_rel,\n",
    "        \"callbacks\": [primal_heur, col_callback]}\n",
    "}\n",
    "short_names = {\n",
    "    \"Gurobi\": \"Gurobi\",\n",
    "    \"Subgrad\": \"S\",\n",
    "    \"SubgradPrimal\": \"SP\",\n",
    "    \"SubgradPrimalRed\": \"SPR\",\n",
    "    \"SubgradPrimalRootRed\": \"SPRR\",\n",
    "    \"SubgradPrimalRedBeasleyBranch\": \"SPRB\",\n",
    "    \"LPPrimalRed\": \"LP\"\n",
    "}\n",
    "col_names = [\"S\", \"SP\", \"SPR\", \"SPRR\", \"SPRB\", \"LP\"]"
   ]
  },
  {
   "cell_type": "code",
   "execution_count": 3,
   "metadata": {},
   "outputs": [
    {
     "data": {
      "application/vnd.jupyter.widget-view+json": {
       "model_id": "451b6f8f9c1246d08a05444d5fdd1003",
       "version_major": 2,
       "version_minor": 0
      },
      "text/plain": [
       "Problem::   0%|          | 0/15 [00:00<?, ?it/s]"
      ]
     },
     "metadata": {},
     "output_type": "display_data"
    },
    {
     "name": "stdout",
     "output_type": "stream",
     "text": [
      "Set parameter Username\n",
      "Academic license - for non-commercial use only - expires 2024-06-16\n"
     ]
    },
    {
     "data": {
      "application/vnd.jupyter.widget-view+json": {
       "model_id": "adc62729c9b74b3091528ac03ff785bb",
       "version_major": 2,
       "version_minor": 0
      },
      "text/plain": [
       "Model::   0%|          | 0/6 [00:00<?, ?it/s]"
      ]
     },
     "metadata": {},
     "output_type": "display_data"
    },
    {
     "data": {
      "application/vnd.jupyter.widget-view+json": {
       "model_id": "f5128ef00997456586b738411da2a269",
       "version_major": 2,
       "version_minor": 0
      },
      "text/plain": [
       "Model::   0%|          | 0/6 [00:00<?, ?it/s]"
      ]
     },
     "metadata": {},
     "output_type": "display_data"
    },
    {
     "data": {
      "application/vnd.jupyter.widget-view+json": {
       "model_id": "60435d197139473a9252fecb60b921a6",
       "version_major": 2,
       "version_minor": 0
      },
      "text/plain": [
       "Model::   0%|          | 0/6 [00:00<?, ?it/s]"
      ]
     },
     "metadata": {},
     "output_type": "display_data"
    },
    {
     "data": {
      "application/vnd.jupyter.widget-view+json": {
       "model_id": "53ccdc9fafc4428c90b5449eee9c5e43",
       "version_major": 2,
       "version_minor": 0
      },
      "text/plain": [
       "Model::   0%|          | 0/6 [00:00<?, ?it/s]"
      ]
     },
     "metadata": {},
     "output_type": "display_data"
    },
    {
     "data": {
      "application/vnd.jupyter.widget-view+json": {
       "model_id": "fd46320bbf17468b8ee10687fab8c948",
       "version_major": 2,
       "version_minor": 0
      },
      "text/plain": [
       "Model::   0%|          | 0/6 [00:00<?, ?it/s]"
      ]
     },
     "metadata": {},
     "output_type": "display_data"
    },
    {
     "data": {
      "application/vnd.jupyter.widget-view+json": {
       "model_id": "e06abb8a5eb647949d35b2d1ab3c7b8c",
       "version_major": 2,
       "version_minor": 0
      },
      "text/plain": [
       "Model::   0%|          | 0/6 [00:00<?, ?it/s]"
      ]
     },
     "metadata": {},
     "output_type": "display_data"
    },
    {
     "data": {
      "application/vnd.jupyter.widget-view+json": {
       "model_id": "1dace027121d4c32815b4deadbf148b5",
       "version_major": 2,
       "version_minor": 0
      },
      "text/plain": [
       "Model::   0%|          | 0/6 [00:00<?, ?it/s]"
      ]
     },
     "metadata": {},
     "output_type": "display_data"
    },
    {
     "data": {
      "application/vnd.jupyter.widget-view+json": {
       "model_id": "1ffd1b03f7e0464c8c6156abf9d9d489",
       "version_major": 2,
       "version_minor": 0
      },
      "text/plain": [
       "Model::   0%|          | 0/6 [00:00<?, ?it/s]"
      ]
     },
     "metadata": {},
     "output_type": "display_data"
    },
    {
     "data": {
      "application/vnd.jupyter.widget-view+json": {
       "model_id": "ee1880796d24417b9084b394104d05ed",
       "version_major": 2,
       "version_minor": 0
      },
      "text/plain": [
       "Model::   0%|          | 0/6 [00:00<?, ?it/s]"
      ]
     },
     "metadata": {},
     "output_type": "display_data"
    },
    {
     "data": {
      "application/vnd.jupyter.widget-view+json": {
       "model_id": "2717d15c07894751b6f38c86d4f8eef2",
       "version_major": 2,
       "version_minor": 0
      },
      "text/plain": [
       "Model::   0%|          | 0/6 [00:00<?, ?it/s]"
      ]
     },
     "metadata": {},
     "output_type": "display_data"
    },
    {
     "data": {
      "application/vnd.jupyter.widget-view+json": {
       "model_id": "eac650533c9b4c9c812d830c342ac730",
       "version_major": 2,
       "version_minor": 0
      },
      "text/plain": [
       "Model::   0%|          | 0/6 [00:00<?, ?it/s]"
      ]
     },
     "metadata": {},
     "output_type": "display_data"
    },
    {
     "data": {
      "application/vnd.jupyter.widget-view+json": {
       "model_id": "edeb44f4adf24099909e757cd2df5716",
       "version_major": 2,
       "version_minor": 0
      },
      "text/plain": [
       "Model::   0%|          | 0/6 [00:00<?, ?it/s]"
      ]
     },
     "metadata": {},
     "output_type": "display_data"
    },
    {
     "data": {
      "application/vnd.jupyter.widget-view+json": {
       "model_id": "b1615bcba7104e91bde3c739b452490f",
       "version_major": 2,
       "version_minor": 0
      },
      "text/plain": [
       "Model::   0%|          | 0/6 [00:00<?, ?it/s]"
      ]
     },
     "metadata": {},
     "output_type": "display_data"
    },
    {
     "data": {
      "application/vnd.jupyter.widget-view+json": {
       "model_id": "9e926cb2a7524294b2c881b49c9de906",
       "version_major": 2,
       "version_minor": 0
      },
      "text/plain": [
       "Model::   0%|          | 0/6 [00:00<?, ?it/s]"
      ]
     },
     "metadata": {},
     "output_type": "display_data"
    },
    {
     "data": {
      "application/vnd.jupyter.widget-view+json": {
       "model_id": "045634242f6a4f72a18dea50f8871024",
       "version_major": 2,
       "version_minor": 0
      },
      "text/plain": [
       "Model::   0%|          | 0/6 [00:00<?, ?it/s]"
      ]
     },
     "metadata": {},
     "output_type": "display_data"
    }
   ],
   "source": [
    "data = {}\n",
    "time_limit = 60 * 5\n",
    "for rows, cols, density in tqdm(\n",
    "    [(5, 10, 0.3), (5, 10, 0.5), (5, 10, 0.7), \n",
    "     (10, 20, 0.3), (10, 20, 0.5), (10, 20, 0.7),\n",
    "     (13, 22, 0.3), (13, 22, 0.5), (13, 22, 0.7),\n",
    "     (15, 25, 0.3), (15, 25, 0.5), (15, 25, 0.7),\n",
    "     (20, 40, 0.3), (20, 40, 0.5), (20, 40, 0.7)],\n",
    "     desc=\"Problem:\", leave=False):\n",
    "    res = {}\n",
    "    A, b = generate_problem(rows, cols, density)\n",
    "    \n",
    "    start = time.process_time()\n",
    "    m = gp.Model()\n",
    "    m.Params.LogToConsole = 0\n",
    "    x = m.addMVar(A.shape[-1], vtype=GRB.BINARY, name=\"x\")\n",
    "    m.setObjective(np.sum(A, axis=0) @ x)\n",
    "    m.addConstr(A @ x >= b)\n",
    "    m.optimize()\n",
    "    elapsed = time.process_time() - start\n",
    "    opt_gurobi = m.getObjective().getValue()\n",
    "    \n",
    "    x = []\n",
    "    for v in m.getVars():\n",
    "        x.append(v.x)\n",
    "    x = np.array(x)\n",
    "    \n",
    "    # Make sure that the solution is feasible\n",
    "    assert np.all(A @ x >= b)\n",
    "\n",
    "    res[\"Gurobi\"] = (elapsed, m.NodeCount)\n",
    "\n",
    "    for model, config in tqdm(\n",
    "        models.items(), desc=\"Model:\", leave=False):\n",
    "        start = time.process_time()\n",
    "        bb = BranchAndBound(**config, time_start=start, \n",
    "                            time_limit=time_limit)\n",
    "        try:\n",
    "            bb.search(A, b)\n",
    "            elapsed = time.process_time() - start\n",
    "            x = np.zeros(A.shape[-1])\n",
    "            x[bb.best.x1] = 1\n",
    "            \n",
    "            # Make sure that the solution is feasible\n",
    "            assert np.all(A @ x >= b)\n",
    "            opt = np.sum(A, axis=0) @ x\n",
    "\n",
    "            # Check that the solution is optimal\n",
    "            assert opt == opt_gurobi\n",
    "            res[model] = (elapsed, bb.node_count)\n",
    "        except TimeLimitException:\n",
    "            res[model] = (np.nan, np.nan)\n",
    "        \n",
    "    data[(rows, cols, density)] = res"
   ]
  },
  {
   "cell_type": "code",
   "execution_count": 4,
   "metadata": {},
   "outputs": [],
   "source": [
    "with open(\"results/models.json\", \"w\") as f:\n",
    "    nd = {str(k): v for k, v in data.items()}\n",
    "    json.dump(nd, f)"
   ]
  },
  {
   "cell_type": "code",
   "execution_count": 5,
   "metadata": {},
   "outputs": [],
   "source": [
    "with open(\"results/models.json\", \"r\") as f:\n",
    "    results = json.load(f)"
   ]
  },
  {
   "cell_type": "code",
   "execution_count": 6,
   "metadata": {},
   "outputs": [
    {
     "data": {
      "text/html": [
       "<div>\n",
       "<style scoped>\n",
       "    .dataframe tbody tr th:only-of-type {\n",
       "        vertical-align: middle;\n",
       "    }\n",
       "\n",
       "    .dataframe tbody tr th {\n",
       "        vertical-align: top;\n",
       "    }\n",
       "\n",
       "    .dataframe thead th {\n",
       "        text-align: right;\n",
       "    }\n",
       "</style>\n",
       "<table border=\"1\" class=\"dataframe\">\n",
       "  <thead>\n",
       "    <tr style=\"text-align: right;\">\n",
       "      <th></th>\n",
       "      <th></th>\n",
       "      <th></th>\n",
       "      <th>Gurobi</th>\n",
       "      <th>S</th>\n",
       "      <th>SP</th>\n",
       "      <th>SPR</th>\n",
       "      <th>SPRR</th>\n",
       "      <th>SPRB</th>\n",
       "      <th>LP</th>\n",
       "    </tr>\n",
       "    <tr>\n",
       "      <th>Rows</th>\n",
       "      <th>Cols</th>\n",
       "      <th>Density</th>\n",
       "      <th></th>\n",
       "      <th></th>\n",
       "      <th></th>\n",
       "      <th></th>\n",
       "      <th></th>\n",
       "      <th></th>\n",
       "      <th></th>\n",
       "    </tr>\n",
       "  </thead>\n",
       "  <tbody>\n",
       "    <tr>\n",
       "      <th rowspan=\"3\" valign=\"top\">5</th>\n",
       "      <th rowspan=\"3\" valign=\"top\">10</th>\n",
       "      <th>0.3</th>\n",
       "      <td>0.05</td>\n",
       "      <td>0.00</td>\n",
       "      <td>0.00</td>\n",
       "      <td>0.00</td>\n",
       "      <td>0.00</td>\n",
       "      <td>0.02</td>\n",
       "      <td>0.00</td>\n",
       "    </tr>\n",
       "    <tr>\n",
       "      <th>0.5</th>\n",
       "      <td>0.00</td>\n",
       "      <td>0.12</td>\n",
       "      <td>0.06</td>\n",
       "      <td>0.09</td>\n",
       "      <td>0.05</td>\n",
       "      <td>0.12</td>\n",
       "      <td>0.09</td>\n",
       "    </tr>\n",
       "    <tr>\n",
       "      <th>0.7</th>\n",
       "      <td>0.00</td>\n",
       "      <td>0.20</td>\n",
       "      <td>0.28</td>\n",
       "      <td>0.08</td>\n",
       "      <td>0.03</td>\n",
       "      <td>0.05</td>\n",
       "      <td>0.06</td>\n",
       "    </tr>\n",
       "    <tr>\n",
       "      <th rowspan=\"3\" valign=\"top\">10</th>\n",
       "      <th rowspan=\"3\" valign=\"top\">20</th>\n",
       "      <th>0.3</th>\n",
       "      <td>0.03</td>\n",
       "      <td>3.34</td>\n",
       "      <td>3.25</td>\n",
       "      <td>1.30</td>\n",
       "      <td>1.03</td>\n",
       "      <td>0.89</td>\n",
       "      <td>36.48</td>\n",
       "    </tr>\n",
       "    <tr>\n",
       "      <th>0.5</th>\n",
       "      <td>0.03</td>\n",
       "      <td>23.98</td>\n",
       "      <td>24.30</td>\n",
       "      <td>5.94</td>\n",
       "      <td>5.73</td>\n",
       "      <td>5.95</td>\n",
       "      <td>85.41</td>\n",
       "    </tr>\n",
       "    <tr>\n",
       "      <th>0.7</th>\n",
       "      <td>0.03</td>\n",
       "      <td>22.14</td>\n",
       "      <td>15.56</td>\n",
       "      <td>1.66</td>\n",
       "      <td>1.41</td>\n",
       "      <td>1.72</td>\n",
       "      <td>155.80</td>\n",
       "    </tr>\n",
       "    <tr>\n",
       "      <th rowspan=\"3\" valign=\"top\">13</th>\n",
       "      <th rowspan=\"3\" valign=\"top\">22</th>\n",
       "      <th>0.3</th>\n",
       "      <td>0.00</td>\n",
       "      <td>39.92</td>\n",
       "      <td>48.39</td>\n",
       "      <td>6.00</td>\n",
       "      <td>6.03</td>\n",
       "      <td>2.28</td>\n",
       "      <td>85.19</td>\n",
       "    </tr>\n",
       "    <tr>\n",
       "      <th>0.5</th>\n",
       "      <td>0.02</td>\n",
       "      <td>17.34</td>\n",
       "      <td>17.52</td>\n",
       "      <td>2.94</td>\n",
       "      <td>2.53</td>\n",
       "      <td>2.12</td>\n",
       "      <td>NaN</td>\n",
       "    </tr>\n",
       "    <tr>\n",
       "      <th>0.7</th>\n",
       "      <td>0.02</td>\n",
       "      <td>29.50</td>\n",
       "      <td>29.25</td>\n",
       "      <td>1.11</td>\n",
       "      <td>1.27</td>\n",
       "      <td>1.17</td>\n",
       "      <td>NaN</td>\n",
       "    </tr>\n",
       "    <tr>\n",
       "      <th rowspan=\"3\" valign=\"top\">15</th>\n",
       "      <th rowspan=\"3\" valign=\"top\">25</th>\n",
       "      <th>0.3</th>\n",
       "      <td>0.00</td>\n",
       "      <td>22.09</td>\n",
       "      <td>27.86</td>\n",
       "      <td>5.11</td>\n",
       "      <td>5.80</td>\n",
       "      <td>2.34</td>\n",
       "      <td>NaN</td>\n",
       "    </tr>\n",
       "    <tr>\n",
       "      <th>0.5</th>\n",
       "      <td>0.00</td>\n",
       "      <td>28.97</td>\n",
       "      <td>29.80</td>\n",
       "      <td>5.73</td>\n",
       "      <td>4.20</td>\n",
       "      <td>4.70</td>\n",
       "      <td>NaN</td>\n",
       "    </tr>\n",
       "    <tr>\n",
       "      <th>0.7</th>\n",
       "      <td>0.05</td>\n",
       "      <td>104.02</td>\n",
       "      <td>113.83</td>\n",
       "      <td>17.12</td>\n",
       "      <td>15.08</td>\n",
       "      <td>18.00</td>\n",
       "      <td>NaN</td>\n",
       "    </tr>\n",
       "    <tr>\n",
       "      <th rowspan=\"3\" valign=\"top\">20</th>\n",
       "      <th rowspan=\"3\" valign=\"top\">40</th>\n",
       "      <th>0.3</th>\n",
       "      <td>0.38</td>\n",
       "      <td>NaN</td>\n",
       "      <td>NaN</td>\n",
       "      <td>NaN</td>\n",
       "      <td>NaN</td>\n",
       "      <td>NaN</td>\n",
       "      <td>NaN</td>\n",
       "    </tr>\n",
       "    <tr>\n",
       "      <th>0.5</th>\n",
       "      <td>0.31</td>\n",
       "      <td>NaN</td>\n",
       "      <td>NaN</td>\n",
       "      <td>NaN</td>\n",
       "      <td>NaN</td>\n",
       "      <td>235.36</td>\n",
       "      <td>NaN</td>\n",
       "    </tr>\n",
       "    <tr>\n",
       "      <th>0.7</th>\n",
       "      <td>0.36</td>\n",
       "      <td>NaN</td>\n",
       "      <td>NaN</td>\n",
       "      <td>NaN</td>\n",
       "      <td>NaN</td>\n",
       "      <td>NaN</td>\n",
       "      <td>NaN</td>\n",
       "    </tr>\n",
       "  </tbody>\n",
       "</table>\n",
       "</div>"
      ],
      "text/plain": [
       "                   Gurobi       S      SP    SPR   SPRR    SPRB      LP\n",
       "Rows Cols Density                                                      \n",
       "5    10   0.3        0.05    0.00    0.00   0.00   0.00    0.02    0.00\n",
       "          0.5        0.00    0.12    0.06   0.09   0.05    0.12    0.09\n",
       "          0.7        0.00    0.20    0.28   0.08   0.03    0.05    0.06\n",
       "10   20   0.3        0.03    3.34    3.25   1.30   1.03    0.89   36.48\n",
       "          0.5        0.03   23.98   24.30   5.94   5.73    5.95   85.41\n",
       "          0.7        0.03   22.14   15.56   1.66   1.41    1.72  155.80\n",
       "13   22   0.3        0.00   39.92   48.39   6.00   6.03    2.28   85.19\n",
       "          0.5        0.02   17.34   17.52   2.94   2.53    2.12     NaN\n",
       "          0.7        0.02   29.50   29.25   1.11   1.27    1.17     NaN\n",
       "15   25   0.3        0.00   22.09   27.86   5.11   5.80    2.34     NaN\n",
       "          0.5        0.00   28.97   29.80   5.73   4.20    4.70     NaN\n",
       "          0.7        0.05  104.02  113.83  17.12  15.08   18.00     NaN\n",
       "20   40   0.3        0.38     NaN     NaN    NaN    NaN     NaN     NaN\n",
       "          0.5        0.31     NaN     NaN    NaN    NaN  235.36     NaN\n",
       "          0.7        0.36     NaN     NaN    NaN    NaN     NaN     NaN"
      ]
     },
     "execution_count": 6,
     "metadata": {},
     "output_type": "execute_result"
    }
   ],
   "source": [
    "time_dict = {\n",
    "    tuple(k[1:-1].split(\", \")): {\n",
    "        short_names[model]: values[0] for model, values in v.items()}  \n",
    "    for k, v in results.items()}\n",
    "df = pd.DataFrame(time_dict)\n",
    "df = df.T.round(2)\n",
    "df = df.rename_axis([\"Rows\", \"Cols\", \"Density\"])\n",
    "df"
   ]
  },
  {
   "cell_type": "code",
   "execution_count": null,
   "metadata": {},
   "outputs": [],
   "source": [
    "s = df.style.format(\"{:.2f}\") \\\n",
    "            .highlight_min(subset=col_names, \n",
    "                           axis=1, props=\"bfseries: ;\")\n",
    "print(s.to_latex(column_format=\"lllccccccc\", \n",
    "                 hrules=True, \n",
    "                 clines=\"skip-last;data\",\n",
    "                 caption=\"Runtime of different configurations of the branch-and-bound algorithm over randomly generated TRAP instances with different numbers of rows and columns and different densities. Configurations whose runtime exceeded 5 minutes were assigned nan values. The best result obtained by algorithms other than Gurobi is highlighted in bold for each problem instance.\",\n",
    "                 label=\"tab:results:runtime\", \n",
    "                 position_float=\"centering\"))"
   ]
  },
  {
   "cell_type": "code",
   "execution_count": 7,
   "metadata": {},
   "outputs": [
    {
     "data": {
      "text/html": [
       "<div>\n",
       "<style scoped>\n",
       "    .dataframe tbody tr th:only-of-type {\n",
       "        vertical-align: middle;\n",
       "    }\n",
       "\n",
       "    .dataframe tbody tr th {\n",
       "        vertical-align: top;\n",
       "    }\n",
       "\n",
       "    .dataframe thead th {\n",
       "        text-align: right;\n",
       "    }\n",
       "</style>\n",
       "<table border=\"1\" class=\"dataframe\">\n",
       "  <thead>\n",
       "    <tr style=\"text-align: right;\">\n",
       "      <th></th>\n",
       "      <th></th>\n",
       "      <th></th>\n",
       "      <th>Gurobi</th>\n",
       "      <th>S</th>\n",
       "      <th>SP</th>\n",
       "      <th>SPR</th>\n",
       "      <th>SPRR</th>\n",
       "      <th>SPRB</th>\n",
       "      <th>LP</th>\n",
       "    </tr>\n",
       "    <tr>\n",
       "      <th>Rows</th>\n",
       "      <th>Cols</th>\n",
       "      <th>Density</th>\n",
       "      <th></th>\n",
       "      <th></th>\n",
       "      <th></th>\n",
       "      <th></th>\n",
       "      <th></th>\n",
       "      <th></th>\n",
       "      <th></th>\n",
       "    </tr>\n",
       "  </thead>\n",
       "  <tbody>\n",
       "    <tr>\n",
       "      <th rowspan=\"3\" valign=\"top\">5</th>\n",
       "      <th rowspan=\"3\" valign=\"top\">10</th>\n",
       "      <th>0.3</th>\n",
       "      <td>0.0</td>\n",
       "      <td>17.0</td>\n",
       "      <td>15.0</td>\n",
       "      <td>5.0</td>\n",
       "      <td>5.0</td>\n",
       "      <td>7.0</td>\n",
       "      <td>23.0</td>\n",
       "    </tr>\n",
       "    <tr>\n",
       "      <th>0.5</th>\n",
       "      <td>1.0</td>\n",
       "      <td>179.0</td>\n",
       "      <td>185.0</td>\n",
       "      <td>63.0</td>\n",
       "      <td>63.0</td>\n",
       "      <td>63.0</td>\n",
       "      <td>183.0</td>\n",
       "    </tr>\n",
       "    <tr>\n",
       "      <th>0.7</th>\n",
       "      <td>1.0</td>\n",
       "      <td>75.0</td>\n",
       "      <td>85.0</td>\n",
       "      <td>23.0</td>\n",
       "      <td>23.0</td>\n",
       "      <td>23.0</td>\n",
       "      <td>323.0</td>\n",
       "    </tr>\n",
       "    <tr>\n",
       "      <th rowspan=\"3\" valign=\"top\">10</th>\n",
       "      <th rowspan=\"3\" valign=\"top\">20</th>\n",
       "      <th>0.3</th>\n",
       "      <td>1.0</td>\n",
       "      <td>9131.0</td>\n",
       "      <td>8659.0</td>\n",
       "      <td>1607.0</td>\n",
       "      <td>1761.0</td>\n",
       "      <td>1205.0</td>\n",
       "      <td>55541.0</td>\n",
       "    </tr>\n",
       "    <tr>\n",
       "      <th>0.5</th>\n",
       "      <td>50.0</td>\n",
       "      <td>15421.0</td>\n",
       "      <td>14115.0</td>\n",
       "      <td>2469.0</td>\n",
       "      <td>2781.0</td>\n",
       "      <td>2337.0</td>\n",
       "      <td>124795.0</td>\n",
       "    </tr>\n",
       "    <tr>\n",
       "      <th>0.7</th>\n",
       "      <td>25.0</td>\n",
       "      <td>14057.0</td>\n",
       "      <td>8705.0</td>\n",
       "      <td>609.0</td>\n",
       "      <td>607.0</td>\n",
       "      <td>559.0</td>\n",
       "      <td>209799.0</td>\n",
       "    </tr>\n",
       "    <tr>\n",
       "      <th rowspan=\"3\" valign=\"top\">13</th>\n",
       "      <th rowspan=\"3\" valign=\"top\">22</th>\n",
       "      <th>0.3</th>\n",
       "      <td>1.0</td>\n",
       "      <td>25257.0</td>\n",
       "      <td>26033.0</td>\n",
       "      <td>2427.0</td>\n",
       "      <td>2849.0</td>\n",
       "      <td>907.0</td>\n",
       "      <td>117271.0</td>\n",
       "    </tr>\n",
       "    <tr>\n",
       "      <th>0.5</th>\n",
       "      <td>1.0</td>\n",
       "      <td>9147.0</td>\n",
       "      <td>8837.0</td>\n",
       "      <td>949.0</td>\n",
       "      <td>951.0</td>\n",
       "      <td>795.0</td>\n",
       "      <td>NaN</td>\n",
       "    </tr>\n",
       "    <tr>\n",
       "      <th>0.7</th>\n",
       "      <td>1.0</td>\n",
       "      <td>18929.0</td>\n",
       "      <td>14419.0</td>\n",
       "      <td>371.0</td>\n",
       "      <td>501.0</td>\n",
       "      <td>453.0</td>\n",
       "      <td>NaN</td>\n",
       "    </tr>\n",
       "    <tr>\n",
       "      <th rowspan=\"3\" valign=\"top\">15</th>\n",
       "      <th rowspan=\"3\" valign=\"top\">25</th>\n",
       "      <th>0.3</th>\n",
       "      <td>1.0</td>\n",
       "      <td>13387.0</td>\n",
       "      <td>13475.0</td>\n",
       "      <td>1631.0</td>\n",
       "      <td>2077.0</td>\n",
       "      <td>833.0</td>\n",
       "      <td>NaN</td>\n",
       "    </tr>\n",
       "    <tr>\n",
       "      <th>0.5</th>\n",
       "      <td>59.0</td>\n",
       "      <td>15903.0</td>\n",
       "      <td>14897.0</td>\n",
       "      <td>1731.0</td>\n",
       "      <td>1657.0</td>\n",
       "      <td>1541.0</td>\n",
       "      <td>NaN</td>\n",
       "    </tr>\n",
       "    <tr>\n",
       "      <th>0.7</th>\n",
       "      <td>384.0</td>\n",
       "      <td>53149.0</td>\n",
       "      <td>50545.0</td>\n",
       "      <td>4549.0</td>\n",
       "      <td>5315.0</td>\n",
       "      <td>4841.0</td>\n",
       "      <td>NaN</td>\n",
       "    </tr>\n",
       "    <tr>\n",
       "      <th rowspan=\"3\" valign=\"top\">20</th>\n",
       "      <th rowspan=\"3\" valign=\"top\">40</th>\n",
       "      <th>0.3</th>\n",
       "      <td>174.0</td>\n",
       "      <td>NaN</td>\n",
       "      <td>NaN</td>\n",
       "      <td>NaN</td>\n",
       "      <td>NaN</td>\n",
       "      <td>NaN</td>\n",
       "      <td>NaN</td>\n",
       "    </tr>\n",
       "    <tr>\n",
       "      <th>0.5</th>\n",
       "      <td>573.0</td>\n",
       "      <td>NaN</td>\n",
       "      <td>NaN</td>\n",
       "      <td>NaN</td>\n",
       "      <td>NaN</td>\n",
       "      <td>62615.0</td>\n",
       "      <td>NaN</td>\n",
       "    </tr>\n",
       "    <tr>\n",
       "      <th>0.7</th>\n",
       "      <td>1865.0</td>\n",
       "      <td>NaN</td>\n",
       "      <td>NaN</td>\n",
       "      <td>NaN</td>\n",
       "      <td>NaN</td>\n",
       "      <td>NaN</td>\n",
       "      <td>NaN</td>\n",
       "    </tr>\n",
       "  </tbody>\n",
       "</table>\n",
       "</div>"
      ],
      "text/plain": [
       "                   Gurobi        S       SP     SPR    SPRR     SPRB        LP\n",
       "Rows Cols Density                                                             \n",
       "5    10   0.3         0.0     17.0     15.0     5.0     5.0      7.0      23.0\n",
       "          0.5         1.0    179.0    185.0    63.0    63.0     63.0     183.0\n",
       "          0.7         1.0     75.0     85.0    23.0    23.0     23.0     323.0\n",
       "10   20   0.3         1.0   9131.0   8659.0  1607.0  1761.0   1205.0   55541.0\n",
       "          0.5        50.0  15421.0  14115.0  2469.0  2781.0   2337.0  124795.0\n",
       "          0.7        25.0  14057.0   8705.0   609.0   607.0    559.0  209799.0\n",
       "13   22   0.3         1.0  25257.0  26033.0  2427.0  2849.0    907.0  117271.0\n",
       "          0.5         1.0   9147.0   8837.0   949.0   951.0    795.0       NaN\n",
       "          0.7         1.0  18929.0  14419.0   371.0   501.0    453.0       NaN\n",
       "15   25   0.3         1.0  13387.0  13475.0  1631.0  2077.0    833.0       NaN\n",
       "          0.5        59.0  15903.0  14897.0  1731.0  1657.0   1541.0       NaN\n",
       "          0.7       384.0  53149.0  50545.0  4549.0  5315.0   4841.0       NaN\n",
       "20   40   0.3       174.0      NaN      NaN     NaN     NaN      NaN       NaN\n",
       "          0.5       573.0      NaN      NaN     NaN     NaN  62615.0       NaN\n",
       "          0.7      1865.0      NaN      NaN     NaN     NaN      NaN       NaN"
      ]
     },
     "execution_count": 7,
     "metadata": {},
     "output_type": "execute_result"
    }
   ],
   "source": [
    "nodes_dict = {\n",
    "    tuple(k[1:-1].split(\", \")): {\n",
    "        short_names[model]: values[1] for model, values in v.items()}  \n",
    "    for k, v in results.items()}\n",
    "df = pd.DataFrame(nodes_dict)\n",
    "df = df.T\n",
    "df = df.rename_axis([\"Rows\", \"Cols\", \"Density\"])\n",
    "df"
   ]
  },
  {
   "cell_type": "code",
   "execution_count": null,
   "metadata": {},
   "outputs": [],
   "source": [
    "s = df.style.format(\"{:.0f}\") \\\n",
    "            .highlight_min(subset=col_names, \n",
    "                           axis=1, props=\"bfseries: ;\")\n",
    "print(s.to_latex(column_format=\"lllccccccc\", \n",
    "                 hrules=True, \n",
    "                 clines=\"skip-last;data\",\n",
    "                 caption=\"Number of nodes generated by different configurations of the branch-and-bound algorithm over randomly generated TRAP instances with different numbers of rows and columns and different densities. Configurations whose runtime exceeded 5 minutes were assigned nan values. The best result obtained by algorithms other than Gurobi is highlighted in bold for each problem instance.\",\n",
    "                 label=\"tab:results:nodes\", \n",
    "                 position_float=\"centering\"))"
   ]
  }
 ],
 "metadata": {
  "kernelspec": {
   "display_name": "p3.11",
   "language": "python",
   "name": "python3"
  },
  "language_info": {
   "codemirror_mode": {
    "name": "ipython",
    "version": 3
   },
   "file_extension": ".py",
   "mimetype": "text/x-python",
   "name": "python",
   "nbconvert_exporter": "python",
   "pygments_lexer": "ipython3",
   "version": "3.11.2"
  },
  "orig_nbformat": 4
 },
 "nbformat": 4,
 "nbformat_minor": 2
}
