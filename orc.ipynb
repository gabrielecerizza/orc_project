{
 "cells": [
  {
   "cell_type": "code",
   "execution_count": null,
   "metadata": {},
   "outputs": [],
   "source": [
    "import json\n",
    "import time\n",
    "\n",
    "import gurobipy as gp\n",
    "import matplotlib as mpl\n",
    "import matplotlib.pyplot as plt\n",
    "import matplotlib_inline\n",
    "import numpy as np\n",
    "import pandas as pd\n",
    "from gurobipy import GRB\n",
    "from tqdm.auto import tqdm\n",
    "\n",
    "from orc.branch import (\n",
    "    branch_beasley, branch_cost,\n",
    "    branch_reduced_costs\n",
    ")\n",
    "from orc.callbacks import (\n",
    "    ColumnInclusionCallback,\n",
    "    LagrPenaltiesReductionCallback,\n",
    "    OptReductionCallback,\n",
    "    PrimalHeurCallback\n",
    ")\n",
    "from orc.data_structures import (\n",
    "    BranchAndBound, TimeLimitException\n",
    ")\n",
    "from orc.primal import dobson, greedy, hall_hochbaum\n",
    "from orc.relaxation import dual_lb, lp_rel, subgrad_opt\n",
    "from orc.utils import generate_problem\n",
    "\n",
    "mpl.rcParams[\"font.family\"] = [\"serif\"]\n",
    "mpl.rcParams[\"font.serif\"] = [\"cmr10\"]\n",
    "matplotlib_inline.backend_inline.set_matplotlib_formats(\"retina\")"
   ]
  },
  {
   "attachments": {},
   "cell_type": "markdown",
   "metadata": {},
   "source": [
    "# Primal heuristics comparisons"
   ]
  },
  {
   "attachments": {},
   "cell_type": "markdown",
   "metadata": {},
   "source": [
    "## Without fixed variables"
   ]
  },
  {
   "cell_type": "code",
   "execution_count": null,
   "metadata": {},
   "outputs": [],
   "source": [
    "table = []\n",
    "funcs = [(greedy, \"Greedy\"), (dobson, \"Dobson\"),\n",
    "         (hall_hochbaum, \"Hall-Hochbaum\")]\n",
    "for rows, cols in tqdm(\n",
    "    [(5, 10), (10, 20), (20, 50), (50, 100)], leave=False):\n",
    "    res = {\"Rows\": rows, \"Columns\": cols, \"Greedy\": 0, \n",
    "           \"Dobson\": 0, \"Hall-Hochbaum\": 0}\n",
    "    for i in tqdm(range(10)):\n",
    "        A, b = generate_problem(rows, cols)\n",
    "        v = []\n",
    "        for f, name in funcs:\n",
    "            ub = np.sum(A, axis=0) @ f(A, b, [], [])\n",
    "            v.append(ub)\n",
    "        j = np.argmin(v)\n",
    "        best = funcs[j][1]\n",
    "        res[best] += 1\n",
    "    table.append(res)"
   ]
  },
  {
   "cell_type": "code",
   "execution_count": null,
   "metadata": {},
   "outputs": [],
   "source": [
    "with open(\"results/primal.json\", \"w\") as f:\n",
    "    out = {\"output\": table}\n",
    "    json.dump(out, f)"
   ]
  },
  {
   "cell_type": "code",
   "execution_count": null,
   "metadata": {},
   "outputs": [],
   "source": [
    "with open(\"results/primal.json\", \"r\") as f:\n",
    "    table = json.load(f)[\"output\"]"
   ]
  },
  {
   "cell_type": "code",
   "execution_count": null,
   "metadata": {},
   "outputs": [],
   "source": [
    "df = pd.DataFrame(table)\n",
    "df = df.set_index([\"Rows\", \"Columns\"])\n",
    "df"
   ]
  },
  {
   "cell_type": "code",
   "execution_count": null,
   "metadata": {},
   "outputs": [],
   "source": [
    "s = df.style.highlight_max(axis=1, props=\"bfseries: ;\")\n",
    "print(s.to_latex(column_format=\"llccc\", \n",
    "                 hrules=True, \n",
    "                 position_float=\"centering\"))"
   ]
  },
  {
   "attachments": {},
   "cell_type": "markdown",
   "metadata": {},
   "source": [
    "## With fixed variables"
   ]
  },
  {
   "cell_type": "code",
   "execution_count": null,
   "metadata": {},
   "outputs": [],
   "source": [
    "np.random.seed(42)\n",
    "\n",
    "table = []\n",
    "funcs = [(greedy, \"Greedy\"), (dobson, \"Dobson\"),\n",
    "         (hall_hochbaum, \"Hall-Hochbaum\")]\n",
    "for rows, cols in tqdm(\n",
    "    [(5, 10), (10, 20), (20, 50), (50, 100)], leave=False):\n",
    "    res = {\"Rows\": rows, \"Cols\": cols, \"Greedy\": 0, \n",
    "           \"Dobson\": 0, \"Hall-Hochbaum\": 0}\n",
    "    for i in tqdm(range(10)):\n",
    "        A, b = generate_problem(rows, cols)\n",
    "        fixed_n = int(cols * 0.3) \n",
    "        fixed = np.random.choice(\n",
    "            A.shape[-1], fixed_n, replace=False)\n",
    "        x0 = fixed[:int(fixed_n / 2)]\n",
    "        x1 = fixed[int(fixed_n / 2) + 1:]\n",
    "        x = np.ones(A.shape[-1])\n",
    "        x[x0] = 0\n",
    "        if np.any(A @ x < b):\n",
    "            continue\n",
    "        v = []\n",
    "        for f, name in funcs:\n",
    "            ub = np.sum(A, axis=0) @ f(A, b, [], [])\n",
    "            v.append(ub)\n",
    "        j = np.argmin(v)\n",
    "        best = funcs[j][1]\n",
    "        res[best] += 1\n",
    "    table.append(res)"
   ]
  },
  {
   "cell_type": "code",
   "execution_count": null,
   "metadata": {},
   "outputs": [],
   "source": [
    "table"
   ]
  },
  {
   "attachments": {},
   "cell_type": "markdown",
   "metadata": {},
   "source": [
    "# Subgradient optimization lower bounds"
   ]
  },
  {
   "cell_type": "code",
   "execution_count": null,
   "metadata": {},
   "outputs": [],
   "source": [
    "data = {}\n",
    "omegas = [10, 20, 40, 50, 70, 100, 150, 200, 300]\n",
    "for rows, cols in tqdm(\n",
    "    [(10, 20), (20, 30), (40, 50), (50, 60)], leave=False):\n",
    "    res = []\n",
    "    for _ in range(10):\n",
    "        A, b = generate_problem(rows, cols)\n",
    "        x = hall_hochbaum(A, b, [], [])\n",
    "        ub = np.sum(A, axis=0) @ x\n",
    "\n",
    "        prob_res = []\n",
    "        for omega in omegas:\n",
    "            lb = subgrad_opt(A, b, ub, [], [], omega=omega)\n",
    "            prob_res.append(lb)\n",
    "\n",
    "        prob_res = np.array(prob_res)\n",
    "        if prob_res.max() == prob_res.min():\n",
    "            prob_res = np.ones_like(prob_res)\n",
    "        else:\n",
    "            prob_res = (prob_res - prob_res.min()) / \\\n",
    "                (prob_res.max() - prob_res.min())\n",
    "        res.append(prob_res)\n",
    "    \n",
    "    data[(rows, cols)] = list(zip(omegas,np.array(res).mean(axis=0)))"
   ]
  },
  {
   "cell_type": "code",
   "execution_count": null,
   "metadata": {},
   "outputs": [],
   "source": [
    "fig, ax = plt.subplots()\n",
    "for k, v in data.items():\n",
    "    x = np.array(v)[:,0]\n",
    "    y = np.array(v)[:,1]\n",
    "    ax.plot(x, y, label=f\"{k[0]} rows, {k[1]} columns\")\n",
    "ax.legend()\n",
    "ax.set_xlabel(\"Iterations\")\n",
    "ax.set_ylabel(\"Scaled lower bound\")\n",
    "ax.set_title(\"Subgradient optimization lower bounds\")\n",
    "plt.savefig(\"report/img/subgrad_lb.png\", \n",
    "            dpi=300, bbox_inches=\"tight\")"
   ]
  },
  {
   "cell_type": "code",
   "execution_count": null,
   "metadata": {},
   "outputs": [],
   "source": [
    "gap_ls = []\n",
    "for _, v in data.items():\n",
    "    gap_prob = []\n",
    "    for omega, val in v:\n",
    "        gap_prob.append(val)\n",
    "    gap_ls.append(gap_prob)\n",
    "\n",
    "# omega = 150 at index 6\n",
    "np.max(1 - np.array(gap_ls)[:,6]).round(3)"
   ]
  },
  {
   "attachments": {},
   "cell_type": "markdown",
   "metadata": {},
   "source": [
    "# Branch and Bound models"
   ]
  },
  {
   "cell_type": "code",
   "execution_count": null,
   "metadata": {},
   "outputs": [],
   "source": [
    "lagr_callback = LagrPenaltiesReductionCallback()\n",
    "col_callback = ColumnInclusionCallback()\n",
    "opt_red_callback = OptReductionCallback()\n",
    "primal_heur = PrimalHeurCallback()\n",
    "primal_heur_root = PrimalHeurCallback(only_root=True)\n",
    "\n",
    "models = {\n",
    "    \"Subgrad\": {\n",
    "        \"branch_strategy\": branch_reduced_costs, \n",
    "        \"lb_strategy\": subgrad_opt\n",
    "        },\n",
    "    \"SubgradPrimal\": {\n",
    "        \"branch_strategy\": branch_reduced_costs, \n",
    "        \"lb_strategy\": subgrad_opt,\n",
    "        \"callbacks\": [primal_heur]\n",
    "        },\n",
    "    \"SubgradPrimalRed\": {\n",
    "        \"branch_strategy\": branch_reduced_costs, \n",
    "        \"lb_strategy\": subgrad_opt,\n",
    "        \"callbacks\": [primal_heur, lagr_callback, \n",
    "                      col_callback, opt_red_callback]\n",
    "        },\n",
    "    \"SubgradPrimalRootRed\": {\n",
    "        \"branch_strategy\": branch_reduced_costs, \n",
    "        \"lb_strategy\": subgrad_opt,\n",
    "        \"callbacks\": [primal_heur_root, lagr_callback, \n",
    "                      col_callback, opt_red_callback]\n",
    "        },\n",
    "    \"SubgradPrimalRedBeasleyBranch\": {\n",
    "        \"branch_strategy\": branch_beasley, \n",
    "        \"lb_strategy\": subgrad_opt,\n",
    "        \"callbacks\": [primal_heur, lagr_callback, \n",
    "                      col_callback, opt_red_callback]\n",
    "        },\n",
    "    \"LPPrimalCost\": {\n",
    "        \"branch_strategy\": branch_cost, \n",
    "        \"lb_strategy\": lp_rel,\n",
    "        \"callbacks\": [primal_heur, lagr_callback, \n",
    "                      col_callback, opt_red_callback]},\n",
    "    \"LPPrimalBeasley\": {\n",
    "        \"branch_strategy\": branch_beasley, \n",
    "        \"lb_strategy\": lp_rel,\n",
    "        \"callbacks\": [primal_heur, lagr_callback, \n",
    "                      col_callback, opt_red_callback]},\n",
    "    \"DualRed\": {\n",
    "        \"branch_strategy\": branch_beasley, \n",
    "        \"lb_strategy\": dual_lb,\n",
    "        \"callbacks\": [primal_heur, lagr_callback, \n",
    "                      col_callback, opt_red_callback]},\n",
    "}\n",
    "short_names = {\n",
    "    \"Gurobi\": \"Gurobi\",\n",
    "    \"Subgrad\": \"S\",\n",
    "    \"SubgradPrimal\": \"SP\",\n",
    "    \"SubgradPrimalRed\": \"SPR\",\n",
    "    \"SubgradPrimalRootRed\": \"SPRR\",\n",
    "    \"SubgradPrimalRedBeasleyBranch\": \"SPRB\",\n",
    "    \"LPPrimalCost\": \"LPC\",\n",
    "    \"LPPrimalBeasley\" : \"LPB\",\n",
    "    \"DualRed\" : \"DR\"\n",
    "}\n",
    "col_names = [\"S\", \"SP\", \"SPR\", \"SPRR\", \"SPRB\", \"LPC\", \"LPB\", \"DR\"]"
   ]
  },
  {
   "cell_type": "code",
   "execution_count": null,
   "metadata": {},
   "outputs": [],
   "source": [
    "data = {}\n",
    "time_limit = 60 * 5\n",
    "for rows, cols, density in tqdm(\n",
    "    [(7, 15, 0.3), (7, 15, 0.5), (7, 15, 0.7), \n",
    "     (10, 20, 0.3), (10, 20, 0.5), (10, 20, 0.7),\n",
    "     (13, 22, 0.3), (13, 22, 0.5), (13, 22, 0.7),\n",
    "     (15, 25, 0.3), (15, 25, 0.5), (15, 25, 0.7)],\n",
    "     desc=\"Problem:\", leave=False):\n",
    "    res = {}\n",
    "    A, b = generate_problem(rows, cols, density)\n",
    "    \n",
    "    start = time.process_time()\n",
    "    m = gp.Model()\n",
    "    m.Params.LogToConsole = 0\n",
    "    x = m.addMVar(A.shape[-1], vtype=GRB.BINARY, name=\"x\")\n",
    "    m.setObjective(np.sum(A, axis=0) @ x)\n",
    "    m.addConstr(A @ x >= b)\n",
    "    m.optimize()\n",
    "    elapsed = time.process_time() - start\n",
    "    opt_gurobi = m.getObjective().getValue()\n",
    "    \n",
    "    x = []\n",
    "    for v in m.getVars():\n",
    "        x.append(v.x)\n",
    "    x = np.array(x)\n",
    "    \n",
    "    # Make sure that the solution is feasible\n",
    "    assert np.all(A @ x >= b)\n",
    "\n",
    "    res[\"Gurobi\"] = (elapsed, m.NodeCount)\n",
    "\n",
    "    for model, config in tqdm(\n",
    "        models.items(), desc=\"Model:\", leave=False):\n",
    "        start = time.process_time()\n",
    "        bb = BranchAndBound(**config, time_start=start, \n",
    "                            time_limit=time_limit)\n",
    "        try:\n",
    "            bb.search(A, b)\n",
    "            elapsed = time.process_time() - start\n",
    "            x = np.zeros(A.shape[-1])\n",
    "            x[bb.best.x1] = 1\n",
    "            \n",
    "            # Make sure that the solution is feasible\n",
    "            assert np.all(A @ x >= b)\n",
    "            opt = np.sum(A, axis=0) @ x\n",
    "\n",
    "            # Check that the solution is optimal\n",
    "            assert opt == opt_gurobi\n",
    "            res[model] = (elapsed, bb.node_count)\n",
    "        except TimeLimitException:\n",
    "            res[model] = (np.nan, np.nan)\n",
    "        \n",
    "    data[(rows, cols, density)] = res"
   ]
  },
  {
   "cell_type": "code",
   "execution_count": null,
   "metadata": {},
   "outputs": [],
   "source": [
    "with open(\"results/models.json\", \"w\") as f:\n",
    "    nd = {str(k): v for k, v in data.items()}\n",
    "    json.dump(nd, f)"
   ]
  },
  {
   "cell_type": "code",
   "execution_count": null,
   "metadata": {},
   "outputs": [],
   "source": [
    "with open(\"results/models.json\", \"r\") as f:\n",
    "    results = json.load(f)"
   ]
  },
  {
   "cell_type": "code",
   "execution_count": null,
   "metadata": {},
   "outputs": [],
   "source": [
    "time_dict = {\n",
    "    tuple(k[1:-1].split(\", \")): {\n",
    "        short_names[model]: values[0] for model, values in v.items()}  \n",
    "    for k, v in results.items()}\n",
    "df = pd.DataFrame(time_dict)\n",
    "df = df.T.round(2)\n",
    "df = df.rename_axis([\"Rows\", \"Columns\", \"Density\"])\n",
    "df"
   ]
  },
  {
   "cell_type": "code",
   "execution_count": null,
   "metadata": {},
   "outputs": [],
   "source": [
    "s = df.style.format(\"{:.2f}\") \\\n",
    "            .highlight_min(subset=col_names, \n",
    "                           axis=1, props=\"bfseries: ;\")\n",
    "print(s.to_latex(column_format=\"lllcccccccccc\", \n",
    "                 hrules=True, \n",
    "                 clines=\"skip-last;data\",\n",
    "                 caption=\"Runtime of different configurations of the branch-and-bound algorithm over randomly generated TRAP instances with different numbers of rows and columns and different densities. Configurations whose runtime exceeded 5 minutes were assigned nan values. The best result obtained by algorithms other than Gurobi is highlighted in bold for each problem instance. The runtime was measured in seconds.\",\n",
    "                 label=\"tab:results:runtime\", \n",
    "                 position_float=\"centering\"))"
   ]
  },
  {
   "cell_type": "code",
   "execution_count": null,
   "metadata": {},
   "outputs": [],
   "source": [
    "nodes_dict = {\n",
    "    tuple(k[1:-1].split(\", \")): {\n",
    "        short_names[model]: values[1] for model, values in v.items()}  \n",
    "    for k, v in results.items()}\n",
    "df = pd.DataFrame(nodes_dict)\n",
    "df = df.T\n",
    "df = df.rename_axis([\"Rows\", \"Columns\", \"Density\"])\n",
    "df"
   ]
  },
  {
   "cell_type": "code",
   "execution_count": null,
   "metadata": {},
   "outputs": [],
   "source": [
    "s = df.style.format(\"{:.0f}\") \\\n",
    "            .highlight_min(subset=col_names, \n",
    "                           axis=1, props=\"bfseries: ;\")\n",
    "print(s.to_latex(column_format=\"lllcccccccccc\", \n",
    "                 hrules=True, \n",
    "                 clines=\"skip-last;data\",\n",
    "                 caption=\"Number of nodes generated by different configurations of the branch-and-bound algorithm over randomly generated TRAP instances with different numbers of rows and columns and different densities. Configurations whose runtime exceeded 5 minutes were assigned nan values. The best result obtained by algorithms other than Gurobi is highlighted in bold for each problem instance.\",\n",
    "                 label=\"tab:results:nodes\", \n",
    "                 position_float=\"centering\"))"
   ]
  }
 ],
 "metadata": {
  "kernelspec": {
   "display_name": "p3.11",
   "language": "python",
   "name": "python3"
  },
  "language_info": {
   "codemirror_mode": {
    "name": "ipython",
    "version": 3
   },
   "file_extension": ".py",
   "mimetype": "text/x-python",
   "name": "python",
   "nbconvert_exporter": "python",
   "pygments_lexer": "ipython3",
   "version": "3.11.2"
  },
  "orig_nbformat": 4
 },
 "nbformat": 4,
 "nbformat_minor": 2
}
