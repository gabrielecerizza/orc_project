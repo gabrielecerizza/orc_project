{
 "cells": [
  {
   "cell_type": "code",
   "execution_count": 1,
   "metadata": {},
   "outputs": [],
   "source": [
    "import gurobipy as gp\n",
    "import numpy as np\n",
    "from gurobipy import GRB\n",
    "\n",
    "from orc.utils import generate_problem\n",
    "from orc.primal import *\n",
    "from orc.lagrangean import subgrad_opt"
   ]
  },
  {
   "cell_type": "code",
   "execution_count": 2,
   "metadata": {},
   "outputs": [],
   "source": [
    "A, b = generate_problem(20, 50)"
   ]
  },
  {
   "cell_type": "code",
   "execution_count": 36,
   "metadata": {},
   "outputs": [],
   "source": [
    "X0 = np.array([False] * A.shape[-1])\n",
    "X1 = np.array([False] * A.shape[-1])"
   ]
  },
  {
   "cell_type": "code",
   "execution_count": 3,
   "metadata": {},
   "outputs": [
    {
     "data": {
      "text/plain": [
       "(35201.0,\n",
       " array([0., 0., 0., 1., 1., 0., 0., 0., 0., 1., 0., 1., 0., 0., 0., 0., 1.,\n",
       "        1., 1., 1., 1., 0., 0., 0., 1., 0., 0., 1., 1., 1., 1., 1., 1., 0.,\n",
       "        0., 1., 1., 0., 0., 1., 1., 0., 0., 1., 0., 1., 0., 0., 0., 0.]))"
      ]
     },
     "execution_count": 3,
     "metadata": {},
     "output_type": "execute_result"
    }
   ],
   "source": [
    "x = hall_hochbaum(A, b)\n",
    "ub = np.sum(A, axis=0) @ x\n",
    "ub, x"
   ]
  },
  {
   "cell_type": "code",
   "execution_count": 4,
   "metadata": {},
   "outputs": [
    {
     "data": {
      "text/plain": [
       "(array([0.00000000e+00, 1.58857126e+00, 2.21734209e+00, 2.80137002e+00,\n",
       "        7.58417458e-01, 9.01132058e-01, 1.02372648e+00, 1.28478068e+00,\n",
       "        0.00000000e+00, 7.82259108e-01, 0.00000000e+00, 6.48971262e-01,\n",
       "        5.12145340e-05, 0.00000000e+00, 4.80860242e-01, 4.65932134e+00,\n",
       "        4.28830947e+00, 0.00000000e+00, 9.55872138e-03, 7.38694122e-01]),\n",
       " 29653.476311837752,\n",
       " array([0, 0, 0, 1, 1, 0, 0, 0, 0, 1, 0, 1, 0, 1, 0, 1, 1, 0, 1, 1, 0, 0,\n",
       "        0, 0, 1, 0, 0, 1, 1, 0, 1, 1, 1, 0, 0, 0, 1, 0, 0, 0, 0, 0, 0, 1,\n",
       "        0, 0, 0, 1, 0, 0]))"
      ]
     },
     "execution_count": 4,
     "metadata": {},
     "output_type": "execute_result"
    }
   ],
   "source": [
    "lambd, lb, x_lb = subgrad_opt(A, b, ub, X0, X1)\n",
    "lambd, lb, x_lb"
   ]
  },
  {
   "cell_type": "code",
   "execution_count": 5,
   "metadata": {},
   "outputs": [
    {
     "data": {
      "text/plain": [
       "[(423.0, 0.0),\n",
       " (18.0, 1.588571262949864),\n",
       " (124.0, 2.217342090667555),\n",
       " (161.0, 2.8013700162233253),\n",
       " (173.0, 0.7584174575524396),\n",
       " (27.0, 0.9011320577253875),\n",
       " (220.0, 1.023726476377005),\n",
       " (196.0, 1.2847806837260642),\n",
       " (14.0, 0.0),\n",
       " (-178.0, 0.7822591083791471),\n",
       " (424.0, 0.0),\n",
       " (156.0, 0.6489712616617597),\n",
       " (27.0, 5.1214533987482e-05),\n",
       " (18.0, 0.0),\n",
       " (95.0, 0.4808602415873594),\n",
       " (-50.0, 4.659321337776286),\n",
       " (146.0, 4.288309471918593),\n",
       " (660.0, 0.0),\n",
       " (339.0, 0.009558721378360108),\n",
       " (125.0, 0.7386941217318727)]"
      ]
     },
     "execution_count": 5,
     "metadata": {},
     "output_type": "execute_result"
    }
   ],
   "source": [
    "list(zip(A @ x_lb - b, lambd))"
   ]
  },
  {
   "cell_type": "code",
   "execution_count": 6,
   "metadata": {},
   "outputs": [
    {
     "data": {
      "text/plain": [
       "[(249.5538849660793, 0),\n",
       " (238.86555252012155, 0),\n",
       " (793.368041389345, 0),\n",
       " (-119.29607363876326, 1),\n",
       " (-3.3719683187621, 1),\n",
       " (208.56445546112639, 0),\n",
       " (144.65434881351246, 0),\n",
       " (41.71920207993452, 0),\n",
       " (715.3692542613909, 0),\n",
       " (-47.979448683897886, 1),\n",
       " (96.27094786350966, 0),\n",
       " (-3.89676010634804, 1),\n",
       " (522.9837796534687, 0),\n",
       " (-21.256278849278942, 1),\n",
       " (265.67704725711206, 0),\n",
       " (-2.107364704172369, 1),\n",
       " (-1.027431808707961, 1),\n",
       " (32.42258628569515, 0),\n",
       " (-195.40312940889243, 1),\n",
       " (-273.1059918994456, 1),\n",
       " (350.6500202276678, 0),\n",
       " (543.203181106637, 0),\n",
       " (372.3345178109753, 0),\n",
       " (463.8137912278041, 0),\n",
       " (-333.29923546472196, 1),\n",
       " (49.476085181315455, 0),\n",
       " (204.5100201206812, 0),\n",
       " (-595.4125310583927, 1),\n",
       " (-20.65941243554105, 1),\n",
       " (49.34741988915488, 0),\n",
       " (-1.7048148543278216, 1),\n",
       " (-0.0044346598411948435, 1),\n",
       " (-2.222798391248091, 1),\n",
       " (375.5327510467439, 0),\n",
       " (55.98912769001822, 0),\n",
       " (0.05834358277041929, 0),\n",
       " (-59.31677089002159, 1),\n",
       " (411.93459649385346, 0),\n",
       " (958.8356506645366, 0),\n",
       " (242.20848910686277, 0),\n",
       " (2.6333788646304583, 0),\n",
       " (1.1245610684095482, 0),\n",
       " (1252.581224239802, 0),\n",
       " (-5.440204710901071, 1),\n",
       " (357.82840790099505, 0),\n",
       " (294.1097275811994, 0),\n",
       " (95.95880188535591, 0),\n",
       " (-85.59655580535792, 1),\n",
       " (84.53929334532648, 0),\n",
       " (914.260237113363, 0)]"
      ]
     },
     "execution_count": 6,
     "metadata": {},
     "output_type": "execute_result"
    }
   ],
   "source": [
    "list(zip((1 - lambd) @ A, x_lb))"
   ]
  },
  {
   "cell_type": "code",
   "execution_count": 7,
   "metadata": {},
   "outputs": [
    {
     "data": {
      "text/plain": [
       "array([3113., 1940., 1998., 1739., 1517., 2260., 1939., 2618., 2101.,\n",
       "       1834., 1939., 2229., 2787., 2481., 2296., 2033., 1479., 1200.,\n",
       "       1601., 1670., 1764., 1573., 2093., 2024., 1681., 2003., 2549.,\n",
       "       1977., 1193., 1437., 1791., 1597., 1140., 2098., 2445., 1687.,\n",
       "       1515., 2684., 2232., 1381., 1579., 2315., 2463., 1605., 2014.,\n",
       "       1585., 1875., 2455., 2292., 2256.])"
      ]
     },
     "execution_count": 7,
     "metadata": {},
     "output_type": "execute_result"
    }
   ],
   "source": [
    "np.sum(A, axis=0)"
   ]
  },
  {
   "cell_type": "code",
   "execution_count": 8,
   "metadata": {},
   "outputs": [
    {
     "name": "stdout",
     "output_type": "stream",
     "text": [
      "Set parameter Username\n",
      "Academic license - for non-commercial use only - expires 2024-06-16\n"
     ]
    },
    {
     "data": {
      "text/plain": [
       "<MConstr (20,) *awaiting model update*>"
      ]
     },
     "execution_count": 8,
     "metadata": {},
     "output_type": "execute_result"
    }
   ],
   "source": [
    "m = gp.Model(\"mip\")\n",
    "x = m.addMVar(A.shape[-1], vtype=GRB.BINARY, name=\"x\")\n",
    "m.setObjective(np.sum(A, axis=0) @ x)\n",
    "m.addConstr(A @ x >= b)"
   ]
  },
  {
   "cell_type": "code",
   "execution_count": 9,
   "metadata": {},
   "outputs": [
    {
     "name": "stdout",
     "output_type": "stream",
     "text": [
      "Gurobi Optimizer version 10.0.2 build v10.0.2rc0 (win64)\n",
      "\n",
      "CPU model: Intel(R) Core(TM) i7-9700K CPU @ 3.60GHz, instruction set [SSE2|AVX|AVX2]\n",
      "Thread count: 8 physical cores, 8 logical processors, using up to 8 threads\n",
      "\n",
      "Optimize a model with 20 rows, 50 columns and 500 nonzeros\n",
      "Model fingerprint: 0x674c213e\n",
      "Variable types: 0 continuous, 50 integer (50 binary)\n",
      "Coefficient statistics:\n",
      "  Matrix range     [8e+00, 4e+02]\n",
      "  Objective range  [1e+03, 3e+03]\n",
      "  Bounds range     [1e+00, 1e+00]\n",
      "  RHS range        [2e+02, 2e+03]\n",
      "Found heuristic solution: objective 43354.000000\n",
      "Presolve time: 0.05s\n",
      "Presolved: 20 rows, 50 columns, 500 nonzeros\n",
      "Variable types: 0 continuous, 50 integer (50 binary)\n",
      "Found heuristic solution: objective 40511.000000\n",
      "\n",
      "Root relaxation: objective 2.976410e+04, 23 iterations, 0.02 seconds (0.00 work units)\n",
      "\n",
      "    Nodes    |    Current Node    |     Objective Bounds      |     Work\n",
      " Expl Unexpl |  Obj  Depth IntInf | Incumbent    BestBd   Gap | It/Node Time\n",
      "\n",
      "     0     0 29764.0975    0   13 40511.0000 29764.0975  26.5%     -    0s\n",
      "H    0     0                    33828.000000 29764.0975  12.0%     -    0s\n",
      "H    0     0                    32232.000000 29764.0975  7.66%     -    0s\n",
      "     0     0 30328.0441    0   18 32232.0000 30328.0441  5.91%     -    0s\n",
      "H    0     0                    31697.000000 30328.0441  4.32%     -    0s\n",
      "     0     0 30652.0202    0   15 31697.0000 30652.0202  3.30%     -    0s\n",
      "     0     0 30694.1727    0   16 31697.0000 30694.1727  3.16%     -    0s\n",
      "     0     0 30721.5598    0   15 31697.0000 30721.5598  3.08%     -    0s\n",
      "     0     0 30747.8287    0   19 31697.0000 30747.8287  2.99%     -    0s\n",
      "     0     0 30749.3396    0   20 31697.0000 30749.3396  2.99%     -    0s\n",
      "     0     0 30749.3478    0   20 31697.0000 30749.3478  2.99%     -    0s\n",
      "     0     0 30781.2046    0   19 31697.0000 30781.2046  2.89%     -    0s\n",
      "H    0     0                    31630.000000 30782.9079  2.68%     -    0s\n",
      "     0     0 30782.9079    0   20 31630.0000 30782.9079  2.68%     -    0s\n",
      "     0     0 30796.3365    0   18 31630.0000 30796.3365  2.64%     -    0s\n",
      "     0     0 30803.9352    0   19 31630.0000 30803.9352  2.61%     -    0s\n",
      "     0     0 30818.8892    0   20 31630.0000 30818.8892  2.56%     -    0s\n",
      "     0     0 30820.4424    0   21 31630.0000 30820.4424  2.56%     -    0s\n",
      "     0     0 30821.9544    0   22 31630.0000 30821.9544  2.55%     -    0s\n",
      "     0     0 30822.0169    0   22 31630.0000 30822.0169  2.55%     -    0s\n",
      "     0     0 30830.4831    0   22 31630.0000 30830.4831  2.53%     -    0s\n",
      "     0     0 30830.4831    0   20 31630.0000 30830.4831  2.53%     -    0s\n",
      "     0     0 30830.4831    0   21 31630.0000 30830.4831  2.53%     -    0s\n",
      "     0     0 30830.5002    0   21 31630.0000 30830.5002  2.53%     -    0s\n",
      "     0     0 30838.7464    0   20 31630.0000 30838.7464  2.50%     -    0s\n",
      "     0     0 30838.7464    0   20 31630.0000 30838.7464  2.50%     -    0s\n",
      "     0     2 30838.7464    0   20 31630.0000 30838.7464  2.50%     -    0s\n",
      "\n",
      "Cutting planes:\n",
      "  Gomory: 1\n",
      "  Cover: 13\n",
      "  MIR: 15\n",
      "  StrongCG: 2\n",
      "\n",
      "Explored 653 nodes (5090 simplex iterations) in 0.46 seconds (0.05 work units)\n",
      "Thread count was 8 (of 8 available processors)\n",
      "\n",
      "Solution count 6: 31630 31697 32232 ... 43354\n",
      "\n",
      "Optimal solution found (tolerance 1.00e-04)\n",
      "Best objective 3.163000000000e+04, best bound 3.163000000000e+04, gap 0.0000%\n",
      "x[0] -0.0\n",
      "x[1] -0.0\n",
      "x[2] -0.0\n",
      "x[3] 1.0\n",
      "x[4] 0.0\n",
      "x[5] -0.0\n",
      "x[6] -0.0\n",
      "x[7] 0.0\n",
      "x[8] -0.0\n",
      "x[9] 1.0\n",
      "x[10] 1.0\n",
      "x[11] 1.0\n",
      "x[12] -0.0\n",
      "x[13] 1.0\n",
      "x[14] -0.0\n",
      "x[15] 1.0\n",
      "x[16] 0.0\n",
      "x[17] 1.0\n",
      "x[18] 1.0\n",
      "x[19] 1.0\n",
      "x[20] -0.0\n",
      "x[21] -0.0\n",
      "x[22] -0.0\n",
      "x[23] -0.0\n",
      "x[24] 1.0\n",
      "x[25] 0.0\n",
      "x[26] 0.0\n",
      "x[27] 1.0\n",
      "x[28] 1.0\n",
      "x[29] 0.0\n",
      "x[30] 1.0\n",
      "x[31] 0.0\n",
      "x[32] 1.0\n",
      "x[33] -0.0\n",
      "x[34] 0.0\n",
      "x[35] 1.0\n",
      "x[36] 1.0\n",
      "x[37] -0.0\n",
      "x[38] -0.0\n",
      "x[39] -0.0\n",
      "x[40] 0.0\n",
      "x[41] 1.0\n",
      "x[42] -0.0\n",
      "x[43] 1.0\n",
      "x[44] -0.0\n",
      "x[45] -0.0\n",
      "x[46] -0.0\n",
      "x[47] 0.0\n",
      "x[48] -0.0\n",
      "x[49] -0.0\n"
     ]
    },
    {
     "data": {
      "text/plain": [
       "31630.0"
      ]
     },
     "execution_count": 9,
     "metadata": {},
     "output_type": "execute_result"
    }
   ],
   "source": [
    "m.optimize()\n",
    "for v in m.getVars():\n",
    "    print(v.varName, v.x)\n",
    "m.getObjective().getValue()"
   ]
  },
  {
   "cell_type": "code",
   "execution_count": 18,
   "metadata": {},
   "outputs": [
    {
     "data": {
      "text/plain": [
       "9"
      ]
     },
     "execution_count": 18,
     "metadata": {},
     "output_type": "execute_result"
    }
   ],
   "source": [
    "r = np.argmax(b - A @ x_lb)\n",
    "r"
   ]
  },
  {
   "cell_type": "code",
   "execution_count": 59,
   "metadata": {},
   "outputs": [
    {
     "data": {
      "text/plain": [
       "[4,\n",
       " 5,\n",
       " 7,\n",
       " 9,\n",
       " 10,\n",
       " 11,\n",
       " 13,\n",
       " 14,\n",
       " 15,\n",
       " 16,\n",
       " 17,\n",
       " 18,\n",
       " 19,\n",
       " 20,\n",
       " 23,\n",
       " 25,\n",
       " 27,\n",
       " 28,\n",
       " 29,\n",
       " 31,\n",
       " 36,\n",
       " 38,\n",
       " 43,\n",
       " 45,\n",
       " 46]"
      ]
     },
     "execution_count": 59,
     "metadata": {},
     "output_type": "execute_result"
    }
   ],
   "source": [
    "fixed0 = set(np.where(X0)[0])\n",
    "fixed1 = set(np.where(X1)[0])\n",
    "zero_entry = set(np.where(A[r] == 0)[0])\n",
    "not_candidates = list(fixed0.union(fixed1).union(zero_entry))\n",
    "not_candidates"
   ]
  },
  {
   "cell_type": "code",
   "execution_count": 57,
   "metadata": {},
   "outputs": [
    {
     "data": {
      "text/plain": [
       "array([ 2.49553885e+02,  2.38865553e+02,  7.93368041e+02, -1.19296074e+02,\n",
       "       -3.37196832e+00,  2.08564455e+02,  1.44654349e+02,  4.17192021e+01,\n",
       "        7.15369254e+02, -4.79794487e+01,  9.62709479e+01, -3.89676011e+00,\n",
       "        5.22983780e+02, -2.12562788e+01,  2.65677047e+02, -2.10736470e+00,\n",
       "       -1.02743181e+00,  3.24225863e+01, -1.95403129e+02, -2.73105992e+02,\n",
       "        3.50650020e+02,  5.43203181e+02,  3.72334518e+02,  4.63813791e+02,\n",
       "       -3.33299235e+02,  4.94760852e+01,  2.04510020e+02, -5.95412531e+02,\n",
       "       -2.06594124e+01,  4.93474199e+01, -1.70481485e+00, -4.43465984e-03,\n",
       "       -2.22279839e+00,  3.75532751e+02,  5.59891277e+01,  5.83435828e-02,\n",
       "       -5.93167709e+01,  4.11934596e+02,  9.58835651e+02,  2.42208489e+02,\n",
       "        2.63337886e+00,  1.12456107e+00,  1.25258122e+03, -5.44020471e+00,\n",
       "        3.57828408e+02,  2.94109728e+02,  9.59588019e+01, -8.55965558e+01,\n",
       "        8.45392933e+01,  9.14260237e+02])"
      ]
     },
     "execution_count": 57,
     "metadata": {},
     "output_type": "execute_result"
    }
   ],
   "source": [
    "cr = (1 - lambd) @ A\n",
    "cr"
   ]
  },
  {
   "cell_type": "code",
   "execution_count": 61,
   "metadata": {},
   "outputs": [
    {
     "data": {
      "text/plain": [
       "array([ 2.49553885e+02,  2.38865553e+02,  7.93368041e+02, -1.19296074e+02,\n",
       "                   inf,             inf,  1.44654349e+02,             inf,\n",
       "        7.15369254e+02,             inf,             inf,             inf,\n",
       "        5.22983780e+02,             inf,             inf,             inf,\n",
       "                   inf,             inf,             inf,             inf,\n",
       "                   inf,  5.43203181e+02,  3.72334518e+02,             inf,\n",
       "       -3.33299235e+02,             inf,  2.04510020e+02,             inf,\n",
       "                   inf,             inf, -1.70481485e+00,             inf,\n",
       "       -2.22279839e+00,  3.75532751e+02,  5.59891277e+01,  5.83435828e-02,\n",
       "                   inf,  4.11934596e+02,             inf,  2.42208489e+02,\n",
       "        2.63337886e+00,  1.12456107e+00,  1.25258122e+03,             inf,\n",
       "        3.57828408e+02,             inf,             inf, -8.55965558e+01,\n",
       "        8.45392933e+01,  9.14260237e+02])"
      ]
     },
     "execution_count": 61,
     "metadata": {},
     "output_type": "execute_result"
    }
   ],
   "source": [
    "cr[not_candidates] = np.inf\n",
    "cr"
   ]
  },
  {
   "cell_type": "code",
   "execution_count": 63,
   "metadata": {},
   "outputs": [
    {
     "data": {
      "text/plain": [
       "24"
      ]
     },
     "execution_count": 63,
     "metadata": {},
     "output_type": "execute_result"
    }
   ],
   "source": [
    "j = np.argmin(cr)\n",
    "j\n",
    "# add j to X0 in a branch and to X1 in the other"
   ]
  },
  {
   "cell_type": "code",
   "execution_count": null,
   "metadata": {},
   "outputs": [],
   "source": []
  }
 ],
 "metadata": {
  "kernelspec": {
   "display_name": "p3.11",
   "language": "python",
   "name": "python3"
  },
  "language_info": {
   "codemirror_mode": {
    "name": "ipython",
    "version": 3
   },
   "file_extension": ".py",
   "mimetype": "text/x-python",
   "name": "python",
   "nbconvert_exporter": "python",
   "pygments_lexer": "ipython3",
   "version": "3.11.2"
  },
  "orig_nbformat": 4
 },
 "nbformat": 4,
 "nbformat_minor": 2
}
