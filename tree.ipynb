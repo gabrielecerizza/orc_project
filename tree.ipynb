{
 "cells": [
  {
   "cell_type": "code",
   "execution_count": 1,
   "metadata": {},
   "outputs": [],
   "source": [
    "import numpy as np"
   ]
  },
  {
   "cell_type": "code",
   "execution_count": null,
   "metadata": {},
   "outputs": [],
   "source": [
    "class Node:\n",
    "    def _init_(self, level, val):\n",
    "        self.level = level\n",
    "        self.val = val\n",
    "        self.lb = None\n",
    "\n",
    "    def get_val(self):\n",
    "        return self.val\n",
    "    \n",
    "    def get_lb(self):\n",
    "        return self.lb\n",
    "\n",
    "    def get_children(self):\n",
    "        pass\n",
    "\n",
    "    def is_leaf(self):\n",
    "        pass\n",
    "    \n",
    "    def compute_lb(self):\n",
    "        pass"
   ]
  },
  {
   "cell_type": "code",
   "execution_count": null,
   "metadata": {},
   "outputs": [],
   "source": [
    "class Tree:\n",
    "    def _init_(self, root):\n",
    "        self.open_list = [root]\n",
    "\n",
    "    def is_empty(self):\n",
    "        return len(self.open_list) == 0\n",
    "    \n",
    "    def remove(self):\n",
    "        return self.open_list.pop(0)\n",
    "    \n",
    "    def add(self, node):\n",
    "        # TODO: fix when using heap\n",
    "        self.open_list.append(node)"
   ]
  },
  {
   "cell_type": "code",
   "execution_count": null,
   "metadata": {},
   "outputs": [],
   "source": [
    "class BranchAndBound:\n",
    "    def _init_(self, process_root_f=None):\n",
    "        self.tree = Tree(Node(0, 0))\n",
    "        self.best = None\n",
    "        self.ub = np.inf\n",
    "        self.process_root_f = process_root_f\n",
    "\n",
    "    def search(self):\n",
    "        while (not self.tree.is_empty()):\n",
    "            father = self.tree.remove()\n",
    "            if father.get_level() == 0:\n",
    "                self.process_root(father)\n",
    "            self.branch(father)\n",
    "            \n",
    "    def process_root(self, root):\n",
    "        if self.process_root_f is not None:\n",
    "            self.process_root_f(root)\n",
    "\n",
    "    def branch(self, father):\n",
    "        for child in father.get_children():\n",
    "            if child.is_leaf():\n",
    "                self.evaluate_leaf(child)\n",
    "            else:\n",
    "                child.compute_lb()\n",
    "                if child.get_lb() < self.ub:   \n",
    "                    self.tree.add(child)\n",
    "            \n",
    "    def evaluate_leaf(self, leaf):\n",
    "        if (self.best is None) or (leaf.get_val() < self.best.get_val()):\n",
    "            self.best = leaf\n",
    "            self.ub = self.best.get_val()"
   ]
  }
 ],
 "metadata": {
  "kernelspec": {
   "display_name": "p3.11",
   "language": "python",
   "name": "python3"
  },
  "language_info": {
   "codemirror_mode": {
    "name": "ipython",
    "version": 3
   },
   "file_extension": ".py",
   "mimetype": "text/x-python",
   "name": "python",
   "nbconvert_exporter": "python",
   "pygments_lexer": "ipython3",
   "version": "3.11.2"
  },
  "orig_nbformat": 4
 },
 "nbformat": 4,
 "nbformat_minor": 2
}
