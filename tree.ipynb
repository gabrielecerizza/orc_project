{
 "cells": [
  {
   "cell_type": "code",
   "execution_count": 1,
   "metadata": {},
   "outputs": [],
   "source": [
    "from heapq import heappop, heappush\n",
    "\n",
    "import numpy as np"
   ]
  },
  {
   "cell_type": "code",
   "execution_count": 4,
   "metadata": {},
   "outputs": [],
   "source": [
    "class Node:\n",
    "    def __init__(self, level, x0, x1, num_var, \n",
    "               branch_strategy, subgrad_strategy):\n",
    "        self.level = level\n",
    "        self.x0 = x0\n",
    "        self.x1 = x1\n",
    "        self.num_var = num_var\n",
    "        self.branch_strategy = branch_strategy\n",
    "        self.subgrad_strategy = subgrad_strategy\n",
    "        self.lb = None\n",
    "        self.x_lb = None\n",
    "        self.lambd = None\n",
    "\n",
    "    def generate_children(self, A, b):\n",
    "        return self.branch_strategy(A, b, self)\n",
    "\n",
    "    def is_leaf(self):\n",
    "        # True if all variables have been fixed\n",
    "        return len(self.x0) + len(self.x1) == self.num_var\n",
    "    \n",
    "    def compute_lb(self, A, b, ub):\n",
    "        self.lambd, self.lb, self.x_lb = \\\n",
    "            self.subgrad_strategy(A, b, ub, self.x0, self.x1)\n",
    "        \n",
    "    def get_val(self, A):\n",
    "        x = np.array((self.num_var,))\n",
    "        x[self.x0] = 0\n",
    "        x[self.x1] = 1\n",
    "        return np.sum(A, axis=0) @ x\n",
    "    \n",
    "    def get_lb(self):\n",
    "        return self.lb\n",
    "    \n",
    "    def get_x_lb(self):\n",
    "        return self.x_lb\n",
    "    \n",
    "    def get_lambd(self):\n",
    "        return self.lambd\n",
    "    \n",
    "    def get_x0(self):\n",
    "        return self.x0\n",
    "    \n",
    "    def get_x1(self):\n",
    "        return self.x1\n",
    "    \n",
    "    def get_num_var(self):\n",
    "        return self.num_var\n",
    "    \n",
    "    def get_subgrad_strategy(self):\n",
    "        return self.subgrad_strategy"
   ]
  },
  {
   "cell_type": "code",
   "execution_count": 5,
   "metadata": {},
   "outputs": [
    {
     "ename": "TypeError",
     "evalue": "Node.__init__() missing 6 required positional arguments: 'level', 'x0', 'x1', 'num_var', 'branch_strategy', and 'subgrad_strategy'",
     "output_type": "error",
     "traceback": [
      "\u001b[1;31m---------------------------------------------------------------------------\u001b[0m",
      "\u001b[1;31mTypeError\u001b[0m                                 Traceback (most recent call last)",
      "Cell \u001b[1;32mIn[5], line 1\u001b[0m\n\u001b[1;32m----> 1\u001b[0m n \u001b[39m=\u001b[39m Node()\n",
      "\u001b[1;31mTypeError\u001b[0m: Node.__init__() missing 6 required positional arguments: 'level', 'x0', 'x1', 'num_var', 'branch_strategy', and 'subgrad_strategy'"
     ]
    }
   ],
   "source": [
    "n = Node()"
   ]
  },
  {
   "cell_type": "code",
   "execution_count": null,
   "metadata": {},
   "outputs": [],
   "source": [
    "class Tree:\n",
    "    def _init_(self, root):\n",
    "        self.open_list = [root]\n",
    "\n",
    "    def is_empty(self):\n",
    "        return len(self.open_list) == 0\n",
    "    \n",
    "    def remove(self):\n",
    "        heappop(self.open_list)\n",
    "    \n",
    "    def add(self, node):\n",
    "        heappush(self.open_list, (node.get_lb(), node))"
   ]
  },
  {
   "cell_type": "code",
   "execution_count": null,
   "metadata": {},
   "outputs": [],
   "source": [
    "class BranchAndBound:\n",
    "    def _init_(self, process_root_f=None):\n",
    "        self.tree = Tree(Node(0, 0))\n",
    "        self.best = None\n",
    "        self.ub = np.inf\n",
    "        self.process_root_f = process_root_f\n",
    "\n",
    "    def search(self):\n",
    "        while (not self.tree.is_empty()):\n",
    "            father = self.tree.remove()\n",
    "            if father.get_level() == 0:\n",
    "                self.process_root(father)\n",
    "                father.compute_lb()\n",
    "            self.branch(father)\n",
    "            \n",
    "    def process_root(self, root):\n",
    "        if self.process_root_f is not None:\n",
    "            self.process_root_f(root)\n",
    "\n",
    "    def branch(self, father):\n",
    "        for child in father.generate_children():\n",
    "            if child.is_leaf():\n",
    "                self.evaluate_leaf(child)\n",
    "            else:\n",
    "                child.compute_lb()\n",
    "                if child.get_lb() < self.ub:   \n",
    "                    self.tree.add(child)\n",
    "            \n",
    "    def evaluate_leaf(self, leaf):\n",
    "        leaf_val = leaf.get_val()\n",
    "        if (self.best is None) or \\\n",
    "            (leaf_val < self.best.get_val()):\n",
    "            self.best = leaf\n",
    "            self.ub = leaf_val"
   ]
  },
  {
   "cell_type": "code",
   "execution_count": null,
   "metadata": {},
   "outputs": [],
   "source": [
    "def branch_strategy(A, b, node):\n",
    "    x0 = node.get_x0()\n",
    "    x1 = node.get_x1()\n",
    "\n",
    "    # Pick the row with the largest violation given the\n",
    "    # solution obtained from Lagrangean relaxation\n",
    "    r = np.argmax(b - A @ node.get_x_lb())\n",
    "    \n",
    "    # Columns with fixed values or with a zero entry\n",
    "    # on the picked row are not candidates for branching\n",
    "    zero_entry = set(np.where(A[r] == 0)[0])\n",
    "    not_candidates = list(set(x0).union(set(x1)).union(zero_entry))\n",
    "    \n",
    "    # Pick the column with minimum reduced cost\n",
    "    rc = (1 - node.get_lambd()) @ A\n",
    "    rc[not_candidates] = np.inf\n",
    "    j = np.argmin(rc)\n",
    "\n",
    "    return [\n",
    "        Node(node.get_level() + 1, x0 + [j], x1, \n",
    "             node.get_num_var(), branch_strategy, \n",
    "             node.get_subgrad_strategy()),\n",
    "        Node(node.get_level() + 1, x0, x1 + [j], \n",
    "             node.get_num_var(), branch_strategy, \n",
    "             node.get_subgrad_strategy()),     \n",
    "    ]"
   ]
  }
 ],
 "metadata": {
  "kernelspec": {
   "display_name": "p3.11",
   "language": "python",
   "name": "python3"
  },
  "language_info": {
   "codemirror_mode": {
    "name": "ipython",
    "version": 3
   },
   "file_extension": ".py",
   "mimetype": "text/x-python",
   "name": "python",
   "nbconvert_exporter": "python",
   "pygments_lexer": "ipython3",
   "version": "3.11.2"
  },
  "orig_nbformat": 4
 },
 "nbformat": 4,
 "nbformat_minor": 2
}
