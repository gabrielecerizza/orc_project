{
 "cells": [
  {
   "cell_type": "code",
   "execution_count": null,
   "metadata": {},
   "outputs": [],
   "source": [
    "import gurobipy as gp\n",
    "import numpy as np\n",
    "from gurobipy import GRB"
   ]
  },
  {
   "cell_type": "code",
   "execution_count": null,
   "metadata": {},
   "outputs": [],
   "source": [
    "zu = np.inf\n",
    "zl = 0"
   ]
  },
  {
   "cell_type": "code",
   "execution_count": null,
   "metadata": {},
   "outputs": [],
   "source": [
    "A = np.array([\n",
    "    [3, 1, 2, 4, 1],\n",
    "    [2, 3, 1, 4, 2]\n",
    "])\n",
    "b = np.array([6, 5])"
   ]
  },
  {
   "cell_type": "code",
   "execution_count": null,
   "metadata": {},
   "outputs": [],
   "source": [
    "np.sum(A, axis=-1)"
   ]
  },
  {
   "cell_type": "code",
   "execution_count": null,
   "metadata": {},
   "outputs": [],
   "source": [
    "A.T[0]"
   ]
  },
  {
   "cell_type": "code",
   "execution_count": null,
   "metadata": {},
   "outputs": [],
   "source": [
    "lambd = np.zeros(A.shape[0])\n",
    "lambd"
   ]
  },
  {
   "cell_type": "code",
   "execution_count": null,
   "metadata": {},
   "outputs": [],
   "source": [
    "Ct = [sum([(1 - lambd[r]) * A[r][c] for r in range(b.shape[0])]) \n",
    "      for c in range(A.shape[-1])]\n",
    "Ct"
   ]
  },
  {
   "cell_type": "code",
   "execution_count": null,
   "metadata": {},
   "outputs": [],
   "source": [
    "x = [0 if ct >= 0 else 1 for ct in Ct]\n",
    "x"
   ]
  },
  {
   "cell_type": "code",
   "execution_count": null,
   "metadata": {},
   "outputs": [],
   "source": [
    "C_t = (1 - lambd) @ A\n",
    "x = np.where(C_t < 0, 1, 0)\n",
    "C_t"
   ]
  },
  {
   "cell_type": "code",
   "execution_count": null,
   "metadata": {},
   "outputs": [],
   "source": [
    "L = C_t @ x + lambd @ b\n",
    "L"
   ]
  },
  {
   "cell_type": "code",
   "execution_count": null,
   "metadata": {},
   "outputs": [],
   "source": [
    "zl = max(zl, L)\n",
    "zl"
   ]
  },
  {
   "cell_type": "code",
   "execution_count": null,
   "metadata": {},
   "outputs": [],
   "source": [
    "g = b - A @ x\n",
    "g"
   ]
  },
  {
   "cell_type": "code",
   "execution_count": null,
   "metadata": {},
   "outputs": [],
   "source": [
    "A = np.array([\n",
    "    [1, 2, 4],\n",
    "    [3, 1, 4],\n",
    "    [2, 2, 2]\n",
    "])\n",
    "b = np.array([2, 5, 1])"
   ]
  },
  {
   "cell_type": "code",
   "execution_count": null,
   "metadata": {},
   "outputs": [],
   "source": [
    "def subgrad_opt(\n",
    "        A, b, z_ub, z_lb, lambd, f=2, k=15, eps=0.005, omega=500):\n",
    "    # TODO: z_ub cannot be inf here\n",
    "    unchanged = 0\n",
    "    t = 0\n",
    "    lambd_best = lambd\n",
    "    x_best = None\n",
    "    while (z_ub > z_lb):\n",
    "        c = (1 - lambd) @ A\n",
    "        # print(\"c: \", c)\n",
    "        x = np.where(c < 0, 1, 0)\n",
    "        # print(x)\n",
    "        L = c @ x + lambd @ b\n",
    "        # print(\"L: \", L)\n",
    "        g = b - A @ x\n",
    "        if L > z_lb:\n",
    "            z_lb = L\n",
    "            lambd_best = lambd\n",
    "            x_best = x\n",
    "            unchanged = 0\n",
    "            # print(\"L new: \", L)\n",
    "        else:\n",
    "            unchanged += 1\n",
    "        if unchanged == k:\n",
    "            unchanged = 0\n",
    "            f /= 2\n",
    "        sigma = f * (z_ub - z_lb) / np.linalg.norm(g) ** 2\n",
    "        lambd = np.maximum(np.zeros_like(lambd), lambd + sigma * g)\n",
    "        # lambd = np.minimum(1, lambd)\n",
    "        # print(\"lambd: \", lambd)\n",
    "        t += 1\n",
    "        if f < eps or t > omega:\n",
    "            print(f, t, g)\n",
    "            break\n",
    "    \n",
    "    return lambd_best, z_lb, x_best, f"
   ]
  },
  {
   "cell_type": "code",
   "execution_count": null,
   "metadata": {},
   "outputs": [],
   "source": [
    "subgrad_opt(A, b, 100, 0, np.zeros(A.shape[0]))"
   ]
  },
  {
   "attachments": {},
   "cell_type": "markdown",
   "metadata": {},
   "source": [
    "# RCH"
   ]
  },
  {
   "cell_type": "code",
   "execution_count": null,
   "metadata": {},
   "outputs": [],
   "source": [
    "def rch(A, b):\n",
    "    lambd = np.zeros(A.shape[0])\n",
    "    x = np.zeros(A.shape[-1])\n",
    "    s = (1 - lambd) @ A\n",
    "    print(\"s\", s)\n",
    "    for j in range(A.shape[-1]):\n",
    "        if s[j] == 0:\n",
    "            x[j] = 1\n",
    "        else:\n",
    "            x[j] = 0\n",
    "\n",
    "    print(\"x\", x)\n",
    "    \n",
    "    for i in range(A.shape[0]):\n",
    "        N_i = np.where(A[i] > 0)[0]\n",
    "        print(\"i N_i\", i, N_i)\n",
    "        if sum([A[i][j] for j in N_i]) < b[i]:\n",
    "            s_k = min(s[N_i])\n",
    "            lambd[i] += s_k\n",
    "            for j in N_i:\n",
    "                s[j] -= s_k\n",
    "                if s[j] == 0:\n",
    "                    x[j] = 1\n",
    "\n",
    "    print(s, x)\n",
    "\n",
    "    return lambd, make_prime(x, A, b)\n",
    "\n",
    "# RCH not working because it assumes that only one column needs to cover\n",
    "\n",
    "def make_prime(x, A, b):\n",
    "    x1 = np.where(x == 1)[0]\n",
    "    for j in x1:\n",
    "        new_x1 = x1[~np.isin(x1, [j])]\n",
    "        if A @ new_x1 >= b:\n",
    "            x1 = new_x1\n",
    "            print(\"changed\")\n",
    "    return x1\n"
   ]
  },
  {
   "cell_type": "code",
   "execution_count": null,
   "metadata": {},
   "outputs": [],
   "source": [
    "rch(A, b)"
   ]
  },
  {
   "attachments": {},
   "cell_type": "markdown",
   "metadata": {},
   "source": [
    "# Solve dual"
   ]
  },
  {
   "cell_type": "code",
   "execution_count": 2,
   "metadata": {},
   "outputs": [],
   "source": [
    "import gurobipy as gp\n",
    "import numpy as np\n",
    "from gurobipy import GRB"
   ]
  },
  {
   "cell_type": "code",
   "execution_count": 57,
   "metadata": {},
   "outputs": [],
   "source": [
    "A = np.array([\n",
    "    [3, 1, 2, 4, 1],\n",
    "    [2, 3, 1, 4, 2],\n",
    "    [1, 1, 2, 2, 5],\n",
    "    [2, 2, 4, 5, 2]\n",
    "])\n",
    "b = np.array([6, 5, 4, 8])"
   ]
  },
  {
   "cell_type": "code",
   "execution_count": 58,
   "metadata": {},
   "outputs": [
    {
     "data": {
      "text/plain": [
       "array([3, 3, 3, 6])"
      ]
     },
     "execution_count": 58,
     "metadata": {},
     "output_type": "execute_result"
    }
   ],
   "source": [
    "x1 = [0]\n",
    "x0 = [1]\n",
    "db = np.copy(b)\n",
    "for j in x1:\n",
    "    db -= A[:,j]\n",
    "db"
   ]
  },
  {
   "cell_type": "code",
   "execution_count": 59,
   "metadata": {},
   "outputs": [],
   "source": [
    "c = np.sum(A, axis=0)"
   ]
  },
  {
   "cell_type": "code",
   "execution_count": null,
   "metadata": {},
   "outputs": [],
   "source": [
    "for j in x0:\n",
    "    c[j] = 0\n",
    "c"
   ]
  },
  {
   "cell_type": "code",
   "execution_count": 60,
   "metadata": {},
   "outputs": [],
   "source": [
    "md = gp.Model(\"dual\")\n",
    "y = md.addMVar(A.shape[0], lb=0, name=\"y\")\n",
    "md.setObjective(db @ y, GRB.MAXIMIZE)\n",
    "constr = md.addConstr(A.T @ y <= c)"
   ]
  },
  {
   "cell_type": "code",
   "execution_count": 61,
   "metadata": {},
   "outputs": [],
   "source": [
    "for j in x1 + x0:\n",
    "    md.remove(constr[j])"
   ]
  },
  {
   "cell_type": "code",
   "execution_count": 62,
   "metadata": {},
   "outputs": [
    {
     "name": "stdout",
     "output_type": "stream",
     "text": [
      "Gurobi Optimizer version 10.0.2 build v10.0.2rc0 (win64)\n",
      "\n",
      "CPU model: Intel(R) Core(TM) i7-9700K CPU @ 3.60GHz, instruction set [SSE2|AVX|AVX2]\n",
      "Thread count: 8 physical cores, 8 logical processors, using up to 8 threads\n",
      "\n",
      "Optimize a model with 3 rows, 4 columns and 12 nonzeros\n",
      "Model fingerprint: 0x8b45a627\n",
      "Coefficient statistics:\n",
      "  Matrix range     [1e+00, 5e+00]\n",
      "  Objective range  [3e+00, 6e+00]\n",
      "  Bounds range     [0e+00, 0e+00]\n",
      "  RHS range        [9e+00, 2e+01]\n",
      "Presolve time: 0.01s\n",
      "Presolved: 3 rows, 4 columns, 12 nonzeros\n",
      "\n",
      "Iteration    Objective       Primal Inf.    Dual Inf.      Time\n",
      "       0    2.1000000e+31   7.500000e+30   2.100000e+01      0s\n",
      "       3    1.5765957e+01   0.000000e+00   0.000000e+00      0s\n",
      "\n",
      "Solved in 3 iterations and 0.01 seconds (0.00 work units)\n",
      "Optimal objective  1.576595745e+01\n"
     ]
    },
    {
     "data": {
      "text/plain": [
       "(15.76595744680851, array([0.        , 1.5106383 , 0.80851064, 1.46808511]))"
      ]
     },
     "execution_count": 62,
     "metadata": {},
     "output_type": "execute_result"
    }
   ],
   "source": [
    "md.optimize()\n",
    "lambd = []\n",
    "for v in md.getVars():\n",
    "    lambd.append(v.x)\n",
    "lambd = np.array(lambd)\n",
    "md.getObjective().getValue(), lambd"
   ]
  },
  {
   "cell_type": "code",
   "execution_count": 64,
   "metadata": {},
   "outputs": [
    {
     "data": {
      "text/plain": [
       "(15.76595744680851, 23.76595744680851)"
      ]
     },
     "execution_count": 64,
     "metadata": {},
     "output_type": "execute_result"
    }
   ],
   "source": [
    "rc = (1 - lambd) @ A\n",
    "x = np.where(rc < 0, 1, 0)\n",
    "x[x1] = 1\n",
    "x[x0] = 0\n",
    "\n",
    "(db @ lambd, rc @ x + lambd @ b)"
   ]
  },
  {
   "cell_type": "code",
   "execution_count": 65,
   "metadata": {},
   "outputs": [
    {
     "data": {
      "text/plain": [
       "(-8.0, [8])"
      ]
     },
     "execution_count": 65,
     "metadata": {},
     "output_type": "execute_result"
    }
   ],
   "source": [
    "s = [c[j] for j in x1]\n",
    "(db @ lambd - (rc @ x + lambd @ b), s)"
   ]
  },
  {
   "cell_type": "code",
   "execution_count": null,
   "metadata": {},
   "outputs": [],
   "source": []
  },
  {
   "cell_type": "code",
   "execution_count": null,
   "metadata": {},
   "outputs": [],
   "source": [
    "f=2 \n",
    "k=5 \n",
    "eps=0.005 \n",
    "omega=500\n",
    "ub = 90\n",
    "x0 = []\n",
    "x1 = []\n",
    "lambd = np.zeros(A.shape[0])\n",
    "lb = -np.inf\n",
    "\n",
    "unchanged = 0\n",
    "t = 0\n",
    "lambd_best = lambd\n",
    "x_best = None\n",
    "while (ub > lb):\n",
    "    c = (1 - lambd) @ A\n",
    "    x = np.where(c < 0, 1, 0)\n",
    "    x[x0] = 0\n",
    "    x[x1] = 1\n",
    "    L = c @ x + lambd @ b\n",
    "    g = b - A @ x\n",
    "    if L > lb:\n",
    "        lb = L\n",
    "        lambd_best = lambd\n",
    "        x_best = x\n",
    "        unchanged = 0\n",
    "    else:\n",
    "        unchanged += 1\n",
    "    if unchanged == k:\n",
    "        unchanged = 0\n",
    "        f /= 2\n",
    "    sigma = f * (ub - lb) / np.linalg.norm(g) ** 2\n",
    "    lambd = np.maximum(\n",
    "        np.zeros_like(lambd), lambd + sigma * g)\n",
    "    t += 1\n",
    "    if f < eps or t > omega:\n",
    "        break"
   ]
  },
  {
   "cell_type": "code",
   "execution_count": null,
   "metadata": {},
   "outputs": [],
   "source": [
    "lambd_best"
   ]
  },
  {
   "attachments": {},
   "cell_type": "markdown",
   "metadata": {},
   "source": [
    "# Dual ascent"
   ]
  },
  {
   "cell_type": "code",
   "execution_count": null,
   "metadata": {},
   "outputs": [],
   "source": [
    "c = np.sum(A, axis=0)\n",
    "# s = (1 - lambd) @ A\n",
    "s = c\n",
    "lambd = np.zeros((A.shape[0]))\n",
    "N = []\n",
    "for i in range(A.shape[0]):\n",
    "    idx = np.where(A[i] > 0)[0]\n",
    "    N.append((i, idx))\n",
    "N\n"
   ]
  },
  {
   "cell_type": "code",
   "execution_count": null,
   "metadata": {},
   "outputs": [],
   "source": [
    "list.sort(N, key=lambda x: x[0])\n",
    "print(N)"
   ]
  },
  {
   "cell_type": "code",
   "execution_count": null,
   "metadata": {},
   "outputs": [],
   "source": [
    "for i, _ in N:\n",
    "    lambd[i] = min([s[j] for j in N[i][1]])\n",
    "    for j in range(A.shape[-1]):\n",
    "        if j in N[i][1]:\n",
    "            s[j] -= lambd[i]\n",
    "lambd"
   ]
  },
  {
   "attachments": {},
   "cell_type": "markdown",
   "metadata": {},
   "source": [
    "# Dual ascent 2"
   ]
  },
  {
   "cell_type": "code",
   "execution_count": null,
   "metadata": {},
   "outputs": [],
   "source": [
    "c = np.sum(A, axis=0)\n",
    "lambd = np.zeros((A.shape[0]))\n",
    "s = (1 - lambd) @ A\n",
    "N = []\n",
    "for i in range(A.shape[0]):\n",
    "    idx = np.where(A[i] > 0)[0]\n",
    "    N.append((i, idx))\n",
    "\n",
    "list.sort(N, key=lambda x: x[0], reverse=True)\n",
    "\n",
    "for i, _ in N:\n",
    "    lambd[i] = max(0, lambd[i] + min(0, min([s[j] for j in N[i][1]])))\n",
    "\n",
    "list.sort(N, key=lambda x: x[0])\n",
    "\n",
    "for i, _ in N:\n",
    "    lambd[i] = lambd[i] + min([s[j] for j in N[i][1]])\n",
    "\n",
    "lambd"
   ]
  }
 ],
 "metadata": {
  "kernelspec": {
   "display_name": "p3.11",
   "language": "python",
   "name": "python3"
  },
  "language_info": {
   "codemirror_mode": {
    "name": "ipython",
    "version": 3
   },
   "file_extension": ".py",
   "mimetype": "text/x-python",
   "name": "python",
   "nbconvert_exporter": "python",
   "pygments_lexer": "ipython3",
   "version": "3.11.2"
  },
  "orig_nbformat": 4
 },
 "nbformat": 4,
 "nbformat_minor": 2
}
