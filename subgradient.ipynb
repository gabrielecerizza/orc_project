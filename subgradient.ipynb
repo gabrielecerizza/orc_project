{
 "cells": [
  {
   "cell_type": "code",
   "execution_count": 1,
   "metadata": {},
   "outputs": [],
   "source": [
    "import gurobipy as gp\n",
    "import numpy as np\n",
    "from gurobipy import GRB"
   ]
  },
  {
   "cell_type": "code",
   "execution_count": 20,
   "metadata": {},
   "outputs": [],
   "source": [
    "zu = np.inf\n",
    "zl = 0"
   ]
  },
  {
   "cell_type": "code",
   "execution_count": 43,
   "metadata": {},
   "outputs": [],
   "source": [
    "A = np.array([\n",
    "    [3, 1, 2, 4, 1],\n",
    "    [2, 3, 1, 4, 2]\n",
    "])\n",
    "b = np.array([6, 5])"
   ]
  },
  {
   "cell_type": "code",
   "execution_count": 44,
   "metadata": {},
   "outputs": [
    {
     "data": {
      "text/plain": [
       "array([0., 0.])"
      ]
     },
     "execution_count": 44,
     "metadata": {},
     "output_type": "execute_result"
    }
   ],
   "source": [
    "lambd = np.zeros(A.shape[0])\n",
    "lambd"
   ]
  },
  {
   "cell_type": "code",
   "execution_count": 45,
   "metadata": {},
   "outputs": [
    {
     "data": {
      "text/plain": [
       "[5.0, 4.0, 3.0, 8.0, 3.0]"
      ]
     },
     "execution_count": 45,
     "metadata": {},
     "output_type": "execute_result"
    }
   ],
   "source": [
    "Ct = [sum([(1 - lambd[r]) * A[r][c] for r in range(b.shape[0])]) \n",
    "      for c in range(A.shape[-1])]\n",
    "Ct"
   ]
  },
  {
   "cell_type": "code",
   "execution_count": 46,
   "metadata": {},
   "outputs": [
    {
     "data": {
      "text/plain": [
       "[0, 0, 0, 0, 0]"
      ]
     },
     "execution_count": 46,
     "metadata": {},
     "output_type": "execute_result"
    }
   ],
   "source": [
    "x = [0 if ct >= 0 else 1 for ct in Ct]\n",
    "x"
   ]
  },
  {
   "cell_type": "code",
   "execution_count": 47,
   "metadata": {},
   "outputs": [
    {
     "data": {
      "text/plain": [
       "array([5., 4., 3., 8., 3.])"
      ]
     },
     "execution_count": 47,
     "metadata": {},
     "output_type": "execute_result"
    }
   ],
   "source": [
    "C_t = (1 - lambd) @ A\n",
    "x = np.where(C_t < 0, 1, 0)\n",
    "C_t"
   ]
  },
  {
   "cell_type": "code",
   "execution_count": 48,
   "metadata": {},
   "outputs": [
    {
     "data": {
      "text/plain": [
       "0.0"
      ]
     },
     "execution_count": 48,
     "metadata": {},
     "output_type": "execute_result"
    }
   ],
   "source": [
    "L = C_t @ x + lambd @ b\n",
    "L"
   ]
  },
  {
   "cell_type": "code",
   "execution_count": 49,
   "metadata": {},
   "outputs": [
    {
     "data": {
      "text/plain": [
       "0"
      ]
     },
     "execution_count": 49,
     "metadata": {},
     "output_type": "execute_result"
    }
   ],
   "source": [
    "zl = max(zl, L)\n",
    "zl"
   ]
  },
  {
   "cell_type": "code",
   "execution_count": 50,
   "metadata": {},
   "outputs": [
    {
     "data": {
      "text/plain": [
       "array([6, 5])"
      ]
     },
     "execution_count": 50,
     "metadata": {},
     "output_type": "execute_result"
    }
   ],
   "source": [
    "g = b - A @ x\n",
    "g"
   ]
  },
  {
   "cell_type": "code",
   "execution_count": 165,
   "metadata": {},
   "outputs": [],
   "source": [
    "A = np.array([\n",
    "    [1, 2, 4],\n",
    "    [3, 1, 4],\n",
    "    [2, 2, 2]\n",
    "])\n",
    "b = np.array([2, 5, 1])"
   ]
  },
  {
   "cell_type": "code",
   "execution_count": 187,
   "metadata": {},
   "outputs": [],
   "source": [
    "def subgrad_opt(\n",
    "        A, b, z_ub, z_lb, lambd, f=2, k=15, eps=0.005, omega=500):\n",
    "    # TODO: z_ub cannot be inf here\n",
    "    unchanged = 0\n",
    "    t = 0\n",
    "    lambd_best = lambd\n",
    "    x_best = None\n",
    "    while (z_ub > z_lb):\n",
    "        c = (1 - lambd) @ A\n",
    "        # print(\"c: \", c)\n",
    "        x = np.where(c < 0, 1, 0)\n",
    "        # print(x)\n",
    "        L = c @ x + lambd @ b\n",
    "        # print(\"L: \", L)\n",
    "        g = b - A @ x\n",
    "        if L > z_lb:\n",
    "            z_lb = L\n",
    "            lambd_best = lambd\n",
    "            x_best = x\n",
    "            unchanged = 0\n",
    "            # print(\"L new: \", L)\n",
    "        else:\n",
    "            unchanged += 1\n",
    "        if unchanged == k:\n",
    "            unchanged = 0\n",
    "            f /= 2\n",
    "        sigma = f * (z_ub - z_lb) / np.linalg.norm(g) ** 2\n",
    "        lambd = np.maximum(np.zeros_like(lambd), lambd + sigma * g)\n",
    "        # lambd = np.minimum(1, lambd)\n",
    "        # print(\"lambd: \", lambd)\n",
    "        t += 1\n",
    "        if f < eps or t > omega:\n",
    "            print(f, t, g)\n",
    "            break\n",
    "    \n",
    "    return lambd_best, z_lb, x_best, f"
   ]
  },
  {
   "cell_type": "code",
   "execution_count": 188,
   "metadata": {},
   "outputs": [
    {
     "name": "stdout",
     "output_type": "stream",
     "text": [
      "0.00390625 217 [-3 -2 -3]\n"
     ]
    },
    {
     "data": {
      "text/plain": [
       "(array([0.       , 2.5099687, 0.       ]),\n",
       " 10.980062602068603,\n",
       " array([1, 0, 1]),\n",
       " 0.00390625)"
      ]
     },
     "execution_count": 188,
     "metadata": {},
     "output_type": "execute_result"
    }
   ],
   "source": [
    "subgrad_opt(A, b, 100, 0, np.zeros(A.shape[0]))"
   ]
  }
 ],
 "metadata": {
  "kernelspec": {
   "display_name": "p3.11",
   "language": "python",
   "name": "python3"
  },
  "language_info": {
   "codemirror_mode": {
    "name": "ipython",
    "version": 3
   },
   "file_extension": ".py",
   "mimetype": "text/x-python",
   "name": "python",
   "nbconvert_exporter": "python",
   "pygments_lexer": "ipython3",
   "version": "3.11.2"
  },
  "orig_nbformat": 4
 },
 "nbformat": 4,
 "nbformat_minor": 2
}
