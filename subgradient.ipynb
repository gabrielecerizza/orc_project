{
 "cells": [
  {
   "cell_type": "code",
   "execution_count": 1,
   "metadata": {},
   "outputs": [],
   "source": [
    "import gurobipy as gp\n",
    "import numpy as np\n",
    "from gurobipy import GRB"
   ]
  },
  {
   "cell_type": "code",
   "execution_count": 2,
   "metadata": {},
   "outputs": [],
   "source": [
    "zu = np.inf\n",
    "zl = 0"
   ]
  },
  {
   "cell_type": "code",
   "execution_count": 3,
   "metadata": {},
   "outputs": [],
   "source": [
    "A = np.array([\n",
    "    [3, 1, 2, 4, 1],\n",
    "    [2, 3, 1, 4, 2]\n",
    "])\n",
    "b = np.array([6, 5])"
   ]
  },
  {
   "cell_type": "code",
   "execution_count": 5,
   "metadata": {},
   "outputs": [
    {
     "data": {
      "text/plain": [
       "array([11, 12])"
      ]
     },
     "execution_count": 5,
     "metadata": {},
     "output_type": "execute_result"
    }
   ],
   "source": [
    "np.sum(A, axis=-1)"
   ]
  },
  {
   "cell_type": "code",
   "execution_count": null,
   "metadata": {},
   "outputs": [],
   "source": [
    "A.T[0]"
   ]
  },
  {
   "cell_type": "code",
   "execution_count": null,
   "metadata": {},
   "outputs": [],
   "source": [
    "lambd = np.zeros(A.shape[0])\n",
    "lambd"
   ]
  },
  {
   "cell_type": "code",
   "execution_count": null,
   "metadata": {},
   "outputs": [],
   "source": [
    "Ct = [sum([(1 - lambd[r]) * A[r][c] for r in range(b.shape[0])]) \n",
    "      for c in range(A.shape[-1])]\n",
    "Ct"
   ]
  },
  {
   "cell_type": "code",
   "execution_count": null,
   "metadata": {},
   "outputs": [],
   "source": [
    "x = [0 if ct >= 0 else 1 for ct in Ct]\n",
    "x"
   ]
  },
  {
   "cell_type": "code",
   "execution_count": null,
   "metadata": {},
   "outputs": [],
   "source": [
    "C_t = (1 - lambd) @ A\n",
    "x = np.where(C_t < 0, 1, 0)\n",
    "C_t"
   ]
  },
  {
   "cell_type": "code",
   "execution_count": null,
   "metadata": {},
   "outputs": [],
   "source": [
    "L = C_t @ x + lambd @ b\n",
    "L"
   ]
  },
  {
   "cell_type": "code",
   "execution_count": null,
   "metadata": {},
   "outputs": [],
   "source": [
    "zl = max(zl, L)\n",
    "zl"
   ]
  },
  {
   "cell_type": "code",
   "execution_count": null,
   "metadata": {},
   "outputs": [],
   "source": [
    "g = b - A @ x\n",
    "g"
   ]
  },
  {
   "cell_type": "code",
   "execution_count": null,
   "metadata": {},
   "outputs": [],
   "source": [
    "A = np.array([\n",
    "    [1, 2, 4],\n",
    "    [3, 1, 4],\n",
    "    [2, 2, 2]\n",
    "])\n",
    "b = np.array([2, 5, 1])"
   ]
  },
  {
   "cell_type": "code",
   "execution_count": null,
   "metadata": {},
   "outputs": [],
   "source": [
    "def subgrad_opt(\n",
    "        A, b, z_ub, z_lb, lambd, f=2, k=15, eps=0.005, omega=500):\n",
    "    # TODO: z_ub cannot be inf here\n",
    "    unchanged = 0\n",
    "    t = 0\n",
    "    lambd_best = lambd\n",
    "    x_best = None\n",
    "    while (z_ub > z_lb):\n",
    "        c = (1 - lambd) @ A\n",
    "        # print(\"c: \", c)\n",
    "        x = np.where(c < 0, 1, 0)\n",
    "        # print(x)\n",
    "        L = c @ x + lambd @ b\n",
    "        # print(\"L: \", L)\n",
    "        g = b - A @ x\n",
    "        if L > z_lb:\n",
    "            z_lb = L\n",
    "            lambd_best = lambd\n",
    "            x_best = x\n",
    "            unchanged = 0\n",
    "            # print(\"L new: \", L)\n",
    "        else:\n",
    "            unchanged += 1\n",
    "        if unchanged == k:\n",
    "            unchanged = 0\n",
    "            f /= 2\n",
    "        sigma = f * (z_ub - z_lb) / np.linalg.norm(g) ** 2\n",
    "        lambd = np.maximum(np.zeros_like(lambd), lambd + sigma * g)\n",
    "        # lambd = np.minimum(1, lambd)\n",
    "        # print(\"lambd: \", lambd)\n",
    "        t += 1\n",
    "        if f < eps or t > omega:\n",
    "            print(f, t, g)\n",
    "            break\n",
    "    \n",
    "    return lambd_best, z_lb, x_best, f"
   ]
  },
  {
   "cell_type": "code",
   "execution_count": null,
   "metadata": {},
   "outputs": [],
   "source": [
    "subgrad_opt(A, b, 100, 0, np.zeros(A.shape[0]))"
   ]
  },
  {
   "attachments": {},
   "cell_type": "markdown",
   "metadata": {},
   "source": [
    "# RCH"
   ]
  },
  {
   "cell_type": "code",
   "execution_count": null,
   "metadata": {},
   "outputs": [],
   "source": [
    "def rch(A, b):\n",
    "    lambd = np.zeros(A.shape[0])\n",
    "    x = np.zeros(A.shape[-1])\n",
    "    s = (1 - lambd) @ A\n",
    "    print(\"s\", s)\n",
    "    for j in range(A.shape[-1]):\n",
    "        if s[j] == 0:\n",
    "            x[j] = 1\n",
    "        else:\n",
    "            x[j] = 0\n",
    "\n",
    "    print(\"x\", x)\n",
    "    \n",
    "    for i in range(A.shape[0]):\n",
    "        N_i = np.where(A[i] > 0)[0]\n",
    "        print(\"i N_i\", i, N_i)\n",
    "        if sum([A[i][j] for j in N_i]) < b[i]:\n",
    "            s_k = min(s[N_i])\n",
    "            lambd[i] += s_k\n",
    "            for j in N_i:\n",
    "                s[j] -= s_k\n",
    "                if s[j] == 0:\n",
    "                    x[j] = 1\n",
    "\n",
    "    print(s, x)\n",
    "\n",
    "    return lambd, make_prime(x, A, b)\n",
    "\n",
    "# RCH not working because it assumes that only one column needs to cover\n",
    "\n",
    "def make_prime(x, A, b):\n",
    "    x1 = np.where(x == 1)[0]\n",
    "    for j in x1:\n",
    "        new_x1 = x1[~np.isin(x1, [j])]\n",
    "        if A @ new_x1 >= b:\n",
    "            x1 = new_x1\n",
    "            print(\"changed\")\n",
    "    return x1\n"
   ]
  },
  {
   "cell_type": "code",
   "execution_count": null,
   "metadata": {},
   "outputs": [],
   "source": [
    "rch(A, b)"
   ]
  },
  {
   "attachments": {},
   "cell_type": "markdown",
   "metadata": {},
   "source": [
    "# Solve dual"
   ]
  },
  {
   "cell_type": "code",
   "execution_count": null,
   "metadata": {},
   "outputs": [],
   "source": [
    "c = np.sum(A, axis=0)\n",
    "c"
   ]
  },
  {
   "cell_type": "code",
   "execution_count": null,
   "metadata": {},
   "outputs": [],
   "source": [
    "md = gp.Model(\"dual\")\n",
    "y = md.addMVar(A.shape[0], lb=0, name=\"y\")\n",
    "md.setObjective(b @ y, GRB.MAXIMIZE)\n",
    "constr = md.addConstr(A.T @ y <= c)\n",
    "md.update()"
   ]
  },
  {
   "cell_type": "code",
   "execution_count": null,
   "metadata": {},
   "outputs": [],
   "source": [
    "md"
   ]
  },
  {
   "cell_type": "code",
   "execution_count": null,
   "metadata": {},
   "outputs": [],
   "source": [
    "md.remove(constr[0])\n",
    "md.update()\n",
    "md"
   ]
  },
  {
   "cell_type": "code",
   "execution_count": null,
   "metadata": {},
   "outputs": [],
   "source": [
    "md.optimize()\n",
    "res = []\n",
    "for v in md.getVars():\n",
    "    res.append(v.x)\n",
    "md.getObjective().getValue(), res"
   ]
  },
  {
   "cell_type": "code",
   "execution_count": null,
   "metadata": {},
   "outputs": [],
   "source": [
    "f=2 \n",
    "k=5 \n",
    "eps=0.005 \n",
    "omega=500\n",
    "ub = 90\n",
    "x0 = []\n",
    "x1 = []\n",
    "lambd = np.zeros(A.shape[0])\n",
    "lb = -np.inf\n",
    "\n",
    "unchanged = 0\n",
    "t = 0\n",
    "lambd_best = lambd\n",
    "x_best = None\n",
    "while (ub > lb):\n",
    "    c = (1 - lambd) @ A\n",
    "    x = np.where(c < 0, 1, 0)\n",
    "    x[x0] = 0\n",
    "    x[x1] = 1\n",
    "    L = c @ x + lambd @ b\n",
    "    g = b - A @ x\n",
    "    if L > lb:\n",
    "        lb = L\n",
    "        lambd_best = lambd\n",
    "        x_best = x\n",
    "        unchanged = 0\n",
    "    else:\n",
    "        unchanged += 1\n",
    "    if unchanged == k:\n",
    "        unchanged = 0\n",
    "        f /= 2\n",
    "    sigma = f * (ub - lb) / np.linalg.norm(g) ** 2\n",
    "    lambd = np.maximum(\n",
    "        np.zeros_like(lambd), lambd + sigma * g)\n",
    "    t += 1\n",
    "    if f < eps or t > omega:\n",
    "        break"
   ]
  },
  {
   "cell_type": "code",
   "execution_count": null,
   "metadata": {},
   "outputs": [],
   "source": [
    "lambd_best"
   ]
  },
  {
   "attachments": {},
   "cell_type": "markdown",
   "metadata": {},
   "source": [
    "# Dual ascent"
   ]
  },
  {
   "cell_type": "code",
   "execution_count": 50,
   "metadata": {},
   "outputs": [
    {
     "data": {
      "text/plain": [
       "[(0, array([0, 1, 2, 3, 4], dtype=int64)),\n",
       " (1, array([0, 1, 2, 3, 4], dtype=int64))]"
      ]
     },
     "execution_count": 50,
     "metadata": {},
     "output_type": "execute_result"
    }
   ],
   "source": [
    "c = np.sum(A, axis=0)\n",
    "# s = (1 - lambd) @ A\n",
    "s = c\n",
    "lambd = np.zeros((A.shape[0]))\n",
    "N = []\n",
    "for i in range(A.shape[0]):\n",
    "    idx = np.where(A[i] > 0)[0]\n",
    "    N.append((i, idx))\n",
    "N\n"
   ]
  },
  {
   "cell_type": "code",
   "execution_count": 51,
   "metadata": {},
   "outputs": [
    {
     "name": "stdout",
     "output_type": "stream",
     "text": [
      "[(0, array([0, 1, 2, 3, 4], dtype=int64)), (1, array([0, 1, 2, 3, 4], dtype=int64))]\n"
     ]
    }
   ],
   "source": [
    "list.sort(N, key=lambda x: x[0])\n",
    "print(N)"
   ]
  },
  {
   "cell_type": "code",
   "execution_count": 52,
   "metadata": {},
   "outputs": [
    {
     "data": {
      "text/plain": [
       "array([3., 0.])"
      ]
     },
     "execution_count": 52,
     "metadata": {},
     "output_type": "execute_result"
    }
   ],
   "source": [
    "for i, _ in N:\n",
    "    lambd[i] = min([s[j] for j in N[i][1]])\n",
    "    for j in range(A.shape[-1]):\n",
    "        if j in N[i][1]:\n",
    "            s[j] -= lambd[i]\n",
    "lambd"
   ]
  },
  {
   "attachments": {},
   "cell_type": "markdown",
   "metadata": {},
   "source": [
    "# Dual ascent 2"
   ]
  },
  {
   "cell_type": "code",
   "execution_count": 49,
   "metadata": {},
   "outputs": [
    {
     "data": {
      "text/plain": [
       "array([3., 3.])"
      ]
     },
     "execution_count": 49,
     "metadata": {},
     "output_type": "execute_result"
    }
   ],
   "source": [
    "c = np.sum(A, axis=0)\n",
    "lambd = np.zeros((A.shape[0]))\n",
    "s = (1 - lambd) @ A\n",
    "N = []\n",
    "for i in range(A.shape[0]):\n",
    "    idx = np.where(A[i] > 0)[0]\n",
    "    N.append((i, idx))\n",
    "\n",
    "list.sort(N, key=lambda x: x[0], reverse=True)\n",
    "\n",
    "for i, _ in N:\n",
    "    lambd[i] = max(0, lambd[i] + min(0, min([s[j] for j in N[i][1]])))\n",
    "\n",
    "list.sort(N, key=lambda x: x[0])\n",
    "\n",
    "for i, _ in N:\n",
    "    lambd[i] = lambd[i] + min([s[j] for j in N[i][1]])\n",
    "\n",
    "lambd"
   ]
  }
 ],
 "metadata": {
  "kernelspec": {
   "display_name": "p3.11",
   "language": "python",
   "name": "python3"
  },
  "language_info": {
   "codemirror_mode": {
    "name": "ipython",
    "version": 3
   },
   "file_extension": ".py",
   "mimetype": "text/x-python",
   "name": "python",
   "nbconvert_exporter": "python",
   "pygments_lexer": "ipython3",
   "version": "3.11.2"
  },
  "orig_nbformat": 4
 },
 "nbformat": 4,
 "nbformat_minor": 2
}
