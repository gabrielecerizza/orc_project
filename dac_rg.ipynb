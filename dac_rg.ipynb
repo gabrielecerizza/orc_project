{
 "cells": [
  {
   "cell_type": "code",
   "execution_count": 1,
   "metadata": {},
   "outputs": [],
   "source": [
    "import numpy as np"
   ]
  },
  {
   "cell_type": "markdown",
   "metadata": {},
   "source": [
    "# Data"
   ]
  },
  {
   "cell_type": "code",
   "execution_count": 2,
   "metadata": {},
   "outputs": [],
   "source": [
    "sigma = 0\n",
    "gamma = 0.5\n",
    "S, C = [], []"
   ]
  },
  {
   "cell_type": "code",
   "execution_count": 3,
   "metadata": {},
   "outputs": [],
   "source": [
    "with open(r\"E:\\datasets\\dac\\sellers.txt\", \"r\") as f:\n",
    "    lines = f.readlines()\n",
    "    for l in lines:\n",
    "        S.extend(l.split())\n",
    "\n",
    "with open(r\"E:\\datasets\\dac\\customers.txt\", \"r\") as f:\n",
    "    lines = f.readlines()\n",
    "    for l in lines:\n",
    "        C.extend(l.split())"
   ]
  },
  {
   "cell_type": "code",
   "execution_count": 4,
   "metadata": {},
   "outputs": [],
   "source": [
    "alpha = np.zeros(len(S))\n",
    "alpha_bar = np.zeros(len(S))\n",
    "A = np.zeros((len(S), len(C)))\n",
    "types = [\"Blue\", \"Red\"]\n",
    "p = np.zeros((len(S), len(types)))\n",
    "S_id2idx = {id: idx for idx, id in enumerate(S)}\n",
    "C_id2idx = {id: idx for idx, id in enumerate(C)}\n",
    "t_id2idx = {id: idx for idx, id in enumerate(types)}\n",
    "\n",
    "def extract_alpha(line):\n",
    "    s1, s2 = line.split()\n",
    "    return s1[1:-1], float(s2)\n",
    "\n",
    "def extract_ap(line):\n",
    "    s1, s2 = line.split()\n",
    "    s1 = s1[1:-1]\n",
    "    id1, id2 = s1.split(\",\")\n",
    "    return id1, id2, float(s2)\n",
    "\n",
    "with open(r\"E:\\datasets\\dac\\alpha.txt\", \"r\") as f:\n",
    "    lines = f.readlines()\n",
    "    for l in lines:\n",
    "        id, val = extract_alpha(l)\n",
    "        alpha[S_id2idx[id]] = val\n",
    "\n",
    "with open(r\"E:\\datasets\\dac\\alpha_bar.txt\", \"r\") as f:\n",
    "    lines = f.readlines()\n",
    "    for l in lines:\n",
    "        id, val = extract_alpha(l)\n",
    "        alpha_bar[S_id2idx[id]] = val\n",
    "\n",
    "with open(r\"E:\\datasets\\dac\\a.txt\", \"r\") as f:\n",
    "    lines = f.readlines()\n",
    "    for l in lines:\n",
    "        id1, id2, val = extract_ap(l)\n",
    "        A[S_id2idx[id1]][C_id2idx[id2]] = val\n",
    "\n",
    "with open(r\"E:\\datasets\\dac\\p.txt\", \"r\") as f:\n",
    "    lines = f.readlines()\n",
    "    for l in lines:\n",
    "        id, color, val = extract_ap(l)\n",
    "        p[S_id2idx[id]][t_id2idx[color[1:-1]]] = val"
   ]
  },
  {
   "cell_type": "code",
   "execution_count": 5,
   "metadata": {},
   "outputs": [],
   "source": [
    "beta = np.maximum(alpha, alpha_bar)"
   ]
  },
  {
   "cell_type": "code",
   "execution_count": 6,
   "metadata": {},
   "outputs": [
    {
     "data": {
      "text/plain": [
       "7304938.168550002"
      ]
     },
     "execution_count": 6,
     "metadata": {},
     "output_type": "execute_result"
    }
   ],
   "source": [
    "K = np.sum(A.T @ (gamma + (1 - gamma) * p[:,0]))\n",
    "# equal to (up to 4th decimal):\n",
    "# np.sum([[A[s][c] * (gamma + (1-gamma) * p[s,0]) \n",
    "#         for c in range(len(C))] for s in range(len(S))])\n",
    "K"
   ]
  },
  {
   "cell_type": "code",
   "execution_count": 7,
   "metadata": {},
   "outputs": [],
   "source": [
    "k = A.T @ ((1 - gamma) * (p[:,1] - p[:,0]))"
   ]
  },
  {
   "cell_type": "code",
   "execution_count": null,
   "metadata": {},
   "outputs": [],
   "source": [
    "# p_diff = (p[:,1] - p[:,0])\n",
    "# k = [([A[s][c] * (1 - gamma) * p_diff\n",
    "#              for s in range(len(S))]) for c in range(len(C))]\n",
    "# k"
   ]
  },
  {
   "cell_type": "markdown",
   "metadata": {},
   "source": [
    "# Gurobi"
   ]
  },
  {
   "cell_type": "code",
   "execution_count": 8,
   "metadata": {},
   "outputs": [],
   "source": [
    "import gurobipy as gp\n",
    "from gurobipy import GRB"
   ]
  },
  {
   "cell_type": "code",
   "execution_count": 9,
   "metadata": {},
   "outputs": [],
   "source": [
    "to_del = np.where(beta > 1)[0]"
   ]
  },
  {
   "cell_type": "code",
   "execution_count": 10,
   "metadata": {},
   "outputs": [],
   "source": [
    "A2 = np.delete(A, to_del, axis=0)\n",
    "beta2 = np.delete(beta, to_del, axis=0)"
   ]
  },
  {
   "cell_type": "code",
   "execution_count": 11,
   "metadata": {},
   "outputs": [],
   "source": [
    "rhs = beta * A.sum(axis=-1)\n",
    "# equal to:\n",
    "# rhs = [beta[s] * np.sum(A[s,:]) for s in range(len(S))]"
   ]
  },
  {
   "cell_type": "code",
   "execution_count": null,
   "metadata": {},
   "outputs": [],
   "source": [
    "rhs = beta2 * A2.sum(axis=-1)\n",
    "rhs.shape"
   ]
  },
  {
   "cell_type": "code",
   "execution_count": 12,
   "metadata": {},
   "outputs": [
    {
     "name": "stdout",
     "output_type": "stream",
     "text": [
      "Set parameter Username\n",
      "Academic license - for non-commercial use only - expires 2024-06-16\n",
      "Gurobi Optimizer version 10.0.2 build v10.0.2rc0 (win64)\n",
      "\n",
      "CPU model: Intel(R) Core(TM) i7-9700K CPU @ 3.60GHz, instruction set [SSE2|AVX|AVX2]\n",
      "Thread count: 8 physical cores, 8 logical processors, using up to 8 threads\n",
      "\n",
      "Optimize a model with 7000 rows, 2881 columns and 61693 nonzeros\n",
      "Model fingerprint: 0x76d7b759\n",
      "Variable types: 0 continuous, 2881 integer (2881 binary)\n",
      "Coefficient statistics:\n",
      "  Matrix range     [8e-01, 1e+05]\n",
      "  Objective range  [3e-17, 4e+03]\n",
      "  Bounds range     [1e+00, 1e+00]\n",
      "  RHS range        [8e+00, 2e+11]\n",
      "Warning: Model contains large rhs\n",
      "         Consider reformulating model or setting NumericFocus parameter\n",
      "         to avoid numerical issues.\n",
      "Found heuristic solution: objective 7306261.8988\n",
      "Presolve removed 7000 rows and 2881 columns\n",
      "Presolve time: 0.05s\n",
      "Presolve: All rows and columns removed\n",
      "\n",
      "Explored 0 nodes (0 simplex iterations) in 0.13 seconds (0.01 work units)\n",
      "Thread count was 1 (of 8 available processors)\n",
      "\n",
      "Solution count 1: 7.30626e+06 \n",
      "\n",
      "Optimal solution found (tolerance 1.00e-04)\n",
      "Best objective 7.306261898800e+06, best bound 7.306261898800e+06, gap 0.0000%\n"
     ]
    }
   ],
   "source": [
    "m = gp.Model()\n",
    "x = m.addMVar(len(C), vtype=GRB.BINARY, name=\"x\")\n",
    "m.setObjective(K + k @ x, GRB.MAXIMIZE)\n",
    "m.addConstr(A @ x <= rhs)\n",
    "m.optimize()"
   ]
  },
  {
   "cell_type": "code",
   "execution_count": 13,
   "metadata": {},
   "outputs": [
    {
     "data": {
      "text/plain": [
       "array([0., 0., 0., ..., 0., 0., 0.])"
      ]
     },
     "execution_count": 13,
     "metadata": {},
     "output_type": "execute_result"
    }
   ],
   "source": [
    "opt_gurobi = m.getObjective().getValue()\n",
    "\n",
    "x = []\n",
    "for v in m.getVars():\n",
    "    x.append(v.x)\n",
    "x = np.array(x)\n",
    "assert (A @ x <= rhs).all()\n",
    "x"
   ]
  },
  {
   "cell_type": "code",
   "execution_count": 15,
   "metadata": {},
   "outputs": [
    {
     "ename": "AssertionError",
     "evalue": "",
     "output_type": "error",
     "traceback": [
      "\u001b[1;31m---------------------------------------------------------------------------\u001b[0m",
      "\u001b[1;31mAssertionError\u001b[0m                            Traceback (most recent call last)",
      "Cell \u001b[1;32mIn[15], line 11\u001b[0m\n\u001b[0;32m      8\u001b[0m         x_cplex\u001b[39m.\u001b[39mextend(vals)\n\u001b[0;32m     10\u001b[0m x_cplex \u001b[39m=\u001b[39m np\u001b[39m.\u001b[39marray(x_cplex)\n\u001b[1;32m---> 11\u001b[0m \u001b[39massert\u001b[39;00m (A \u001b[39m@\u001b[39m x_cplex \u001b[39m<\u001b[39m\u001b[39m=\u001b[39m rhs)\u001b[39m.\u001b[39mall()\n\u001b[0;32m     12\u001b[0m \u001b[39mlen\u001b[39m(x_cplex)\n",
      "\u001b[1;31mAssertionError\u001b[0m: "
     ]
    }
   ],
   "source": [
    "x_cplex = []\n",
    "\n",
    "with open(r\"E:\\datasets\\dac\\best_cplex.txt\", \"r\") as f:\n",
    "    lines = f.readlines()\n",
    "    for l in lines:\n",
    "        ss = l.split()\n",
    "        vals = [int(val) for val in ss if int(val) <= 1]\n",
    "        x_cplex.extend(vals)\n",
    "\n",
    "x_cplex = np.array(x_cplex)\n",
    "# assert (A @ x_cplex <= rhs).all()\n",
    "len(x_cplex)"
   ]
  },
  {
   "cell_type": "code",
   "execution_count": 19,
   "metadata": {},
   "outputs": [
    {
     "data": {
      "text/plain": [
       "1029"
      ]
     },
     "execution_count": 19,
     "metadata": {},
     "output_type": "execute_result"
    }
   ],
   "source": [
    "len(np.where(A @ x_cplex > rhs)[0])"
   ]
  },
  {
   "cell_type": "code",
   "execution_count": null,
   "metadata": {},
   "outputs": [],
   "source": [
    "assert np.array_equal(x, x_cplex)"
   ]
  },
  {
   "cell_type": "code",
   "execution_count": 16,
   "metadata": {},
   "outputs": [
    {
     "data": {
      "text/plain": [
       "(92.0, 92)"
      ]
     },
     "execution_count": 16,
     "metadata": {},
     "output_type": "execute_result"
    }
   ],
   "source": [
    "sum(x), sum(x_cplex)"
   ]
  }
 ],
 "metadata": {
  "kernelspec": {
   "display_name": "p3.11",
   "language": "python",
   "name": "python3"
  },
  "language_info": {
   "codemirror_mode": {
    "name": "ipython",
    "version": 3
   },
   "file_extension": ".py",
   "mimetype": "text/x-python",
   "name": "python",
   "nbconvert_exporter": "python",
   "pygments_lexer": "ipython3",
   "version": "3.11.2"
  },
  "orig_nbformat": 4
 },
 "nbformat": 4,
 "nbformat_minor": 2
}
