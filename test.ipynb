{
 "cells": [
  {
   "cell_type": "code",
   "execution_count": 1,
   "metadata": {},
   "outputs": [],
   "source": [
    "import numpy as np\n",
    "\n",
    "from orc.data_structures import *\n",
    "from orc.branch import *\n",
    "from orc.utils import generate_problem\n",
    "from orc.primal import *\n",
    "from orc.relaxation import *\n",
    "from orc.reduction import *\n",
    "from orc.callbacks import *"
   ]
  },
  {
   "cell_type": "code",
   "execution_count": 2,
   "metadata": {},
   "outputs": [],
   "source": [
    "A, b = generate_problem(10, 20)"
   ]
  },
  {
   "cell_type": "code",
   "execution_count": 3,
   "metadata": {},
   "outputs": [],
   "source": [
    "bb = BranchAndBound(branch_strategy=branch_reduced_costs, \n",
    "                    lb_strategy=subgrad_opt,\n",
    "                    callbacks=[PrimalHeurCallback(),\n",
    "                               LagrPenaltiesReductionCallback(),\n",
    "                               ColumnInclusionCallback()\n",
    "                               ]\n",
    "                    )"
   ]
  },
  {
   "cell_type": "code",
   "execution_count": 4,
   "metadata": {},
   "outputs": [],
   "source": [
    "bb.search(A, b)"
   ]
  },
  {
   "cell_type": "code",
   "execution_count": 5,
   "metadata": {},
   "outputs": [
    {
     "name": "stdout",
     "output_type": "stream",
     "text": [
      "Node(level=-1, x0=[ 0  1  2  5  7  8  9 13 14 16 17 18 19], x1=[ 3  4  6 10 11 12 15], val=2475.0, lb=None, x_lb=None, lambd=None)\n"
     ]
    }
   ],
   "source": [
    "print(bb.best)"
   ]
  },
  {
   "cell_type": "code",
   "execution_count": 6,
   "metadata": {},
   "outputs": [
    {
     "data": {
      "text/plain": [
       "(array([ 3,  4,  6, 10, 11, 12, 15], dtype=int64),\n",
       " 'Node(level=-1, x0=[ 0  1  2  5  7  8  9 13 14 16 17 18 19], x1=[ 3  4  6 10 11 12 15], val=2475.0, lb=None, x_lb=None, lambd=None)')"
      ]
     },
     "execution_count": 6,
     "metadata": {},
     "output_type": "execute_result"
    }
   ],
   "source": [
    "bb.best.x1, str(bb.best)"
   ]
  },
  {
   "cell_type": "code",
   "execution_count": 7,
   "metadata": {},
   "outputs": [
    {
     "data": {
      "text/plain": [
       "array([0., 0., 0., 1., 1., 0., 1., 0., 0., 0., 1., 1., 1., 0., 0., 1., 0.,\n",
       "       0., 0., 0.])"
      ]
     },
     "execution_count": 7,
     "metadata": {},
     "output_type": "execute_result"
    }
   ],
   "source": [
    "x = np.zeros(A.shape[-1])\n",
    "x[bb.best.x1] = 1\n",
    "x"
   ]
  },
  {
   "cell_type": "code",
   "execution_count": 8,
   "metadata": {},
   "outputs": [
    {
     "data": {
      "text/plain": [
       "array([ True,  True,  True,  True,  True,  True,  True,  True,  True,\n",
       "        True])"
      ]
     },
     "execution_count": 8,
     "metadata": {},
     "output_type": "execute_result"
    }
   ],
   "source": [
    "A @ x >= b"
   ]
  },
  {
   "cell_type": "code",
   "execution_count": 9,
   "metadata": {},
   "outputs": [
    {
     "data": {
      "text/plain": [
       "2475.0"
      ]
     },
     "execution_count": 9,
     "metadata": {},
     "output_type": "execute_result"
    }
   ],
   "source": [
    "np.sum(A, axis=0) @ x"
   ]
  },
  {
   "cell_type": "code",
   "execution_count": null,
   "metadata": {},
   "outputs": [],
   "source": [
    "bb.node_count"
   ]
  },
  {
   "cell_type": "code",
   "execution_count": null,
   "metadata": {},
   "outputs": [],
   "source": [
    "2 ** 20"
   ]
  },
  {
   "cell_type": "code",
   "execution_count": null,
   "metadata": {},
   "outputs": [],
   "source": [
    "import gurobipy as gp\n",
    "import numpy as np\n",
    "from gurobipy import GRB\n",
    "\n",
    "m = gp.Model(\"mip\")\n",
    "x = m.addMVar(A.shape[-1], vtype=GRB.BINARY, name=\"x\")\n",
    "m.setObjective(np.sum(A, axis=0) @ x)\n",
    "m.addConstr(A @ x >= b)\n",
    "\n",
    "m.optimize()\n",
    "res = []\n",
    "for v in m.getVars():\n",
    "    res.append(v.x)\n",
    "m.getObjective().getValue(), res"
   ]
  },
  {
   "cell_type": "code",
   "execution_count": null,
   "metadata": {},
   "outputs": [],
   "source": [
    "x = np.array(res)"
   ]
  },
  {
   "cell_type": "code",
   "execution_count": null,
   "metadata": {},
   "outputs": [],
   "source": [
    "A @ x >= b"
   ]
  },
  {
   "cell_type": "code",
   "execution_count": null,
   "metadata": {},
   "outputs": [],
   "source": [
    "np.sum(A, axis=0) @ x"
   ]
  },
  {
   "cell_type": "code",
   "execution_count": null,
   "metadata": {},
   "outputs": [],
   "source": []
  },
  {
   "cell_type": "code",
   "execution_count": 7,
   "metadata": {},
   "outputs": [],
   "source": [
    "def subgrad_opt_up(\n",
    "        A, b, ub, x0, x1, node=None, lambd=None,\n",
    "        f=2, k=5, eps=0.005, omega=200):\n",
    "    \"\"\"Return the lower bound obtained by determining\n",
    "    the Lagrangean multipliers of the Lagrangean relaxation\n",
    "    of a problem by way of a subgradient optimization algorithm.\n",
    "\n",
    "    The algorithm also sets the Lagrangean multipliers values \n",
    "    inside the node.\n",
    "    \n",
    "    Parameters\n",
    "    ----------\n",
    "    A : np.ndarray\n",
    "        Matrix of the left-hand side of the problem.\n",
    "\n",
    "    b : np.ndarray\n",
    "        Array of the right-hand side of the problem.\n",
    "\n",
    "    ub : int\n",
    "        Value of the incumbent upper bound.\n",
    "\n",
    "    x0 : list of int\n",
    "        Indices of variables fixed to 0 in the current node.\n",
    "\n",
    "    x1 : list of int\n",
    "        Indices of variables fixed to 1 in the current node.\n",
    "\n",
    "    node : Node\n",
    "        Current node of the branch-and-bound data structure.\n",
    "\n",
    "    lambd : np.ndarray\n",
    "        Optional starting Lagrangean multipliers values.\n",
    "        When this parameter is None, a vector full of zero\n",
    "        values is used as starting point.\n",
    "\n",
    "    f : float\n",
    "        Parameter of the subgradient optimization algorithm.\n",
    "\n",
    "    k : int\n",
    "        Number of iterations without change in the lower bound\n",
    "        after which the value of f is halved.\n",
    "\n",
    "    eps : float\n",
    "        Value of step length (sigma) under which the algorithm \n",
    "        terminates.\n",
    "\n",
    "    omega : int\n",
    "        Maximum number of iterations.\n",
    "\n",
    "    Returns\n",
    "    -------\n",
    "    lb : int\n",
    "        Value of the computed lower bound.\n",
    "    \"\"\"\n",
    "    lambd = np.zeros(A.shape[0]) if lambd is None else lambd\n",
    "    lb = 0\n",
    "\n",
    "    # When the upper bound is infinite, the computation\n",
    "    # of sigma below will return an invalid value. \n",
    "    # Therefore, we set the upper bound as the total\n",
    "    # cost of the columns, which corresponds to the value\n",
    "    # of a feasible solution when the problem is feasible.\n",
    "    if ub == np.inf:\n",
    "        ub = np.sum(A)\n",
    "\n",
    "    unchanged = 0\n",
    "    t = 0\n",
    "    lambd_best = lambd\n",
    "    x_best = None\n",
    "    while (ub > lb):\n",
    "        rc = (1 - lambd) @ A\n",
    "        x = np.where(rc < 0, 1, 0)\n",
    "        x[x0] = 0\n",
    "        x[x1] = 1\n",
    "        L = rc @ x + lambd @ b\n",
    "        g = b - A @ x\n",
    "        if L > lb:\n",
    "            lb = L\n",
    "            lambd_best = lambd\n",
    "            x_best = x\n",
    "            unchanged = 0\n",
    "        else:\n",
    "            unchanged += 1\n",
    "        if unchanged == k:\n",
    "            unchanged = 0\n",
    "            f /= 2\n",
    "        sigma = f * (ub - lb) / np.linalg.norm(g) ** 2\n",
    "        lambd = np.maximum(\n",
    "            np.zeros_like(lambd), lambd + sigma * g)\n",
    "        lambd = np.minimum(\n",
    "            np.ones_like(lambd), lambd)\n",
    "\n",
    "        t += 1\n",
    "        if sigma < eps or t > omega:\n",
    "            break\n",
    "    \n",
    "    if node is not None:\n",
    "        node.set_x_lb(x_best)\n",
    "        node.set_lambd(lambd_best)\n",
    "\n",
    "    return lb, lambd\n",
    "\n",
    "def subgrad_opt(\n",
    "        A, b, ub, x0, x1, node=None, lambd=None,\n",
    "        f=2, k=5, eps=0.005, omega=200):\n",
    "    \"\"\"Return the lower bound obtained by determining\n",
    "    the Lagrangean multipliers of the Lagrangean relaxation\n",
    "    of a problem by way of a subgradient optimization algorithm.\n",
    "\n",
    "    The algorithm also sets the Lagrangean multipliers values \n",
    "    inside the node.\n",
    "    \n",
    "    Parameters\n",
    "    ----------\n",
    "    A : np.ndarray\n",
    "        Matrix of the left-hand side of the problem.\n",
    "\n",
    "    b : np.ndarray\n",
    "        Array of the right-hand side of the problem.\n",
    "\n",
    "    ub : int\n",
    "        Value of the incumbent upper bound.\n",
    "\n",
    "    x0 : list of int\n",
    "        Indices of variables fixed to 0 in the current node.\n",
    "\n",
    "    x1 : list of int\n",
    "        Indices of variables fixed to 1 in the current node.\n",
    "\n",
    "    node : Node\n",
    "        Current node of the branch-and-bound data structure.\n",
    "\n",
    "    lambd : np.ndarray\n",
    "        Optional starting Lagrangean multipliers values.\n",
    "        When this parameter is None, a vector full of zero\n",
    "        values is used as starting point.\n",
    "\n",
    "    f : float\n",
    "        Parameter of the subgradient optimization algorithm.\n",
    "\n",
    "    k : int\n",
    "        Number of iterations without change in the lower bound\n",
    "        after which the value of f is halved.\n",
    "\n",
    "    eps : float\n",
    "        Value of step length (sigma) under which the algorithm \n",
    "        terminates.\n",
    "\n",
    "    omega : int\n",
    "        Maximum number of iterations.\n",
    "\n",
    "    Returns\n",
    "    -------\n",
    "    lb : int\n",
    "        Value of the computed lower bound.\n",
    "    \"\"\"\n",
    "    lambd = np.zeros(A.shape[0]) if lambd is None else lambd\n",
    "    lb = 0\n",
    "\n",
    "    # When the upper bound is infinite, the computation\n",
    "    # of sigma below will return an invalid value. \n",
    "    # Therefore, we set the upper bound as the total\n",
    "    # cost of the columns, which corresponds to the value\n",
    "    # of a feasible solution when the problem is feasible.\n",
    "    if ub == np.inf:\n",
    "        ub = np.sum(A)\n",
    "\n",
    "    unchanged = 0\n",
    "    t = 0\n",
    "    lambd_best = lambd\n",
    "    x_best = None\n",
    "    while (ub > lb):\n",
    "        rc = (1 - lambd) @ A\n",
    "        x = np.where(rc < 0, 1, 0)\n",
    "        x[x0] = 0\n",
    "        x[x1] = 1\n",
    "        L = rc @ x + lambd @ b\n",
    "        g = b - A @ x\n",
    "        if L > lb:\n",
    "            lb = L\n",
    "            lambd_best = lambd\n",
    "            x_best = x\n",
    "            unchanged = 0\n",
    "        else:\n",
    "            unchanged += 1\n",
    "        if unchanged == k:\n",
    "            unchanged = 0\n",
    "            f /= 2\n",
    "        sigma = f * (ub - lb) / np.linalg.norm(g) ** 2\n",
    "        lambd = np.maximum(\n",
    "            np.zeros_like(lambd), lambd + sigma * g)\n",
    "\n",
    "        t += 1\n",
    "        if sigma < eps or t > omega:\n",
    "            break\n",
    "    \n",
    "    if node is not None:\n",
    "        node.set_x_lb(x_best)\n",
    "        node.set_lambd(lambd_best)\n",
    "\n",
    "    return lb, lambd"
   ]
  },
  {
   "cell_type": "code",
   "execution_count": 3,
   "metadata": {},
   "outputs": [],
   "source": [
    "A = np.array([[1, 2, 3], [3, 1, 4], [2, 2, 2]])\n",
    "b = np.array([2, 5, 1])"
   ]
  },
  {
   "cell_type": "code",
   "execution_count": 5,
   "metadata": {},
   "outputs": [],
   "source": [
    "ub = np.sum(A)"
   ]
  },
  {
   "cell_type": "code",
   "execution_count": 6,
   "metadata": {},
   "outputs": [
    {
     "data": {
      "text/plain": [
       "(8.0, array([1., 1., 1.]))"
      ]
     },
     "execution_count": 6,
     "metadata": {},
     "output_type": "execute_result"
    }
   ],
   "source": [
    "subgrad_opt_up(A, b, ub, [], [])"
   ]
  },
  {
   "cell_type": "code",
   "execution_count": 10,
   "metadata": {},
   "outputs": [
    {
     "data": {
      "text/plain": [
       "(10.498, array([0.004, 2.256, 0.   ]))"
      ]
     },
     "execution_count": 10,
     "metadata": {},
     "output_type": "execute_result"
    }
   ],
   "source": [
    "z, l = subgrad_opt(A, b, ub, [], [])\n",
    "z.round(3), l.round(3)"
   ]
  },
  {
   "cell_type": "code",
   "execution_count": null,
   "metadata": {},
   "outputs": [],
   "source": [
    "version"
   ]
  }
 ],
 "metadata": {
  "kernelspec": {
   "display_name": "p3.11",
   "language": "python",
   "name": "python3"
  },
  "language_info": {
   "codemirror_mode": {
    "name": "ipython",
    "version": 3
   },
   "file_extension": ".py",
   "mimetype": "text/x-python",
   "name": "python",
   "nbconvert_exporter": "python",
   "pygments_lexer": "ipython3",
   "version": "3.11.2"
  },
  "orig_nbformat": 4
 },
 "nbformat": 4,
 "nbformat_minor": 2
}
