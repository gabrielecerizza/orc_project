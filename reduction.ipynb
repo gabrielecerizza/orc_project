{
 "cells": [
  {
   "cell_type": "code",
   "execution_count": 1,
   "metadata": {},
   "outputs": [],
   "source": [
    "import numpy as np"
   ]
  },
  {
   "cell_type": "code",
   "execution_count": null,
   "metadata": {},
   "outputs": [],
   "source": [
    "def lagr_penalties(node, A, ub):\n",
    "    lb = node.get_lb()\n",
    "    rc = (1 - node.get_lambd()) @ A\n",
    "    fix0, fix1 = [], []\n",
    "\n",
    "    for j in range(A.shape[-1]):\n",
    "        if rc[j] >= 0 and lb + rc[j] > ub:\n",
    "            fix0.append(j)\n",
    "        elif rc[j] < 0 and lb - rc[j] > ub:\n",
    "            fix1.append(j)\n",
    "\n",
    "    node.add_to_x0(fix0)\n",
    "    node.add_to_x1(fix1)\n"
   ]
  }
 ],
 "metadata": {
  "kernelspec": {
   "display_name": "p3.11",
   "language": "python",
   "name": "python3"
  },
  "language_info": {
   "codemirror_mode": {
    "name": "ipython",
    "version": 3
   },
   "file_extension": ".py",
   "mimetype": "text/x-python",
   "name": "python",
   "nbconvert_exporter": "python",
   "pygments_lexer": "ipython3",
   "version": "3.11.2"
  },
  "orig_nbformat": 4
 },
 "nbformat": 4,
 "nbformat_minor": 2
}
